{
  "nbformat": 4,
  "nbformat_minor": 0,
  "metadata": {
    "colab": {
      "provenance": [],
      "gpuType": "T4"
    },
    "kernelspec": {
      "name": "python3",
      "display_name": "Python 3"
    },
    "language_info": {
      "name": "python"
    },
    "accelerator": "GPU"
  },
  "cells": [
    {
      "cell_type": "code",
      "source": [
        "!pip install sdv # install the synthetic data vault library"
      ],
      "metadata": {
        "colab": {
          "base_uri": "https://localhost:8080/"
        },
        "id": "uxVLhCf28m0e",
        "outputId": "16d86504-1d2e-400f-a4cb-99744b0ffb7a"
      },
      "execution_count": null,
      "outputs": [
        {
          "output_type": "stream",
          "name": "stdout",
          "text": [
            "Requirement already satisfied: sdv in /usr/local/lib/python3.11/dist-packages (1.24.0)\n",
            "Requirement already satisfied: boto3<2.0.0,>=1.28 in /usr/local/lib/python3.11/dist-packages (from sdv) (1.39.3)\n",
            "Requirement already satisfied: botocore<2.0.0,>=1.31 in /usr/local/lib/python3.11/dist-packages (from sdv) (1.39.3)\n",
            "Requirement already satisfied: cloudpickle>=2.1.0 in /usr/local/lib/python3.11/dist-packages (from sdv) (3.1.1)\n",
            "Requirement already satisfied: graphviz>=0.13.2 in /usr/local/lib/python3.11/dist-packages (from sdv) (0.21)\n",
            "Requirement already satisfied: numpy>=1.24.0 in /usr/local/lib/python3.11/dist-packages (from sdv) (2.0.2)\n",
            "Requirement already satisfied: pandas>=1.5.0 in /usr/local/lib/python3.11/dist-packages (from sdv) (2.2.2)\n",
            "Requirement already satisfied: tqdm>=4.29 in /usr/local/lib/python3.11/dist-packages (from sdv) (4.67.1)\n",
            "Requirement already satisfied: copulas>=0.12.1 in /usr/local/lib/python3.11/dist-packages (from sdv) (0.12.3)\n",
            "Requirement already satisfied: ctgan>=0.11.0 in /usr/local/lib/python3.11/dist-packages (from sdv) (0.11.0)\n",
            "Requirement already satisfied: deepecho>=0.7.0 in /usr/local/lib/python3.11/dist-packages (from sdv) (0.7.0)\n",
            "Requirement already satisfied: rdt>=1.17.0 in /usr/local/lib/python3.11/dist-packages (from sdv) (1.17.1)\n",
            "Requirement already satisfied: sdmetrics>=0.21.0 in /usr/local/lib/python3.11/dist-packages (from sdv) (0.21.0)\n",
            "Requirement already satisfied: platformdirs>=4.0 in /usr/local/lib/python3.11/dist-packages (from sdv) (4.3.8)\n",
            "Requirement already satisfied: pyyaml>=6.0.1 in /usr/local/lib/python3.11/dist-packages (from sdv) (6.0.2)\n",
            "Requirement already satisfied: jmespath<2.0.0,>=0.7.1 in /usr/local/lib/python3.11/dist-packages (from boto3<2.0.0,>=1.28->sdv) (1.0.1)\n",
            "Requirement already satisfied: s3transfer<0.14.0,>=0.13.0 in /usr/local/lib/python3.11/dist-packages (from boto3<2.0.0,>=1.28->sdv) (0.13.0)\n",
            "Requirement already satisfied: python-dateutil<3.0.0,>=2.1 in /usr/local/lib/python3.11/dist-packages (from botocore<2.0.0,>=1.31->sdv) (2.9.0.post0)\n",
            "Requirement already satisfied: urllib3!=2.2.0,<3,>=1.25.4 in /usr/local/lib/python3.11/dist-packages (from botocore<2.0.0,>=1.31->sdv) (2.4.0)\n",
            "Requirement already satisfied: plotly>=5.10.0 in /usr/local/lib/python3.11/dist-packages (from copulas>=0.12.1->sdv) (5.24.1)\n",
            "Requirement already satisfied: scipy>=1.9.2 in /usr/local/lib/python3.11/dist-packages (from copulas>=0.12.1->sdv) (1.15.3)\n",
            "Requirement already satisfied: torch>=2.0.0 in /usr/local/lib/python3.11/dist-packages (from ctgan>=0.11.0->sdv) (2.6.0+cu124)\n",
            "Requirement already satisfied: pytz>=2020.1 in /usr/local/lib/python3.11/dist-packages (from pandas>=1.5.0->sdv) (2025.2)\n",
            "Requirement already satisfied: tzdata>=2022.7 in /usr/local/lib/python3.11/dist-packages (from pandas>=1.5.0->sdv) (2025.2)\n",
            "Requirement already satisfied: scikit-learn>=1.1.3 in /usr/local/lib/python3.11/dist-packages (from rdt>=1.17.0->sdv) (1.6.1)\n",
            "Requirement already satisfied: Faker>=17 in /usr/local/lib/python3.11/dist-packages (from rdt>=1.17.0->sdv) (37.4.0)\n",
            "Requirement already satisfied: tenacity>=6.2.0 in /usr/local/lib/python3.11/dist-packages (from plotly>=5.10.0->copulas>=0.12.1->sdv) (8.5.0)\n",
            "Requirement already satisfied: packaging in /usr/local/lib/python3.11/dist-packages (from plotly>=5.10.0->copulas>=0.12.1->sdv) (24.2)\n",
            "Requirement already satisfied: six>=1.5 in /usr/local/lib/python3.11/dist-packages (from python-dateutil<3.0.0,>=2.1->botocore<2.0.0,>=1.31->sdv) (1.17.0)\n",
            "Requirement already satisfied: joblib>=1.2.0 in /usr/local/lib/python3.11/dist-packages (from scikit-learn>=1.1.3->rdt>=1.17.0->sdv) (1.5.1)\n",
            "Requirement already satisfied: threadpoolctl>=3.1.0 in /usr/local/lib/python3.11/dist-packages (from scikit-learn>=1.1.3->rdt>=1.17.0->sdv) (3.6.0)\n",
            "Requirement already satisfied: filelock in /usr/local/lib/python3.11/dist-packages (from torch>=2.0.0->ctgan>=0.11.0->sdv) (3.18.0)\n",
            "Requirement already satisfied: typing-extensions>=4.10.0 in /usr/local/lib/python3.11/dist-packages (from torch>=2.0.0->ctgan>=0.11.0->sdv) (4.14.0)\n",
            "Requirement already satisfied: networkx in /usr/local/lib/python3.11/dist-packages (from torch>=2.0.0->ctgan>=0.11.0->sdv) (3.5)\n",
            "Requirement already satisfied: jinja2 in /usr/local/lib/python3.11/dist-packages (from torch>=2.0.0->ctgan>=0.11.0->sdv) (3.1.6)\n",
            "Requirement already satisfied: fsspec in /usr/local/lib/python3.11/dist-packages (from torch>=2.0.0->ctgan>=0.11.0->sdv) (2025.3.2)\n",
            "Requirement already satisfied: nvidia-cuda-nvrtc-cu12==12.4.127 in /usr/local/lib/python3.11/dist-packages (from torch>=2.0.0->ctgan>=0.11.0->sdv) (12.4.127)\n",
            "Requirement already satisfied: nvidia-cuda-runtime-cu12==12.4.127 in /usr/local/lib/python3.11/dist-packages (from torch>=2.0.0->ctgan>=0.11.0->sdv) (12.4.127)\n",
            "Requirement already satisfied: nvidia-cuda-cupti-cu12==12.4.127 in /usr/local/lib/python3.11/dist-packages (from torch>=2.0.0->ctgan>=0.11.0->sdv) (12.4.127)\n",
            "Requirement already satisfied: nvidia-cudnn-cu12==9.1.0.70 in /usr/local/lib/python3.11/dist-packages (from torch>=2.0.0->ctgan>=0.11.0->sdv) (9.1.0.70)\n",
            "Requirement already satisfied: nvidia-cublas-cu12==12.4.5.8 in /usr/local/lib/python3.11/dist-packages (from torch>=2.0.0->ctgan>=0.11.0->sdv) (12.4.5.8)\n",
            "Requirement already satisfied: nvidia-cufft-cu12==11.2.1.3 in /usr/local/lib/python3.11/dist-packages (from torch>=2.0.0->ctgan>=0.11.0->sdv) (11.2.1.3)\n",
            "Requirement already satisfied: nvidia-curand-cu12==10.3.5.147 in /usr/local/lib/python3.11/dist-packages (from torch>=2.0.0->ctgan>=0.11.0->sdv) (10.3.5.147)\n",
            "Requirement already satisfied: nvidia-cusolver-cu12==11.6.1.9 in /usr/local/lib/python3.11/dist-packages (from torch>=2.0.0->ctgan>=0.11.0->sdv) (11.6.1.9)\n",
            "Requirement already satisfied: nvidia-cusparse-cu12==12.3.1.170 in /usr/local/lib/python3.11/dist-packages (from torch>=2.0.0->ctgan>=0.11.0->sdv) (12.3.1.170)\n",
            "Requirement already satisfied: nvidia-cusparselt-cu12==0.6.2 in /usr/local/lib/python3.11/dist-packages (from torch>=2.0.0->ctgan>=0.11.0->sdv) (0.6.2)\n",
            "Requirement already satisfied: nvidia-nccl-cu12==2.21.5 in /usr/local/lib/python3.11/dist-packages (from torch>=2.0.0->ctgan>=0.11.0->sdv) (2.21.5)\n",
            "Requirement already satisfied: nvidia-nvtx-cu12==12.4.127 in /usr/local/lib/python3.11/dist-packages (from torch>=2.0.0->ctgan>=0.11.0->sdv) (12.4.127)\n",
            "Requirement already satisfied: nvidia-nvjitlink-cu12==12.4.127 in /usr/local/lib/python3.11/dist-packages (from torch>=2.0.0->ctgan>=0.11.0->sdv) (12.4.127)\n",
            "Requirement already satisfied: triton==3.2.0 in /usr/local/lib/python3.11/dist-packages (from torch>=2.0.0->ctgan>=0.11.0->sdv) (3.2.0)\n",
            "Requirement already satisfied: sympy==1.13.1 in /usr/local/lib/python3.11/dist-packages (from torch>=2.0.0->ctgan>=0.11.0->sdv) (1.13.1)\n",
            "Requirement already satisfied: mpmath<1.4,>=1.1.0 in /usr/local/lib/python3.11/dist-packages (from sympy==1.13.1->torch>=2.0.0->ctgan>=0.11.0->sdv) (1.3.0)\n",
            "Requirement already satisfied: MarkupSafe>=2.0 in /usr/local/lib/python3.11/dist-packages (from jinja2->torch>=2.0.0->ctgan>=0.11.0->sdv) (3.0.2)\n"
          ]
        }
      ]
    },
    {
      "cell_type": "code",
      "source": [
        "import numpy as np\n",
        "import matplotlib.pyplot as plt\n",
        "from skimage import data\n",
        "from skimage.color import rgb2gray\n",
        "from skimage.transform import resize\n",
        "import pandas as pd\n",
        "# import torch.nn.functional as F\n",
        "\n",
        "\n",
        "import pandas as pd\n",
        "import numpy as np\n",
        "import math\n",
        "\n",
        "# import scikit-learn preprocessing\n",
        "from sklearn.preprocessing import LabelEncoder, QuantileTransformer,PowerTransformer\n",
        "\n",
        "# import pytorch libraries\n",
        "import torch\n",
        "from torch import nn\n",
        "from torch.utils.data import DataLoader, TensorDataset\n",
        "import torch.optim as optim\n",
        "from torch.optim.lr_scheduler import CosineAnnealingLR\n",
        "\n",
        "# import synthetic data value libraries\n",
        "from sdv.metadata import SingleTableMetadata\n",
        "import sdv.evaluation.single_table as sdv_st\n",
        "\n",
        "# import utility libs\n",
        "from tqdm import tqdm\n",
        "import xlrd\n",
        "import requests\n",
        "from io import BytesIO\n",
        "from zipfile import ZipFile\n",
        "from datetime import datetime\n",
        "\n",
        "# import visualization libraries\n",
        "import matplotlib.pyplot as plt\n",
        "import seaborn as sns\n"
      ],
      "metadata": {
        "id": "USDi-w0b8n_N"
      },
      "execution_count": null,
      "outputs": []
    },
    {
      "cell_type": "code",
      "source": [
        "# set random seed\n",
        "seed= 1234\n",
        "\n",
        "# set dimension of categorical embedding\n",
        "cat_emb_dim= 2\n",
        "\n",
        "# set number of neurons per layes\n",
        "mlp_layers=[1024,1024,1024,1024]\n",
        "\n",
        "# set non-linear activation function\n",
        "activation='lrelu'\n",
        "\n",
        "# set number of diffusion steps\n",
        "diffusion_steps= 1000\n",
        "\n",
        "# set diffusion stop and end betas\n",
        "diffusion_beta_start= 1e-4\n",
        "diffusion_beta_end= 0.02\n",
        "\n",
        "# set diffusion scheduler\n",
        "scheduler= 'exp'\n",
        "\n",
        "# set number of training epochs\n",
        "epochs= 500\n",
        "\n",
        "# set the training batch size\n",
        "batch_size= 512\n",
        "\n",
        "# set the training learning rate\n",
        "learning_rate= 1e-4\n",
        "\n",
        "# set the device\n",
        "device= torch.device(\"cuda:0\" if torch.cuda.is_available() else \"cpu\").type\n",
        "\n",
        "beta_start=1e-4\n",
        "beta_end=0.02\n",
        "\n",
        "# set numpy seed\n",
        "np.random.seed(seed)\n",
        "\n",
        "# set pytorch seed\n",
        "torch.manual_seed(seed)\n",
        "\n",
        "# set cuda seed\n",
        "torch.cuda.manual_seed(seed)"
      ],
      "metadata": {
        "id": "vViwUR_88qg9"
      },
      "execution_count": null,
      "outputs": []
    },
    {
      "cell_type": "markdown",
      "source": [
        "## Data prepration"
      ],
      "metadata": {
        "id": "xMsnPzbJ8vIc"
      }
    },
    {
      "cell_type": "code",
      "source": [
        "# define a preproces data function\n",
        "\n",
        "\n",
        "from datetime import datetime\n",
        "import calendar\n",
        "import numpy as np\n",
        "import pandas as pd\n",
        "import random\n",
        "import os\n",
        "import numpy as np\n",
        "import tensorflow as tf\n",
        "\n",
        "# Set seeds\n",
        "random.seed(0)\n",
        "np.random.seed(0)\n",
        "tf.random.set_seed(0)\n",
        "os.environ['TF_DETERMINISTIC_OPS'] = '1'\n",
        "\n",
        "\n",
        "def preprocess_data_czech(df):\n",
        "    #df = pd.read_csv('tr_by_acct_w_age.csv')\n",
        "\n",
        "    czech_date_parser = lambda x: datetime.strptime(str(x), \"%y%m%d\")\n",
        "    df[\"datetime\"] = df[\"date\"].apply(czech_date_parser)\n",
        "    #df[\"datetime\"] = pd.to_datetime(df[\"datetime\"])\n",
        "\n",
        "    df[\"month\"] = df[\"datetime\"].dt.month\n",
        "    df[\"day\"] = df[\"datetime\"].dt.day\n",
        "    df[\"dow\"] =  df[\"datetime\"].dt.dayofweek\n",
        "    df[\"year\"] = df[\"datetime\"].dt.year\n",
        "    df[\"doy\"] = df[\"datetime\"].dt.dayofyear\n",
        "\n",
        "    df[\"td\"] = df[[\"account_id\", \"datetime\"]].groupby(\"account_id\").diff()\n",
        "    df[\"td\"] = df[\"td\"].apply(lambda x: x.days)\n",
        "    df[\"td\"].fillna(0.0, inplace=True)\n",
        "\n",
        "\n",
        "    # dtme - days till month end\n",
        "    df[\"dtme\"] = df.datetime.apply(lambda dt: calendar.monthrange(dt.year, dt.month)[1] - dt.day)\n",
        "\n",
        "    df['raw_amount'] = df.apply(lambda row: row['amount'] if row['type'] == 'CREDIT' else -row['amount'], axis=1)\n",
        "\n",
        "\n",
        "    cat_code_fields = ['type', 'operation', 'k_symbol']\n",
        "    TCODE_SEP = \"__\"\n",
        "    # create tcode by concating fields in \"cat_code_fields\"\n",
        "    tcode = df[cat_code_fields[0]].astype(str)\n",
        "    for ccf in cat_code_fields[1:]:\n",
        "        tcode += TCODE_SEP + df[ccf].astype(str)\n",
        "\n",
        "    df[\"tcode\"] = tcode\n",
        "\n",
        "    conditions = [\n",
        "    (df['day'] >= 1) & (df['day'] <= 10),\n",
        "    (df['day'] > 10) & (df['day'] <= 20),\n",
        "    (df['day'] > 20) & (df['day'] <= 31)\n",
        "      ]\n",
        "\n",
        "    categories = ['first', 'middle', 'last']\n",
        "\n",
        "    # Use numpy.select() to map the numbers to categories\n",
        "    df['DoM_cat'] = np.select(conditions, categories, default='unknown')\n",
        "\n",
        "\n",
        "    bin_edges = [17, 30, 40, 50, 60, 81]\n",
        "    labels = ['18-30', '31-40', '41-50', '51-60', '61+']\n",
        "\n",
        "    # Use pd.cut() to convert ages to categorical groups\n",
        "    df['age_group'] = pd.cut(df['age'], bins=bin_edges, labels=labels, right=False)\n",
        "    df['age_group'] = df['age_group'].astype('object')\n",
        "\n",
        "    result = df.groupby('account_id')['datetime'].agg(['min', 'max'])\n",
        "    result['duration'] = result['max'] - result['min']\n",
        "    result_sorted = result.sort_values('duration', ascending=False)\n",
        "\n",
        "    df['log_amount'] = np.log10(df['amount'] + 1)\n",
        "    LOG_AMOUNT_SCALE = df['log_amount'].std()\n",
        "    df['log_amount_sc'] = df['log_amount']/ LOG_AMOUNT_SCALE\n",
        "    TD_SCALE = df['td'].std()\n",
        "    df['td_sc'] = df['td']/TD_SCALE\n",
        "\n",
        "    return df, LOG_AMOUNT_SCALE , TD_SCALE"
      ],
      "metadata": {
        "id": "mRJuqyQ38xEH"
      },
      "execution_count": null,
      "outputs": []
    },
    {
      "cell_type": "code",
      "source": [
        "real = pd.read_csv('tr_by_acct_w_age.csv')\n",
        "real = real.sort_values(by = [\"account_id\", \"date\"])\n",
        "raw_data, LOG_AMOUNT_SCALE, TD_SCALE = preprocess_data_czech(real)\n",
        "\n",
        "\n",
        "\n",
        "all_real = raw_data[['account_id', 'tcode', 'datetime', 'amount', 'td', 'day', 'month', 'year']]\n",
        "all_real['type'] = all_real['tcode'].str.split('__').str[0]\n",
        "all_real['raw_amount'] = all_real.apply(lambda row: row['amount'] if row['type'] == 'CREDIT' else -row['amount'], axis=1)\n",
        "all_real_cf = all_real[[\"account_id\", \"month\", \"raw_amount\", \"year\"]].groupby([\"account_id\", \"month\", \"year\"],as_index=False)[\"raw_amount\"].sum()"
      ],
      "metadata": {
        "colab": {
          "base_uri": "https://localhost:8080/"
        },
        "id": "I4JlRQOq8rE9",
        "outputId": "c99c09b3-fcc3-4ac5-ad42-a638e0c39dda"
      },
      "execution_count": null,
      "outputs": [
        {
          "output_type": "stream",
          "name": "stderr",
          "text": [
            "/tmp/ipython-input-4-3939612794.py:35: FutureWarning: A value is trying to be set on a copy of a DataFrame or Series through chained assignment using an inplace method.\n",
            "The behavior will change in pandas 3.0. This inplace method will never work because the intermediate object on which we are setting values always behaves as a copy.\n",
            "\n",
            "For example, when doing 'df[col].method(value, inplace=True)', try using 'df.method({col: value}, inplace=True)' or df[col] = df[col].method(value) instead, to perform the operation inplace on the original object.\n",
            "\n",
            "\n",
            "  df[\"td\"].fillna(0.0, inplace=True)\n"
          ]
        }
      ]
    },
    {
      "cell_type": "markdown",
      "source": [
        "## Model"
      ],
      "metadata": {
        "id": "29XLNcth847s"
      }
    },
    {
      "cell_type": "code",
      "source": [
        "import numpy as np\n",
        "from sklearn.preprocessing import (\n",
        "    MinMaxScaler, StandardScaler, RobustScaler,\n",
        "    QuantileTransformer, PowerTransformer,\n",
        "    PolynomialFeatures, KBinsDiscretizer, SplineTransformer\n",
        ")\n",
        "from scipy import stats"
      ],
      "metadata": {
        "id": "uUFzGBpZu4j-"
      },
      "execution_count": null,
      "outputs": []
    },
    {
      "cell_type": "code",
      "source": [
        "class RobustQuantileTransformer:\n",
        "    \"\"\"Combined robust and quantile transformation\"\"\"\n",
        "\n",
        "    def __init__(self, quantile_range=(5, 95), output_distribution='normal'):\n",
        "        self.quantile_range = quantile_range\n",
        "        self.output_distribution = output_distribution\n",
        "        self.robust_scaler = RobustScaler(quantile_range=quantile_range)\n",
        "        self.quantile_transformer = QuantileTransformer(\n",
        "            output_distribution=output_distribution,\n",
        "            random_state=42\n",
        "        )\n",
        "\n",
        "    def fit(self, X):\n",
        "        # First apply robust scaling to handle outliers\n",
        "        X_robust = self.robust_scaler.fit_transform(X)\n",
        "        # Then apply quantile transformation\n",
        "        self.quantile_transformer.fit(X_robust)\n",
        "        return self\n",
        "\n",
        "    def transform(self, X):\n",
        "        X_robust = self.robust_scaler.transform(X)\n",
        "        return self.quantile_transformer.transform(X_robust)\n",
        "\n",
        "    def inverse_transform(self, X):\n",
        "        X_inv_quantile = self.quantile_transformer.inverse_transform(X)\n",
        "        return self.robust_scaler.inverse_transform(X_inv_quantile)"
      ],
      "metadata": {
        "id": "AsdKmbjsOnnw"
      },
      "execution_count": null,
      "outputs": []
    },
    {
      "cell_type": "code",
      "source": [
        "from scipy.stats import norm, rankdata\n",
        "import numpy as np\n",
        "\n",
        "class CustomQuantileGaussianTransformer:\n",
        "    def fit(self, X):\n",
        "        X = np.asarray(X)\n",
        "        self.n_samples_, self.n_features_ = X.shape\n",
        "        self.sorted_X_ = []\n",
        "        for i in range(self.n_features_):\n",
        "            col = X[:, i]\n",
        "            self.sorted_X_.append(np.sort(col))\n",
        "        return self\n",
        "\n",
        "    def transform(self, X):\n",
        "        X = np.asarray(X)\n",
        "        X_out = np.zeros_like(X, dtype=float)\n",
        "        for i in range(X.shape[1]):\n",
        "            ranks = rankdata(X[:, i], method='average') / (len(X[:, i]) + 1)\n",
        "            X_out[:, i] = norm.ppf(ranks)\n",
        "        return X_out\n",
        "\n",
        "    def inverse_transform(self, X_transformed):\n",
        "        X_transformed = np.asarray(X_transformed)\n",
        "        X_out = np.zeros_like(X_transformed, dtype=float)\n",
        "        for i in range(X_transformed.shape[1]):\n",
        "            uniform_vals = norm.cdf(X_transformed[:, i])\n",
        "            percentiles = np.linspace(0, 1, self.n_samples_, endpoint=False) + 0.5 / self.n_samples_\n",
        "            X_out[:, i] = np.interp(uniform_vals, percentiles, self.sorted_X_[i])\n",
        "        return X_out\n"
      ],
      "metadata": {
        "id": "xjxkdkNIQQfU"
      },
      "execution_count": null,
      "outputs": []
    },
    {
      "cell_type": "code",
      "source": [
        "# @title Default title text\n",
        "# This version also act good\n",
        "\n",
        "# seed = 1234\n",
        "# random.seed(seed)\n",
        "# np.random.seed(seed)\n",
        "# torch.manual_seed(seed)\n",
        "# device = torch.device(\"cuda:0\" if torch.cuda.is_available() else \"cpu\")\n",
        "\n",
        "# # Model hyperparameters\n",
        "# sequence_length = 80\n",
        "# min_seq_length = 80\n",
        "# cat_emb_dim = 4\n",
        "# mlp_layers = [128, 128]\n",
        "# diffusion_steps = 500  # Reduced for efficiency\n",
        "# epochs = 50  # Reduced for efficiency\n",
        "# batch_size = 256\n",
        "# learning_rate = 2e-4\n",
        "# n_sequences = 5000\n",
        "\n",
        "# # Date constraints\n",
        "# MIN_YEAR = 1993\n",
        "# MAX_YEAR = 1998\n",
        "\n",
        "# {'jsd': 0.17666379079128386,\n",
        "#  'entr_r': np.float64(4.142583700511794),\n",
        "#  'entr_g': np.float64(4.998523941057718),\n",
        "#  'NED': np.float64(-0.855940240545924),\n",
        "#  'l1': np.float64(0.9483875141141689),\n",
        "#  'l2': 0.12218879424693639,\n",
        "#  'jac': np.float64(0.06481481481481481),\n",
        "#  'count_r': 202,\n",
        "#  'coverage_r': 0.9351851851851852,\n",
        "#  'count_g': 216,\n",
        "#  'coverage_g': 1.0,\n",
        "#  'count_max': 216,\n",
        "#  'field': 'tcode',\n",
        "#  'n': 3,\n",
        "#  'pseudo_counts': 0.0}\n",
        "\n",
        "\n",
        "# {'amount': {'wasser': np.float64(682.1070215071861),\n",
        "#   'ks': np.float64(0.140266349591033),\n",
        "#   'energy_d': np.float64(9.15508966232386)},\n",
        "#  'td': {'wasser': np.float64(0.48902485913359595),\n",
        "#   'ks': np.float64(0.11245570205998183),\n",
        "#   'energy_d': np.float64(0.19747738204716697)},\n",
        "#  'CF': {'wasser': np.float64(13021.12391497244),\n",
        "#   'ks': np.float64(0.32986821530718735),\n",
        "#   'energy_d': np.float64(67.69154098302828)}}\n",
        "\n",
        "\n",
        "#   {'tcode': 0.03598723757365223,\n",
        "#  'day': 0.0644653630179872,\n",
        "#  'month': 0.011520275842911602}\n",
        "\n",
        "\n",
        "\n",
        "# the best parame is the following one:\n",
        "\n",
        "# seed = 1234\n",
        "# random.seed(seed)\n",
        "# np.random.seed(seed)\n",
        "# torch.manual_seed(seed)\n",
        "# device = torch.device(\"cuda:0\" if torch.cuda.is_available() else \"cpu\")\n",
        "\n",
        "# # Model hyperparameters\n",
        "# sequence_length = 80\n",
        "# min_seq_length = 20\n",
        "# cat_emb_dim = 4\n",
        "# mlp_layers = [128, 128]\n",
        "# diffusion_steps = 1000  # Reduced for efficiency\n",
        "# epochs = 50  # Reduced for efficiency\n",
        "# batch_size = 256\n",
        "# learning_rate = 2e-4\n",
        "# n_sequences = 5000\n",
        "\n",
        "# # Date constraints\n",
        "# MIN_YEAR = 1993\n",
        "# MAX_YEAR = 1998\n",
        "\n",
        "# last updated best params:\n",
        "\n",
        "# seed = 1234\n",
        "# random.seed(seed)\n",
        "# np.random.seed(seed)\n",
        "# torch.manual_seed(seed)\n",
        "# device = torch.device(\"cuda:0\" if torch.cuda.is_available() else \"cpu\")\n",
        "\n",
        "# # Model hyperparameters\n",
        "# sequence_length = 80\n",
        "# min_seq_length = 20\n",
        "# cat_emb_dim = 4\n",
        "# mlp_layers = [128, 128]\n",
        "# diffusion_steps = 1000  # Reduced for efficiency\n",
        "# epochs = 50  # Reduced for efficiency\n",
        "# batch_size = 512\n",
        "# learning_rate = 2e-4\n",
        "# n_sequences = 5000\n",
        "\n",
        "# # Date constraints\n",
        "# MIN_YEAR = 1993\n",
        "# MAX_YEAR = 1998\n",
        "\n",
        "\n",
        "import torch\n",
        "import torch.nn as nn\n",
        "import torch.optim as optim\n",
        "from torch.utils.data import Dataset, DataLoader\n",
        "from torch.optim.lr_scheduler import CosineAnnealingLR\n",
        "from sklearn.preprocessing import LabelEncoder, QuantileTransformer,FunctionTransformer\n",
        "\n",
        "\n",
        "import pandas as pd\n",
        "import numpy as np\n",
        "import math\n",
        "import random\n",
        "import os\n",
        "from datetime import datetime, timedelta\n",
        "import calendar\n",
        "from tqdm import tqdm\n",
        "from scipy import stats\n",
        "import warnings\n",
        "warnings.filterwarnings('ignore')\n",
        "\n",
        "# Quality evaluation imports\n",
        "from sdv.metadata import SingleTableMetadata\n",
        "from sdv import evaluation\n",
        "\n",
        "# =============================================================================\n",
        "# CONFIGURATION\n",
        "# =============================================================================\n",
        "seed = 1234\n",
        "random.seed(seed)\n",
        "np.random.seed(seed)\n",
        "torch.manual_seed(seed)\n",
        "device = torch.device(\"cuda:0\" if torch.cuda.is_available() else \"cpu\")\n",
        "\n",
        "# Model hyperparameters\n",
        "sequence_length = 80\n",
        "min_seq_length = 20\n",
        "cat_emb_dim = 4\n",
        "mlp_layers = [128, 128]\n",
        "diffusion_steps = 1000  # Reduced for efficiency\n",
        "epochs = 50  # Reduced for efficiency\n",
        "batch_size = 512\n",
        "learning_rate = 2e-4\n",
        "n_sequences = 5000\n",
        "\n",
        "# Date constraints\n",
        "# MIN_YEAR = 1993\n",
        "# MAX_YEAR = 1998\n",
        "# =============================================================================\n",
        "# STUDENT-T DISTRIBUTION DDPM DIFFUSER (Condensed)\n",
        "# =============================================================================\n",
        "class StudentTDDPMDiffuser(object):\n",
        "    def __init__(self, total_steps=1000, beta_start=1e-4, beta_end=0.02, device='cpu', df=10):\n",
        "        self.total_steps = total_steps\n",
        "        self.device = device\n",
        "        self.df = df\n",
        "\n",
        "        # Exponential schedule\n",
        "        scale = 1000 / total_steps\n",
        "        betas = torch.exp(torch.linspace(math.log(scale * beta_start),\n",
        "                                        math.log(scale * beta_end), total_steps))\n",
        "        self.alphas = (1.0 - betas).to(device)\n",
        "        self.betas = betas.to(device)\n",
        "        self.alphas_hat = torch.cumprod(self.alphas, dim=0)\n",
        "\n",
        "    def sample_random_timesteps(self, n: int):\n",
        "        return torch.randint(low=1, high=self.total_steps, size=(n,), device=self.device)\n",
        "\n",
        "    def sample_student_t(self, shape):\n",
        "        x = torch.randn(shape, device=self.device)\n",
        "        df_sample = max(3.0, float(self.df))\n",
        "        gamma_shape = df_sample / 2.0\n",
        "        gamma_samples = torch.tensor(stats.gamma.rvs(gamma_shape, scale=2.0, size=shape[0]),\n",
        "                                   dtype=torch.float32, device=self.device).view(-1, 1, 1)\n",
        "        scaling = torch.sqrt(torch.tensor(df_sample / (df_sample - 2.0), device=self.device))\n",
        "        return scaling * x / torch.sqrt(gamma_samples / df_sample)\n",
        "\n",
        "    def add_t_noise(self, x_num, t):\n",
        "        sqrt_alpha_hat = torch.sqrt(self.alphas_hat[t])[:, None, None]\n",
        "        sqrt_one_minus_alpha_hat = torch.sqrt(1 - self.alphas_hat[t])[:, None, None]\n",
        "        noise_num = self.sample_student_t(x_num.shape)\n",
        "        return sqrt_alpha_hat * x_num + sqrt_one_minus_alpha_hat * noise_num, noise_num\n",
        "\n",
        "    def sample(self, model_out, z_norm, timesteps):\n",
        "        sqrt_alpha_t = torch.sqrt(self.alphas[timesteps])[:, None, None]\n",
        "        betas_t = self.betas[timesteps][:, None, None]\n",
        "        sqrt_one_minus_alpha_hat_t = torch.sqrt(1 - self.alphas_hat[timesteps])[:, None, None]\n",
        "        epsilon_t = torch.sqrt(self.betas[timesteps][:, None, None])\n",
        "\n",
        "        random_noise = self.sample_student_t(z_norm.shape)\n",
        "        random_noise[timesteps == 0] = 0.0\n",
        "\n",
        "        model_mean = ((1 / sqrt_alpha_t) * (z_norm - (betas_t * model_out / sqrt_one_minus_alpha_hat_t)))\n",
        "        return model_mean + (epsilon_t * random_noise)\n",
        "\n",
        "# =============================================================================\n",
        "# DATA PREPROCESSING (Streamlined)\n",
        "# =============================================================================\n",
        "# def preprocess_data_czech(df):\n",
        "#     czech_date_parser = lambda x: datetime.strptime(str(x), \"%y%m%d\")\n",
        "#     df[\"datetime\"] = df[\"date\"].apply(czech_date_parser)\n",
        "#     df[\"month\"] = df[\"datetime\"].dt.month\n",
        "#     df[\"day\"] = df[\"datetime\"].dt.day\n",
        "#     df[\"dow\"] = df[\"datetime\"].dt.dayofweek\n",
        "#     df[\"year\"] = df[\"datetime\"].dt.year\n",
        "\n",
        "#     df_sorted = df.sort_values(['account_id', 'datetime']).copy()\n",
        "#     df_sorted[\"td\"] = df_sorted.groupby(\"account_id\")[\"datetime\"].diff().dt.days.fillna(0.0)\n",
        "#     df_sorted['raw_amount'] = df_sorted.apply(\n",
        "#         lambda row: row['amount'] if row['type'] == 'CREDIT' else -row['amount'], axis=1)\n",
        "\n",
        "#     # Simplified transaction code\n",
        "#     df_sorted[\"tcode\"] = df_sorted['type'].astype(str) + \"__\" + df_sorted['operation'].astype(str)\n",
        "\n",
        "#     # Day categories\n",
        "#     conditions = [(df_sorted['day'] <= 10), (df_sorted['day'] <= 20)]\n",
        "#     categories = ['first', 'middle', 'last']\n",
        "#     df_sorted['DoM_cat'] = np.select(conditions, categories[:2], default='last')\n",
        "\n",
        "#     return df_sorted\n",
        "\n",
        "# define a preproces data function\n",
        "\n",
        "\n",
        "from datetime import datetime\n",
        "import calendar\n",
        "import numpy as np\n",
        "import pandas as pd\n",
        "import random\n",
        "import os\n",
        "import numpy as np\n",
        "import tensorflow as tf\n",
        "\n",
        "# Set seeds\n",
        "random.seed(0)\n",
        "np.random.seed(0)\n",
        "tf.random.set_seed(0)\n",
        "os.environ['TF_DETERMINISTIC_OPS'] = '1'\n",
        "\n",
        "\n",
        "def preprocess_data_czech(df):\n",
        "    #df = pd.read_csv('tr_by_acct_w_age.csv')\n",
        "\n",
        "    czech_date_parser = lambda x: datetime.strptime(str(x), \"%y%m%d\")\n",
        "    df[\"datetime\"] = df[\"date\"].apply(czech_date_parser)\n",
        "    #df[\"datetime\"] = pd.to_datetime(df[\"datetime\"])\n",
        "\n",
        "    df[\"month\"] = df[\"datetime\"].dt.month\n",
        "    df[\"day\"] = df[\"datetime\"].dt.day\n",
        "    df[\"dow\"] =  df[\"datetime\"].dt.dayofweek\n",
        "    df[\"year\"] = df[\"datetime\"].dt.year\n",
        "    df[\"doy\"] = df[\"datetime\"].dt.dayofyear\n",
        "\n",
        "    df[\"td\"] = df[[\"account_id\", \"datetime\"]].groupby(\"account_id\").diff()\n",
        "    df[\"td\"] = df[\"td\"].apply(lambda x: x.days)\n",
        "    df[\"td\"].fillna(0.0, inplace=True)\n",
        "\n",
        "\n",
        "    # dtme - days till month end\n",
        "    df[\"dtme\"] = df.datetime.apply(lambda dt: calendar.monthrange(dt.year, dt.month)[1] - dt.day)\n",
        "\n",
        "    df['raw_amount'] = df.apply(lambda row: row['amount'] if row['type'] == 'CREDIT' else -row['amount'], axis=1)\n",
        "\n",
        "\n",
        "    cat_code_fields = ['type', 'operation', 'k_symbol']\n",
        "    TCODE_SEP = \"__\"\n",
        "    # create tcode by concating fields in \"cat_code_fields\"\n",
        "    tcode = df[cat_code_fields[0]].astype(str)\n",
        "    for ccf in cat_code_fields[1:]:\n",
        "        tcode += TCODE_SEP + df[ccf].astype(str)\n",
        "\n",
        "    df[\"tcode\"] = tcode\n",
        "\n",
        "    conditions = [\n",
        "    (df['day'] >= 1) & (df['day'] <= 10),\n",
        "    (df['day'] > 10) & (df['day'] <= 20),\n",
        "    (df['day'] > 20) & (df['day'] <= 31)\n",
        "      ]\n",
        "\n",
        "    categories = ['first', 'middle', 'last']\n",
        "\n",
        "    # Use numpy.select() to map the numbers to categories\n",
        "    df['DoM_cat'] = np.select(conditions, categories, default='unknown')\n",
        "\n",
        "\n",
        "    bin_edges = [17, 30, 40, 50, 60, 81]\n",
        "    labels = ['18-30', '31-40', '41-50', '51-60', '61+']\n",
        "\n",
        "    # Use pd.cut() to convert ages to categorical groups\n",
        "    df['age_group'] = pd.cut(df['age'], bins=bin_edges, labels=labels, right=False)\n",
        "    df['age_group'] = df['age_group'].astype('object')\n",
        "\n",
        "    result = df.groupby('account_id')['datetime'].agg(['min', 'max'])\n",
        "    result['duration'] = result['max'] - result['min']\n",
        "    result_sorted = result.sort_values('duration', ascending=False)\n",
        "\n",
        "    df['log_amount'] = np.log10(df['amount'] + 1)\n",
        "    LOG_AMOUNT_SCALE = df['log_amount'].std()\n",
        "    df['log_amount_sc'] = df['log_amount']/ LOG_AMOUNT_SCALE\n",
        "    TD_SCALE = df['td'].std()\n",
        "    df['td_sc'] = df['td']/TD_SCALE\n",
        "    df_sorted=df\n",
        "\n",
        "    return df_sorted\n",
        "\n",
        "# =============================================================================\n",
        "# DATASET (Simplified)\n",
        "# =============================================================================\n",
        "class TemporalSequentialDataset(Dataset):\n",
        "    def __init__(self, df, cat_attrs, num_attrs, sequence_length=30, min_seq_length=20):\n",
        "        self.sequences = []\n",
        "        for account_id in tqdm(df['account_id'].unique(), desc=\"Creating sequences\"):\n",
        "            account_data = df[df['account_id'] == account_id].sort_values('datetime').reset_index(drop=True)\n",
        "            if len(account_data) >= min_seq_length:\n",
        "                for start_idx in range(0, len(account_data) - sequence_length + 1, sequence_length//2):\n",
        "                    seq_data = account_data.iloc[start_idx:start_idx+sequence_length]\n",
        "                    self.sequences.append({\n",
        "                        'cat_data': seq_data[cat_attrs].values,\n",
        "                        'num_data': seq_data[num_attrs].values\n",
        "                    })\n",
        "\n",
        "    def __len__(self):\n",
        "        return len(self.sequences)\n",
        "\n",
        "    def __getitem__(self, idx):\n",
        "        seq = self.sequences[idx]\n",
        "        return torch.LongTensor(seq['cat_data']), torch.FloatTensor(seq['num_data'])\n",
        "\n",
        "# =============================================================================\n",
        "# MODEL (Condensed)\n",
        "# =============================================================================\n",
        "class TemporalLSTMSynthesizer(nn.Module):\n",
        "    def __init__(self, n_cat_features, n_cat_tokens, cat_emb_dim, n_num_features, hidden_dim=128):\n",
        "        super().__init__()\n",
        "        self.n_cat_features = n_cat_features\n",
        "        self.n_num_features = n_num_features\n",
        "\n",
        "        self.cat_embeddings = nn.ModuleList([\n",
        "            nn.Embedding(n_cat_tokens[i], cat_emb_dim) for i in range(n_cat_features)\n",
        "        ])\n",
        "\n",
        "        total_input_dim = n_cat_features * cat_emb_dim + n_num_features\n",
        "\n",
        "        self.time_embed = nn.Sequential(\n",
        "            nn.Linear(64, hidden_dim), nn.SiLU(), nn.Linear(hidden_dim, hidden_dim)\n",
        "        )\n",
        "        self.input_projection = nn.Linear(total_input_dim, hidden_dim)\n",
        "        self.lstm = nn.LSTM(hidden_dim, hidden_dim, 2, batch_first=True, dropout=0.1)\n",
        "\n",
        "        self.cat_heads = nn.ModuleList([\n",
        "            nn.Linear(hidden_dim, n_cat_tokens[i]) for i in range(n_cat_features)\n",
        "        ])\n",
        "        self.num_head = nn.Linear(hidden_dim, n_num_features)\n",
        "\n",
        "    def embed_time(self, timesteps, dim_out=64):\n",
        "        half = dim_out // 2\n",
        "        freqs = torch.exp(-math.log(1000) * torch.arange(0, half, dtype=torch.float32) / half).to(timesteps.device)\n",
        "        args = timesteps[:, None].float() * freqs[None]\n",
        "        return torch.cat([torch.cos(args), torch.sin(args)], dim=-1)\n",
        "\n",
        "    def forward(self, x_cat, x_num, timesteps):\n",
        "        batch_size, seq_len, _ = x_num.shape\n",
        "\n",
        "        # Embed categorical\n",
        "        cat_emb = torch.cat([self.cat_embeddings[i](x_cat[:, :, i])\n",
        "                           for i in range(self.n_cat_features)], dim=-1)\n",
        "\n",
        "        # Combine features\n",
        "        x = torch.cat([cat_emb, x_num], dim=-1)\n",
        "        x_proj = self.input_projection(x)\n",
        "\n",
        "        # Add time embedding\n",
        "        time_emb = self.time_embed(self.embed_time(timesteps))\n",
        "        x_with_time = x_proj + time_emb.unsqueeze(1).expand(-1, seq_len, -1)\n",
        "\n",
        "        # LSTM processing\n",
        "        lstm_out, _ = self.lstm(x_with_time)\n",
        "\n",
        "        # Generate outputs\n",
        "        cat_outputs = [head(lstm_out) for head in self.cat_heads]\n",
        "        num_output = self.num_head(lstm_out)\n",
        "\n",
        "        return cat_outputs, num_output\n",
        "\n",
        "# =============================================================================\n",
        "# TRAINING (Streamlined)\n",
        "# =============================================================================\n",
        "def train_model(model, diffuser, dataloader, epochs, optimizer, scheduler):\n",
        "    model.train()\n",
        "    cat_criterion = nn.CrossEntropyLoss()\n",
        "    num_criterion = nn.MSELoss()\n",
        "\n",
        "    for epoch in range(epochs):\n",
        "        epoch_loss = 0.0\n",
        "        for batch_cat, batch_num in tqdm(dataloader, desc=f\"Epoch {epoch+1}\"):\n",
        "            batch_cat, batch_num = batch_cat.to(device), batch_num.to(device)\n",
        "            timesteps = diffuser.sample_random_timesteps(batch_cat.shape[0])\n",
        "            noisy_num, noise_target = diffuser.add_t_noise(batch_num, timesteps)\n",
        "\n",
        "            cat_outputs, num_output = model(batch_cat, noisy_num, timesteps)\n",
        "\n",
        "            cat_loss = sum(cat_criterion(cat_out.view(-1, cat_out.size(-1)),\n",
        "                                       batch_cat[:, :, i].view(-1))\n",
        "                          for i, cat_out in enumerate(cat_outputs))\n",
        "            num_loss = num_criterion(num_output, noise_target)\n",
        "            total_loss = cat_loss + num_loss\n",
        "\n",
        "            optimizer.zero_grad()\n",
        "            total_loss.backward()\n",
        "            torch.nn.utils.clip_grad_norm_(model.parameters(), 1.0)\n",
        "            optimizer.step()\n",
        "            epoch_loss += total_loss.item()\n",
        "\n",
        "        print(f\"Epoch {epoch+1} - Loss: {epoch_loss/len(dataloader):.4f}\")\n",
        "        scheduler.step()\n",
        "\n",
        "# =============================================================================\n",
        "# GENERATION WITH DATE CONSTRAINTS\n",
        "# =============================================================================\n",
        "def generate_sequences(model, diffuser, n_sequences, seq_len, n_cat_features, n_cat_tokens, n_num_features):\n",
        "    model.eval()\n",
        "\n",
        "    x_cat = torch.zeros(n_sequences, seq_len, n_cat_features, dtype=torch.long, device=device)\n",
        "    for i, n_tokens in enumerate(n_cat_tokens):\n",
        "        x_cat[:, :, i] = torch.randint(0, n_tokens, (n_sequences, seq_len), device=device)\n",
        "\n",
        "    x_num = diffuser.sample_student_t((n_sequences, seq_len, n_num_features))\n",
        "\n",
        "    with torch.no_grad():\n",
        "        for t in tqdm(reversed(range(diffuser.total_steps)), desc=\"Generating\"):\n",
        "            timesteps = torch.full((n_sequences,), t, device=device, dtype=torch.long)\n",
        "            cat_outputs, num_output = model(x_cat, x_num, timesteps)\n",
        "            x_num = diffuser.sample(num_output, x_num, timesteps)\n",
        "\n",
        "            if t % 100 == 0:\n",
        "                for i, cat_out in enumerate(cat_outputs):\n",
        "                    probs = torch.softmax(cat_out, dim=-1)\n",
        "                    x_cat[:, :, i] = torch.multinomial(probs.view(-1, probs.size(-1)), 1).view(n_sequences, seq_len)\n",
        "\n",
        "    return x_cat, x_num\n",
        "\n",
        "def create_dataframe_with_date_constraints(generated_cat, generated_num, cat_attrs, num_attrs,\n",
        "                                         label_encoders, num_scaler):\n",
        "    \"\"\"Create dataframe with dates constrained to 1993-1998\"\"\"\n",
        "    final_sequences = []\n",
        "\n",
        "    for seq_idx in range(generated_cat.shape[0]):\n",
        "        seq_num = num_scaler.inverse_transform(generated_num[seq_idx].cpu().numpy())\n",
        "        seq_cat = generated_cat[seq_idx].cpu().numpy()\n",
        "\n",
        "        seq_df = pd.DataFrame()\n",
        "\n",
        "        # Add numerical features\n",
        "        for i, col in enumerate(num_attrs):\n",
        "            seq_df[col] = seq_num[:, i]\n",
        "\n",
        "        # Add categorical features\n",
        "        for i, col in enumerate(cat_attrs):\n",
        "            seq_df[col] = label_encoders[col].inverse_transform(seq_cat[:, i])\n",
        "\n",
        "        # seq_df['datetime'] = dates\n",
        "        seq_df['account_id'] = seq_idx + 1000  # Start from 1000 to avoid conflicts\n",
        "\n",
        "        final_sequences.append(seq_df)\n",
        "\n",
        "    return pd.concat(final_sequences, ignore_index=True)\n",
        "\n",
        "# =============================================================================\n",
        "# MAIN EXECUTION\n",
        "# =============================================================================\n",
        "if __name__ == \"__main__\":\n",
        "    print(\"Loading data...\")\n",
        "    try:\n",
        "        real = pd.read_csv('tr_by_acct_w_age.csv')\n",
        "    except FileNotFoundError:\n",
        "        print(\"Error: CSV file not found.\")\n",
        "        exit()\n",
        "\n",
        "    # Preprocess\n",
        "    raw_data = preprocess_data_czech(real)\n",
        "    cat_attrs = ['tcode', 'dow', 'month', 'day', 'year', 'DoM_cat']\n",
        "    num_attrs = ['amount', 'raw_amount', 'td']\n",
        "\n",
        "    df_processed = raw_data[cat_attrs + num_attrs + ['account_id', 'datetime']].copy()\n",
        "\n",
        "    # Encode features\n",
        "    label_encoders = {}\n",
        "    n_cat_tokens = []\n",
        "    for attr in cat_attrs:\n",
        "        le = LabelEncoder()\n",
        "        df_processed[attr] = le.fit_transform(df_processed[attr].astype(str))\n",
        "        label_encoders[attr] = le\n",
        "        n_cat_tokens.append(len(le.classes_))\n",
        "\n",
        "    num_scaler = QuantileTransformer(output_distribution='normal', random_state=seed)\n",
        "    df_processed[num_attrs] = num_scaler.fit_transform(df_processed[num_attrs])\n",
        "\n",
        "    # num_scaler = FunctionTransformer(func=np.cbrt)\n",
        "    # df_processed[num_attrs] = num_scaler.fit_transform(df_processed[num_attrs])\n",
        "\n",
        "\n",
        "\n",
        "\n",
        "    # num_scaler = CustomQuantileGaussianTransformer()\n",
        "    # num_scaler.fit(df_processed[num_attrs])\n",
        "    # df_processed[num_attrs] = num_scaler.transform(df_processed[num_attrs])\n",
        "\n",
        "    # num_scaler = CustomQuantileGaussianTransformer()\n",
        "    # num_scaler.fit(df_processed[num_attrs].values)\n",
        "\n",
        "    # df_processed[num_attrs] = num_scaler.transform(df_processed[num_attrs].values)\n",
        "\n",
        "\n",
        "\n",
        "    # num_scaler = MinMaxScaler()\n",
        "    # df_processed[num_attrs] = num_scaler.fit_transform(df_processed[num_attrs])\n",
        "\n",
        "    # num_scaler = StandardScaler()\n",
        "    # df_processed[num_attrs] = num_scaler.fit_transform(df_processed[num_attrs])\n",
        "\n",
        "    # num_scaler = RobustScaler()\n",
        "    # df_processed[num_attrs] = num_scaler.fit_transform(df_processed[num_attrs])\n",
        "\n",
        "    # num_scaler = PowerTransformer(method='yeo-johnson', standardize=True)\n",
        "    # # X_pos = X + 1  # ensure all values are positive\n",
        "    # df_processed[num_attrs] = num_scaler.fit_transform(df_processed[num_attrs])\n",
        "\n",
        "\n",
        "\n",
        "\n",
        "\n",
        "    # Create dataset and model\n",
        "    dataset = TemporalSequentialDataset(df_processed, cat_attrs, num_attrs, sequence_length, min_seq_length)\n",
        "    dataloader = DataLoader(dataset, batch_size=batch_size, shuffle=True)\n",
        "\n",
        "    model = TemporalLSTMSynthesizer(\n",
        "        n_cat_features=len(cat_attrs), n_cat_tokens=n_cat_tokens,\n",
        "        cat_emb_dim=cat_emb_dim, n_num_features=len(num_attrs)\n",
        "    ).to(device)\n",
        "\n",
        "    diffuser = StudentTDDPMDiffuser(device=device)\n",
        "    optimizer = optim.AdamW(model.parameters(), lr=learning_rate, weight_decay=1e-4)\n",
        "    scheduler = CosineAnnealingLR(optimizer, T_max=epochs)\n",
        "\n",
        "    print(f\"Training model with {sum(p.numel() for p in model.parameters() if p.requires_grad):,} parameters...\")\n",
        "\n",
        "    # Train\n",
        "    train_model(model, diffuser, dataloader, epochs, optimizer, scheduler)\n",
        "\n",
        "    # Generate with date constraints\n",
        "    print(\"Generating sequences with 1993-1998 date constraints...\")\n",
        "    generated_cat, generated_num = generate_sequences(\n",
        "        model, diffuser, n_sequences, sequence_length,\n",
        "        len(cat_attrs), n_cat_tokens, len(num_attrs)\n",
        "    )\n",
        "\n",
        "    # Create final dataframe with date constraints\n",
        "    synth_data = create_dataframe_with_date_constraints(\n",
        "        generated_cat, generated_num, cat_attrs, num_attrs,\n",
        "        label_encoders, num_scaler\n",
        "    )\n",
        "\n",
        "    # Prepare data for quality evaluation\n",
        "    synth_sorted = synth_data[['account_id', 'raw_amount', 'amount', 'td', 'tcode', 'year','day','month']].copy()\n",
        "    synth_sorted = synth_sorted.dropna()\n",
        "\n",
        "    # Prepare real data for comparison (same columns)\n",
        "    real_comparison = raw_data[['account_id', 'raw_amount', 'amount', 'td', 'tcode', 'year','day','month']].copy()\n",
        "    real_comparison = real_comparison.dropna()\n",
        "\n",
        "    print(f\"\\nGenerated data shape: {synth_sorted.shape}\")\n",
        "    # print(f\"Date range: {synth_sorted['datetime'].min()} to {synth_sorted['datetime'].max()}\")\n",
        "    print(\"\\nSample generated data:\")\n",
        "    print(synth_sorted.head(10))\n",
        "\n",
        "\n",
        "    synth_sorted.to_csv('synthetic_transactions_1993_1998.csv', index=False)\n",
        "    # print(f\"\\nSynthetic data saved! Dates constrained to {MIN_YEAR}-{MAX_YEAR}\")\n",
        "\n",
        "\n"
      ],
      "metadata": {
        "colab": {
          "base_uri": "https://localhost:8080/"
        },
        "id": "A3HH0cjD86DO",
        "outputId": "ba144478-18a9-4d0a-fc8a-83b56b2b6173"
      },
      "execution_count": null,
      "outputs": [
        {
          "output_type": "stream",
          "name": "stdout",
          "text": [
            "Loading data...\n"
          ]
        },
        {
          "output_type": "stream",
          "name": "stderr",
          "text": [
            "Creating sequences: 100%|██████████| 4500/4500 [00:25<00:00, 176.65it/s]\n"
          ]
        },
        {
          "output_type": "stream",
          "name": "stdout",
          "text": [
            "Training model with 302,970 parameters...\n"
          ]
        },
        {
          "output_type": "stream",
          "name": "stderr",
          "text": [
            "Epoch 1: 100%|██████████| 39/39 [00:02<00:00, 17.43it/s]\n"
          ]
        },
        {
          "output_type": "stream",
          "name": "stdout",
          "text": [
            "Epoch 1 - Loss: 14.6634\n"
          ]
        },
        {
          "output_type": "stream",
          "name": "stderr",
          "text": [
            "Epoch 2: 100%|██████████| 39/39 [00:02<00:00, 18.09it/s]\n"
          ]
        },
        {
          "output_type": "stream",
          "name": "stdout",
          "text": [
            "Epoch 2 - Loss: 13.1258\n"
          ]
        },
        {
          "output_type": "stream",
          "name": "stderr",
          "text": [
            "Epoch 3: 100%|██████████| 39/39 [00:02<00:00, 18.18it/s]\n"
          ]
        },
        {
          "output_type": "stream",
          "name": "stdout",
          "text": [
            "Epoch 3 - Loss: 12.0383\n"
          ]
        },
        {
          "output_type": "stream",
          "name": "stderr",
          "text": [
            "Epoch 4: 100%|██████████| 39/39 [00:02<00:00, 18.07it/s]\n"
          ]
        },
        {
          "output_type": "stream",
          "name": "stdout",
          "text": [
            "Epoch 4 - Loss: 11.1301\n"
          ]
        },
        {
          "output_type": "stream",
          "name": "stderr",
          "text": [
            "Epoch 5: 100%|██████████| 39/39 [00:02<00:00, 16.60it/s]\n"
          ]
        },
        {
          "output_type": "stream",
          "name": "stdout",
          "text": [
            "Epoch 5 - Loss: 10.1871\n"
          ]
        },
        {
          "output_type": "stream",
          "name": "stderr",
          "text": [
            "Epoch 6: 100%|██████████| 39/39 [00:02<00:00, 17.94it/s]\n"
          ]
        },
        {
          "output_type": "stream",
          "name": "stdout",
          "text": [
            "Epoch 6 - Loss: 9.2010\n"
          ]
        },
        {
          "output_type": "stream",
          "name": "stderr",
          "text": [
            "Epoch 7: 100%|██████████| 39/39 [00:02<00:00, 18.01it/s]\n"
          ]
        },
        {
          "output_type": "stream",
          "name": "stdout",
          "text": [
            "Epoch 7 - Loss: 8.3603\n"
          ]
        },
        {
          "output_type": "stream",
          "name": "stderr",
          "text": [
            "Epoch 8: 100%|██████████| 39/39 [00:02<00:00, 17.82it/s]\n"
          ]
        },
        {
          "output_type": "stream",
          "name": "stdout",
          "text": [
            "Epoch 8 - Loss: 7.6467\n"
          ]
        },
        {
          "output_type": "stream",
          "name": "stderr",
          "text": [
            "Epoch 9: 100%|██████████| 39/39 [00:02<00:00, 17.91it/s]\n"
          ]
        },
        {
          "output_type": "stream",
          "name": "stdout",
          "text": [
            "Epoch 9 - Loss: 7.0338\n"
          ]
        },
        {
          "output_type": "stream",
          "name": "stderr",
          "text": [
            "Epoch 10: 100%|██████████| 39/39 [00:02<00:00, 17.30it/s]\n"
          ]
        },
        {
          "output_type": "stream",
          "name": "stdout",
          "text": [
            "Epoch 10 - Loss: 6.4933\n"
          ]
        },
        {
          "output_type": "stream",
          "name": "stderr",
          "text": [
            "Epoch 11: 100%|██████████| 39/39 [00:02<00:00, 16.78it/s]\n"
          ]
        },
        {
          "output_type": "stream",
          "name": "stdout",
          "text": [
            "Epoch 11 - Loss: 6.0182\n"
          ]
        },
        {
          "output_type": "stream",
          "name": "stderr",
          "text": [
            "Epoch 12: 100%|██████████| 39/39 [00:02<00:00, 17.86it/s]\n"
          ]
        },
        {
          "output_type": "stream",
          "name": "stdout",
          "text": [
            "Epoch 12 - Loss: 5.6243\n"
          ]
        },
        {
          "output_type": "stream",
          "name": "stderr",
          "text": [
            "Epoch 13: 100%|██████████| 39/39 [00:02<00:00, 17.92it/s]\n"
          ]
        },
        {
          "output_type": "stream",
          "name": "stdout",
          "text": [
            "Epoch 13 - Loss: 5.2687\n"
          ]
        },
        {
          "output_type": "stream",
          "name": "stderr",
          "text": [
            "Epoch 14: 100%|██████████| 39/39 [00:02<00:00, 16.63it/s]\n"
          ]
        },
        {
          "output_type": "stream",
          "name": "stdout",
          "text": [
            "Epoch 14 - Loss: 4.9731\n"
          ]
        },
        {
          "output_type": "stream",
          "name": "stderr",
          "text": [
            "Epoch 15: 100%|██████████| 39/39 [00:02<00:00, 17.65it/s]\n"
          ]
        },
        {
          "output_type": "stream",
          "name": "stdout",
          "text": [
            "Epoch 15 - Loss: 4.6955\n"
          ]
        },
        {
          "output_type": "stream",
          "name": "stderr",
          "text": [
            "Epoch 16: 100%|██████████| 39/39 [00:02<00:00, 16.72it/s]\n"
          ]
        },
        {
          "output_type": "stream",
          "name": "stdout",
          "text": [
            "Epoch 16 - Loss: 4.4550\n"
          ]
        },
        {
          "output_type": "stream",
          "name": "stderr",
          "text": [
            "Epoch 17: 100%|██████████| 39/39 [00:02<00:00, 17.67it/s]\n"
          ]
        },
        {
          "output_type": "stream",
          "name": "stdout",
          "text": [
            "Epoch 17 - Loss: 4.2269\n"
          ]
        },
        {
          "output_type": "stream",
          "name": "stderr",
          "text": [
            "Epoch 18: 100%|██████████| 39/39 [00:02<00:00, 18.03it/s]\n"
          ]
        },
        {
          "output_type": "stream",
          "name": "stdout",
          "text": [
            "Epoch 18 - Loss: 4.0191\n"
          ]
        },
        {
          "output_type": "stream",
          "name": "stderr",
          "text": [
            "Epoch 19: 100%|██████████| 39/39 [00:02<00:00, 18.06it/s]\n"
          ]
        },
        {
          "output_type": "stream",
          "name": "stdout",
          "text": [
            "Epoch 19 - Loss: 3.8333\n"
          ]
        },
        {
          "output_type": "stream",
          "name": "stderr",
          "text": [
            "Epoch 20: 100%|██████████| 39/39 [00:02<00:00, 13.39it/s]\n"
          ]
        },
        {
          "output_type": "stream",
          "name": "stdout",
          "text": [
            "Epoch 20 - Loss: 3.6436\n"
          ]
        },
        {
          "output_type": "stream",
          "name": "stderr",
          "text": [
            "Epoch 21: 100%|██████████| 39/39 [00:02<00:00, 17.10it/s]\n"
          ]
        },
        {
          "output_type": "stream",
          "name": "stdout",
          "text": [
            "Epoch 21 - Loss: 3.4818\n"
          ]
        },
        {
          "output_type": "stream",
          "name": "stderr",
          "text": [
            "Epoch 22: 100%|██████████| 39/39 [00:02<00:00, 17.29it/s]\n"
          ]
        },
        {
          "output_type": "stream",
          "name": "stdout",
          "text": [
            "Epoch 22 - Loss: 3.3178\n"
          ]
        },
        {
          "output_type": "stream",
          "name": "stderr",
          "text": [
            "Epoch 23: 100%|██████████| 39/39 [00:02<00:00, 18.20it/s]\n"
          ]
        },
        {
          "output_type": "stream",
          "name": "stdout",
          "text": [
            "Epoch 23 - Loss: 3.1721\n"
          ]
        },
        {
          "output_type": "stream",
          "name": "stderr",
          "text": [
            "Epoch 24: 100%|██████████| 39/39 [00:02<00:00, 18.21it/s]\n"
          ]
        },
        {
          "output_type": "stream",
          "name": "stdout",
          "text": [
            "Epoch 24 - Loss: 3.0531\n"
          ]
        },
        {
          "output_type": "stream",
          "name": "stderr",
          "text": [
            "Epoch 25: 100%|██████████| 39/39 [00:02<00:00, 18.05it/s]\n"
          ]
        },
        {
          "output_type": "stream",
          "name": "stdout",
          "text": [
            "Epoch 25 - Loss: 2.9351\n"
          ]
        },
        {
          "output_type": "stream",
          "name": "stderr",
          "text": [
            "Epoch 26: 100%|██████████| 39/39 [00:02<00:00, 18.15it/s]\n"
          ]
        },
        {
          "output_type": "stream",
          "name": "stdout",
          "text": [
            "Epoch 26 - Loss: 2.8427\n"
          ]
        },
        {
          "output_type": "stream",
          "name": "stderr",
          "text": [
            "Epoch 27: 100%|██████████| 39/39 [00:02<00:00, 16.87it/s]\n"
          ]
        },
        {
          "output_type": "stream",
          "name": "stdout",
          "text": [
            "Epoch 27 - Loss: 2.7539\n"
          ]
        },
        {
          "output_type": "stream",
          "name": "stderr",
          "text": [
            "Epoch 28: 100%|██████████| 39/39 [00:02<00:00, 17.92it/s]\n"
          ]
        },
        {
          "output_type": "stream",
          "name": "stdout",
          "text": [
            "Epoch 28 - Loss: 2.6698\n"
          ]
        },
        {
          "output_type": "stream",
          "name": "stderr",
          "text": [
            "Epoch 29: 100%|██████████| 39/39 [00:02<00:00, 18.20it/s]\n"
          ]
        },
        {
          "output_type": "stream",
          "name": "stdout",
          "text": [
            "Epoch 29 - Loss: 2.6073\n"
          ]
        },
        {
          "output_type": "stream",
          "name": "stderr",
          "text": [
            "Epoch 30: 100%|██████████| 39/39 [00:02<00:00, 18.12it/s]\n"
          ]
        },
        {
          "output_type": "stream",
          "name": "stdout",
          "text": [
            "Epoch 30 - Loss: 2.5546\n"
          ]
        },
        {
          "output_type": "stream",
          "name": "stderr",
          "text": [
            "Epoch 31: 100%|██████████| 39/39 [00:02<00:00, 18.10it/s]\n"
          ]
        },
        {
          "output_type": "stream",
          "name": "stdout",
          "text": [
            "Epoch 31 - Loss: 2.4900\n"
          ]
        },
        {
          "output_type": "stream",
          "name": "stderr",
          "text": [
            "Epoch 32: 100%|██████████| 39/39 [00:02<00:00, 17.74it/s]\n"
          ]
        },
        {
          "output_type": "stream",
          "name": "stdout",
          "text": [
            "Epoch 32 - Loss: 2.4362\n"
          ]
        },
        {
          "output_type": "stream",
          "name": "stderr",
          "text": [
            "Epoch 33: 100%|██████████| 39/39 [00:02<00:00, 16.92it/s]\n"
          ]
        },
        {
          "output_type": "stream",
          "name": "stdout",
          "text": [
            "Epoch 33 - Loss: 2.3947\n"
          ]
        },
        {
          "output_type": "stream",
          "name": "stderr",
          "text": [
            "Epoch 34: 100%|██████████| 39/39 [00:02<00:00, 18.14it/s]\n"
          ]
        },
        {
          "output_type": "stream",
          "name": "stdout",
          "text": [
            "Epoch 34 - Loss: 2.3628\n"
          ]
        },
        {
          "output_type": "stream",
          "name": "stderr",
          "text": [
            "Epoch 35: 100%|██████████| 39/39 [00:02<00:00, 17.97it/s]\n"
          ]
        },
        {
          "output_type": "stream",
          "name": "stdout",
          "text": [
            "Epoch 35 - Loss: 2.3272\n"
          ]
        },
        {
          "output_type": "stream",
          "name": "stderr",
          "text": [
            "Epoch 36: 100%|██████████| 39/39 [00:02<00:00, 18.14it/s]\n"
          ]
        },
        {
          "output_type": "stream",
          "name": "stdout",
          "text": [
            "Epoch 36 - Loss: 2.3044\n"
          ]
        },
        {
          "output_type": "stream",
          "name": "stderr",
          "text": [
            "Epoch 37: 100%|██████████| 39/39 [00:02<00:00, 18.14it/s]\n"
          ]
        },
        {
          "output_type": "stream",
          "name": "stdout",
          "text": [
            "Epoch 37 - Loss: 2.2756\n"
          ]
        },
        {
          "output_type": "stream",
          "name": "stderr",
          "text": [
            "Epoch 38: 100%|██████████| 39/39 [00:02<00:00, 17.27it/s]\n"
          ]
        },
        {
          "output_type": "stream",
          "name": "stdout",
          "text": [
            "Epoch 38 - Loss: 2.2525\n"
          ]
        },
        {
          "output_type": "stream",
          "name": "stderr",
          "text": [
            "Epoch 39: 100%|██████████| 39/39 [00:02<00:00, 17.17it/s]\n"
          ]
        },
        {
          "output_type": "stream",
          "name": "stdout",
          "text": [
            "Epoch 39 - Loss: 2.2394\n"
          ]
        },
        {
          "output_type": "stream",
          "name": "stderr",
          "text": [
            "Epoch 40: 100%|██████████| 39/39 [00:02<00:00, 18.06it/s]\n"
          ]
        },
        {
          "output_type": "stream",
          "name": "stdout",
          "text": [
            "Epoch 40 - Loss: 2.2068\n"
          ]
        },
        {
          "output_type": "stream",
          "name": "stderr",
          "text": [
            "Epoch 41: 100%|██████████| 39/39 [00:02<00:00, 17.99it/s]\n"
          ]
        },
        {
          "output_type": "stream",
          "name": "stdout",
          "text": [
            "Epoch 41 - Loss: 2.2037\n"
          ]
        },
        {
          "output_type": "stream",
          "name": "stderr",
          "text": [
            "Epoch 42: 100%|██████████| 39/39 [00:02<00:00, 18.08it/s]\n"
          ]
        },
        {
          "output_type": "stream",
          "name": "stdout",
          "text": [
            "Epoch 42 - Loss: 2.1940\n"
          ]
        },
        {
          "output_type": "stream",
          "name": "stderr",
          "text": [
            "Epoch 43: 100%|██████████| 39/39 [00:02<00:00, 18.05it/s]\n"
          ]
        },
        {
          "output_type": "stream",
          "name": "stdout",
          "text": [
            "Epoch 43 - Loss: 2.1817\n"
          ]
        },
        {
          "output_type": "stream",
          "name": "stderr",
          "text": [
            "Epoch 44: 100%|██████████| 39/39 [00:02<00:00, 16.76it/s]\n"
          ]
        },
        {
          "output_type": "stream",
          "name": "stdout",
          "text": [
            "Epoch 44 - Loss: 2.1754\n"
          ]
        },
        {
          "output_type": "stream",
          "name": "stderr",
          "text": [
            "Epoch 45: 100%|██████████| 39/39 [00:02<00:00, 17.78it/s]\n"
          ]
        },
        {
          "output_type": "stream",
          "name": "stdout",
          "text": [
            "Epoch 45 - Loss: 2.1696\n"
          ]
        },
        {
          "output_type": "stream",
          "name": "stderr",
          "text": [
            "Epoch 46: 100%|██████████| 39/39 [00:02<00:00, 17.96it/s]\n"
          ]
        },
        {
          "output_type": "stream",
          "name": "stdout",
          "text": [
            "Epoch 46 - Loss: 2.1691\n"
          ]
        },
        {
          "output_type": "stream",
          "name": "stderr",
          "text": [
            "Epoch 47: 100%|██████████| 39/39 [00:02<00:00, 17.96it/s]\n"
          ]
        },
        {
          "output_type": "stream",
          "name": "stdout",
          "text": [
            "Epoch 47 - Loss: 2.1706\n"
          ]
        },
        {
          "output_type": "stream",
          "name": "stderr",
          "text": [
            "Epoch 48: 100%|██████████| 39/39 [00:02<00:00, 17.82it/s]\n"
          ]
        },
        {
          "output_type": "stream",
          "name": "stdout",
          "text": [
            "Epoch 48 - Loss: 2.1700\n"
          ]
        },
        {
          "output_type": "stream",
          "name": "stderr",
          "text": [
            "Epoch 49: 100%|██████████| 39/39 [00:02<00:00, 17.23it/s]\n"
          ]
        },
        {
          "output_type": "stream",
          "name": "stdout",
          "text": [
            "Epoch 49 - Loss: 2.1643\n"
          ]
        },
        {
          "output_type": "stream",
          "name": "stderr",
          "text": [
            "Epoch 50: 100%|██████████| 39/39 [00:02<00:00, 16.93it/s]\n"
          ]
        },
        {
          "output_type": "stream",
          "name": "stdout",
          "text": [
            "Epoch 50 - Loss: 2.1651\n",
            "Generating sequences with 1993-1998 date constraints...\n"
          ]
        },
        {
          "output_type": "stream",
          "name": "stderr",
          "text": [
            "Generating: 1000it [02:39,  6.27it/s]\n"
          ]
        },
        {
          "output_type": "stream",
          "name": "stdout",
          "text": [
            "\n",
            "Generated data shape: (400000, 8)\n",
            "\n",
            "Sample generated data:\n",
            "   account_id    raw_amount        amount    td  \\\n",
            "0        1000    273.175415    700.000000   5.0   \n",
            "1        1000    193.798111   3685.128174   0.0   \n",
            "2        1000   2233.694824   3606.827148   6.0   \n",
            "3        1000  30420.224609  36829.578125   3.0   \n",
            "4        1000     90.476669     14.600000  16.0   \n",
            "5        1000    -14.600000   1798.953613  17.0   \n",
            "6        1000  -8099.462891   6677.754395   0.0   \n",
            "7        1000  16167.883789  13566.484375   3.0   \n",
            "8        1000    119.376160    168.475998   0.0   \n",
            "9        1000    454.162231    293.231110   9.0   \n",
            "\n",
            "                                             tcode  year day month  \n",
            "0                      CREDIT__CREDIT IN CASH__nan  1996  16     3  \n",
            "1                      CREDIT__CREDIT IN CASH__nan  1996  18     1  \n",
            "2                      DEBIT__CASH WITHDRAWAL__nan  1993  29    12  \n",
            "3                      CREDIT__CREDIT IN CASH__nan  1996  11     1  \n",
            "4                      CREDIT__CREDIT IN CASH__nan  1996  14     4  \n",
            "5  DEBIT__REMITTANCE TO ANOTHER BANK__LOAN PAYMENT  1997  12     1  \n",
            "6                      CREDIT__CREDIT IN CASH__nan  1996  11     1  \n",
            "7        CREDIT__COLLECTION FROM ANOTHER BANK__nan  1995  20     1  \n",
            "8                   CREDIT__nan__INTEREST CREDITED  1996  30     1  \n",
            "9        CREDIT__COLLECTION FROM ANOTHER BANK__nan  1997  31    12  \n"
          ]
        }
      ]
    },
    {
      "cell_type": "markdown",
      "source": [
        "# STDDPM using  ct-gan normalization method"
      ],
      "metadata": {
        "id": "63IYHO15nJ9Z"
      }
    },
    {
      "cell_type": "code",
      "source": [
        "# print(\"Loading data...\")\n",
        "# try:\n",
        "#     real = pd.read_csv('tr_by_acct_w_age.csv')\n",
        "# except FileNotFoundError:\n",
        "#     print(\"Error: CSV file not found.\")\n",
        "#     exit()\n",
        "\n",
        "\n",
        "# # Preprocess\n",
        "# raw_data = preprocess_data_czech(real)\n",
        "# cat_attrs = ['tcode', 'dow', 'month', 'day', 'year', 'DoM_cat']\n",
        "# num_attrs = ['amount', 'raw_amount', 'td']\n",
        "\n",
        "# df_processed = raw_data[cat_attrs + num_attrs + ['account_id', 'datetime']].copy()\n",
        "\n",
        "# # Encode categorical features\n",
        "# label_encoders = {}\n",
        "# n_cat_tokens = []\n",
        "# for attr in cat_attrs:\n",
        "#     le = LabelEncoder()\n",
        "#     df_processed[attr] = le.fit_transform(df_processed[attr].astype(str))\n",
        "#     label_encoders[attr] = le\n",
        "#     n_cat_tokens.append(len(le.classes_))\n",
        "\n",
        "# # Use CT-GAN DataTransformer for numerical features\n",
        "# print(\"Fitting CT-GAN DataTransformer...\")\n",
        "# transformer = DataTransformer(n_clusters=10, epsilon=0.005)\n",
        "# transformer.fit(df_processed[num_attrs])\n",
        "\n",
        "# print(f\"CT-GAN transformer output dimensions: {transformer.output_dimensions}\")\n",
        "# print(f\"Output info: {transformer.output_info}\")\n",
        "\n",
        "\n",
        "import torch\n",
        "import torch.nn as nn\n",
        "import torch.optim as optim\n",
        "from torch.utils.data import Dataset, DataLoader\n",
        "from torch.optim.lr_scheduler import CosineAnnealingLR\n",
        "from sklearn.preprocessing import LabelEncoder\n",
        "from sklearn.mixture import BayesianGaussianMixture\n",
        "from sklearn.preprocessing import OneHotEncoder\n",
        "from sklearn.exceptions import ConvergenceWarning\n",
        "\n",
        "import pandas as pd\n",
        "import numpy as np\n",
        "import math\n",
        "import random\n",
        "import os\n",
        "from datetime import datetime, timedelta\n",
        "import calendar\n",
        "from tqdm import tqdm\n",
        "from scipy import stats\n",
        "import warnings\n",
        "warnings.filterwarnings('ignore')\n",
        "\n",
        "# Quality evaluation imports\n",
        "from sdv.metadata import SingleTableMetadata\n",
        "from sdv import evaluation\n",
        "\n",
        "# =============================================================================\n",
        "# CT-GAN DATA TRANSFORMER\n",
        "# =============================================================================\n",
        "class DataTransformer(object):\n",
        "    \"\"\"Data Transformer.\n",
        "\n",
        "    Model continuous columns with a BayesianGMM and normalized to a scalar\n",
        "    [0, 1] and a vector.\n",
        "    Discrete columns are encoded using a scikit-learn OneHotEncoder.\n",
        "\n",
        "    Args:\n",
        "        n_cluster (int):\n",
        "            Number of modes.\n",
        "        epsilon (float):\n",
        "            Epsilon value.\n",
        "    \"\"\"\n",
        "\n",
        "    def __init__(self, n_clusters=10, epsilon=0.005):\n",
        "        self.n_clusters = n_clusters\n",
        "        self.epsilon = epsilon\n",
        "\n",
        "    def _fit_continuous(self, column, data):\n",
        "        gm = BayesianGaussianMixture(\n",
        "            n_components=self.n_clusters,\n",
        "            weight_concentration_prior_type='dirichlet_process',\n",
        "            weight_concentration_prior=0.001,\n",
        "            n_init=1\n",
        "        )\n",
        "        gm.fit(data)\n",
        "        components = gm.weights_ > self.epsilon\n",
        "        num_components = components.sum()\n",
        "\n",
        "        return {\n",
        "            'name': column,\n",
        "            'model': gm,\n",
        "            'components': components,\n",
        "            'output_info': [(1, 'tanh'), (num_components, 'softmax')],\n",
        "            'output_dimensions': 1 + num_components,\n",
        "        }\n",
        "\n",
        "    def fit(self, data):\n",
        "        self.output_info = []\n",
        "        self.output_dimensions = 0\n",
        "\n",
        "        if not isinstance(data, pd.DataFrame):\n",
        "            self.dataframe = False\n",
        "            data = pd.DataFrame(data)\n",
        "        else:\n",
        "            self.dataframe = True\n",
        "\n",
        "        self.dtypes = data.infer_objects().dtypes\n",
        "        self.meta = []\n",
        "        for column in data.columns:\n",
        "            column_data = data[[column]].values\n",
        "            meta = self._fit_continuous(column, column_data)\n",
        "\n",
        "            self.output_info += meta['output_info']\n",
        "            self.output_dimensions += meta['output_dimensions']\n",
        "            self.meta.append(meta)\n",
        "\n",
        "    def _transform_continuous(self, column_meta, data):\n",
        "        components = column_meta['components']\n",
        "        model = column_meta['model']\n",
        "\n",
        "        means = model.means_.reshape((1, self.n_clusters))\n",
        "        stds = np.sqrt(model.covariances_).reshape((1, self.n_clusters))\n",
        "        features = (data - means) / (4 * stds)\n",
        "\n",
        "        probs = model.predict_proba(data)\n",
        "\n",
        "        n_opts = components.sum()\n",
        "        features = features[:, components]\n",
        "        probs = probs[:, components]\n",
        "\n",
        "        opt_sel = np.zeros(len(data), dtype='int')\n",
        "        for i in range(len(data)):\n",
        "            pp = probs[i] + 1e-6\n",
        "            pp = pp / pp.sum()\n",
        "            opt_sel[i] = np.random.choice(np.arange(n_opts), p=pp)\n",
        "\n",
        "        idx = np.arange((len(features)))\n",
        "        features = features[idx, opt_sel].reshape([-1, 1])\n",
        "        features = np.clip(features, -.99, .99)\n",
        "\n",
        "        probs_onehot = np.zeros_like(probs)\n",
        "        probs_onehot[np.arange(len(probs)), opt_sel] = 1\n",
        "        return [features, probs_onehot]\n",
        "\n",
        "    def transform(self, data):\n",
        "        if not isinstance(data, pd.DataFrame):\n",
        "            data = pd.DataFrame(data)\n",
        "\n",
        "        values = []\n",
        "        for meta in self.meta:\n",
        "            column_data = data[[meta['name']]].values\n",
        "            if 'model' in meta:\n",
        "                values += self._transform_continuous(meta, column_data)\n",
        "\n",
        "        return np.concatenate(values, axis=1).astype(float)\n",
        "\n",
        "    def _inverse_transform_continuous(self, meta, data, sigma):\n",
        "        model = meta['model']\n",
        "        components = meta['components']\n",
        "\n",
        "        u = data[:, 0]\n",
        "        v = data[:, 1:]\n",
        "\n",
        "        if sigma is not None:\n",
        "            u = np.random.normal(u, sigma)\n",
        "\n",
        "        u = np.clip(u, -1, 1)\n",
        "        v_t = np.ones((len(data), self.n_clusters)) * -100\n",
        "        v_t[:, components] = v\n",
        "        v = v_t\n",
        "        means = model.means_.reshape([-1])\n",
        "        stds = np.sqrt(model.covariances_).reshape([-1])\n",
        "        p_argmax = np.argmax(v, axis=1)\n",
        "        std_t = stds[p_argmax]\n",
        "        mean_t = means[p_argmax]\n",
        "        column = u * 4 * std_t + mean_t\n",
        "\n",
        "        return column\n",
        "\n",
        "    def inverse_transform(self, data, sigmas=None):\n",
        "        start = 0\n",
        "        output = []\n",
        "        column_names = []\n",
        "        for meta in self.meta:\n",
        "            dimensions = meta['output_dimensions']\n",
        "            columns_data = data[:, start:start + dimensions]\n",
        "\n",
        "            if 'model' in meta:\n",
        "                sigma = sigmas[start] if sigmas else None\n",
        "                inverted = self._inverse_transform_continuous(meta, columns_data, sigma)\n",
        "\n",
        "            output.append(inverted)\n",
        "            column_names.append(meta['name'])\n",
        "            start += dimensions\n",
        "\n",
        "        output = np.column_stack(output)\n",
        "        output = pd.DataFrame(output, columns=column_names).astype(self.dtypes)\n",
        "        if not self.dataframe:\n",
        "            output = output.values\n",
        "\n",
        "        return output\n",
        "\n",
        "# =============================================================================\n",
        "# CONFIGURATION\n",
        "# =============================================================================\n",
        "seed = 1234\n",
        "random.seed(seed)\n",
        "np.random.seed(seed)\n",
        "torch.manual_seed(seed)\n",
        "device = torch.device(\"cuda:0\" if torch.cuda.is_available() else \"cpu\")\n",
        "\n",
        "# Model hyperparameters\n",
        "sequence_length = 80\n",
        "min_seq_length = 20\n",
        "cat_emb_dim = 4\n",
        "mlp_layers = [128, 128]\n",
        "diffusion_steps = 1000\n",
        "epochs = 100\n",
        "batch_size = 256\n",
        "learning_rate = 2e-4\n",
        "n_sequences = 5000\n",
        "\n",
        "# Date constraints\n",
        "MIN_YEAR = 1993\n",
        "MAX_YEAR = 1998\n",
        "\n",
        "# =============================================================================\n",
        "# STUDENT-T DISTRIBUTION DDPM DIFFUSER\n",
        "# =============================================================================\n",
        "class StudentTDDPMDiffuser(object):\n",
        "    def __init__(self, total_steps=1000, beta_start=1e-4, beta_end=0.02, device='cpu', df=10):\n",
        "        self.total_steps = total_steps\n",
        "        self.device = device\n",
        "        self.df = df\n",
        "\n",
        "        # Exponential schedule\n",
        "        scale = 1000 / total_steps\n",
        "        betas = torch.exp(torch.linspace(math.log(scale * beta_start),\n",
        "                                        math.log(scale * beta_end), total_steps))\n",
        "        self.alphas = (1.0 - betas).to(device)\n",
        "        self.betas = betas.to(device)\n",
        "        self.alphas_hat = torch.cumprod(self.alphas, dim=0)\n",
        "\n",
        "    def sample_random_timesteps(self, n: int):\n",
        "        return torch.randint(low=1, high=self.total_steps, size=(n,), device=self.device)\n",
        "\n",
        "    def sample_student_t(self, shape):\n",
        "        x = torch.randn(shape, device=self.device)\n",
        "        df_sample = max(3.0, float(self.df))\n",
        "        gamma_shape = df_sample / 2.0\n",
        "        gamma_samples = torch.tensor(stats.gamma.rvs(gamma_shape, scale=2.0, size=shape[0]),\n",
        "                                   dtype=torch.float32, device=self.device).view(-1, 1, 1)\n",
        "        scaling = torch.sqrt(torch.tensor(df_sample / (df_sample - 2.0), device=self.device))\n",
        "        return scaling * x / torch.sqrt(gamma_samples / df_sample)\n",
        "\n",
        "    def add_t_noise(self, x_num, t):\n",
        "        sqrt_alpha_hat = torch.sqrt(self.alphas_hat[t])[:, None, None]\n",
        "        sqrt_one_minus_alpha_hat = torch.sqrt(1 - self.alphas_hat[t])[:, None, None]\n",
        "        noise_num = self.sample_student_t(x_num.shape)\n",
        "        return sqrt_alpha_hat * x_num + sqrt_one_minus_alpha_hat * noise_num, noise_num\n",
        "\n",
        "    def sample(self, model_out, z_norm, timesteps):\n",
        "        sqrt_alpha_t = torch.sqrt(self.alphas[timesteps])[:, None, None]\n",
        "        betas_t = self.betas[timesteps][:, None, None]\n",
        "        sqrt_one_minus_alpha_hat_t = torch.sqrt(1 - self.alphas_hat[timesteps])[:, None, None]\n",
        "        epsilon_t = torch.sqrt(self.betas[timesteps][:, None, None])\n",
        "\n",
        "        random_noise = self.sample_student_t(z_norm.shape)\n",
        "        random_noise[timesteps == 0] = 0.0\n",
        "\n",
        "        model_mean = ((1 / sqrt_alpha_t) * (z_norm - (betas_t * model_out / sqrt_one_minus_alpha_hat_t)))\n",
        "        return model_mean + (epsilon_t * random_noise)\n",
        "\n",
        "# =============================================================================\n",
        "# DATA PREPROCESSING\n",
        "# =============================================================================\n",
        "def preprocess_data_czech(df):\n",
        "    czech_date_parser = lambda x: datetime.strptime(str(x), \"%y%m%d\")\n",
        "    df[\"datetime\"] = df[\"date\"].apply(czech_date_parser)\n",
        "\n",
        "    df[\"month\"] = df[\"datetime\"].dt.month\n",
        "    df[\"day\"] = df[\"datetime\"].dt.day\n",
        "    df[\"dow\"] = df[\"datetime\"].dt.dayofweek\n",
        "    df[\"year\"] = df[\"datetime\"].dt.year\n",
        "    df[\"doy\"] = df[\"datetime\"].dt.dayofyear\n",
        "\n",
        "    df[\"td\"] = df[[\"account_id\", \"datetime\"]].groupby(\"account_id\").diff()\n",
        "    df[\"td\"] = df[\"td\"].apply(lambda x: x.days)\n",
        "    df[\"td\"].fillna(0.0, inplace=True)\n",
        "\n",
        "    # dtme - days till month end\n",
        "    df[\"dtme\"] = df.datetime.apply(lambda dt: calendar.monthrange(dt.year, dt.month)[1] - dt.day)\n",
        "\n",
        "    df['raw_amount'] = df.apply(lambda row: row['amount'] if row['type'] == 'CREDIT' else -row['amount'], axis=1)\n",
        "\n",
        "    cat_code_fields = ['type', 'operation', 'k_symbol']\n",
        "    TCODE_SEP = \"__\"\n",
        "    # create tcode by concating fields in \"cat_code_fields\"\n",
        "    tcode = df[cat_code_fields[0]].astype(str)\n",
        "    for ccf in cat_code_fields[1:]:\n",
        "        tcode += TCODE_SEP + df[ccf].astype(str)\n",
        "\n",
        "    df[\"tcode\"] = tcode\n",
        "\n",
        "    conditions = [\n",
        "        (df['day'] >= 1) & (df['day'] <= 10),\n",
        "        (df['day'] > 10) & (df['day'] <= 20),\n",
        "        (df['day'] > 20) & (df['day'] <= 31)\n",
        "    ]\n",
        "\n",
        "    categories = ['first', 'middle', 'last']\n",
        "    df['DoM_cat'] = np.select(conditions, categories, default='unknown')\n",
        "\n",
        "    bin_edges = [17, 30, 40, 50, 60, 81]\n",
        "    labels = ['18-30', '31-40', '41-50', '51-60', '61+']\n",
        "    df['age_group'] = pd.cut(df['age'], bins=bin_edges, labels=labels, right=False)\n",
        "    df['age_group'] = df['age_group'].astype('object')\n",
        "\n",
        "    result = df.groupby('account_id')['datetime'].agg(['min', 'max'])\n",
        "    result['duration'] = result['max'] - result['min']\n",
        "    result_sorted = result.sort_values('duration', ascending=False)\n",
        "\n",
        "    df['log_amount'] = np.log10(df['amount'] + 1)\n",
        "    LOG_AMOUNT_SCALE = df['log_amount'].std()\n",
        "    df['log_amount_sc'] = df['log_amount'] / LOG_AMOUNT_SCALE\n",
        "    TD_SCALE = df['td'].std()\n",
        "    df['td_sc'] = df['td'] / TD_SCALE\n",
        "    df_sorted = df\n",
        "\n",
        "    return df_sorted\n",
        "\n",
        "# =============================================================================\n",
        "# DATASET (Updated for CT-GAN transformer)\n",
        "# =============================================================================\n",
        "class TemporalSequentialDataset(Dataset):\n",
        "    def __init__(self, df, cat_attrs, num_attrs, sequence_length=30, min_seq_length=20):\n",
        "        self.sequences = []\n",
        "\n",
        "        for account_id in tqdm(df['account_id'].unique(), desc=\"Creating sequences\"):\n",
        "            account_data = df[df['account_id'] == account_id].sort_values('datetime').reset_index(drop=True)\n",
        "            if len(account_data) >= min_seq_length:\n",
        "                for start_idx in range(0, len(account_data) - sequence_length + 1, sequence_length//2):\n",
        "                    seq_data = account_data.iloc[start_idx:start_idx+sequence_length]\n",
        "\n",
        "                    self.sequences.append({\n",
        "                        'cat_data': seq_data[cat_attrs].values,\n",
        "                        'num_data': seq_data[num_attrs].values  # Now using already transformed data\n",
        "                    })\n",
        "\n",
        "    def __len__(self):\n",
        "        return len(self.sequences)\n",
        "\n",
        "    def __getitem__(self, idx):\n",
        "        seq = self.sequences[idx]\n",
        "        return torch.LongTensor(seq['cat_data']), torch.FloatTensor(seq['num_data'])\n",
        "\n",
        "# =============================================================================\n",
        "# MODEL (Updated for CT-GAN transformer dimensions)\n",
        "# =============================================================================\n",
        "class TemporalLSTMSynthesizer(nn.Module):\n",
        "    def __init__(self, n_cat_features, n_cat_tokens, cat_emb_dim, n_num_features, hidden_dim=128):\n",
        "        super().__init__()\n",
        "        self.n_cat_features = n_cat_features\n",
        "        self.n_num_features = n_num_features\n",
        "\n",
        "        self.cat_embeddings = nn.ModuleList([\n",
        "            nn.Embedding(n_cat_tokens[i], cat_emb_dim) for i in range(n_cat_features)\n",
        "        ])\n",
        "\n",
        "        total_input_dim = n_cat_features * cat_emb_dim + n_num_features\n",
        "\n",
        "        self.time_embed = nn.Sequential(\n",
        "            nn.Linear(64, hidden_dim), nn.SiLU(), nn.Linear(hidden_dim, hidden_dim)\n",
        "        )\n",
        "        self.input_projection = nn.Linear(total_input_dim, hidden_dim)\n",
        "        self.lstm = nn.LSTM(hidden_dim, hidden_dim, 2, batch_first=True, dropout=0.1)\n",
        "\n",
        "        self.cat_heads = nn.ModuleList([\n",
        "            nn.Linear(hidden_dim, n_cat_tokens[i]) for i in range(n_cat_features)\n",
        "        ])\n",
        "        self.num_head = nn.Linear(hidden_dim, n_num_features)\n",
        "\n",
        "    def embed_time(self, timesteps, dim_out=64):\n",
        "        half = dim_out // 2\n",
        "        freqs = torch.exp(-math.log(1000) * torch.arange(0, half, dtype=torch.float32) / half).to(timesteps.device)\n",
        "        args = timesteps[:, None].float() * freqs[None]\n",
        "        return torch.cat([torch.cos(args), torch.sin(args)], dim=-1)\n",
        "\n",
        "    def forward(self, x_cat, x_num, timesteps):\n",
        "        batch_size, seq_len, _ = x_num.shape\n",
        "\n",
        "        # Embed categorical\n",
        "        cat_emb = torch.cat([self.cat_embeddings[i](x_cat[:, :, i])\n",
        "                           for i in range(self.n_cat_features)], dim=-1)\n",
        "\n",
        "        # Combine features\n",
        "        x = torch.cat([cat_emb, x_num], dim=-1)\n",
        "        x_proj = self.input_projection(x)\n",
        "\n",
        "        # Add time embedding\n",
        "        time_emb = self.time_embed(self.embed_time(timesteps))\n",
        "        x_with_time = x_proj + time_emb.unsqueeze(1).expand(-1, seq_len, -1)\n",
        "\n",
        "        # LSTM processing\n",
        "        lstm_out, _ = self.lstm(x_with_time)\n",
        "\n",
        "        # Generate outputs\n",
        "        cat_outputs = [head(lstm_out) for head in self.cat_heads]\n",
        "        num_output = self.num_head(lstm_out)\n",
        "\n",
        "        return cat_outputs, num_output\n",
        "\n",
        "# =============================================================================\n",
        "# TRAINING\n",
        "# =============================================================================\n",
        "def train_model(model, diffuser, dataloader, epochs, optimizer, scheduler):\n",
        "    model.train()\n",
        "    cat_criterion = nn.CrossEntropyLoss()\n",
        "    num_criterion = nn.MSELoss()\n",
        "\n",
        "    for epoch in range(epochs):\n",
        "        epoch_loss = 0.0\n",
        "        for batch_cat, batch_num in tqdm(dataloader, desc=f\"Epoch {epoch+1}\"):\n",
        "            batch_cat, batch_num = batch_cat.to(device), batch_num.to(device)\n",
        "            timesteps = diffuser.sample_random_timesteps(batch_cat.shape[0])\n",
        "            noisy_num, noise_target = diffuser.add_t_noise(batch_num, timesteps)\n",
        "\n",
        "            cat_outputs, num_output = model(batch_cat, noisy_num, timesteps)\n",
        "\n",
        "            cat_loss = sum(cat_criterion(cat_out.view(-1, cat_out.size(-1)),\n",
        "                                       batch_cat[:, :, i].view(-1))\n",
        "                          for i, cat_out in enumerate(cat_outputs))\n",
        "            num_loss = num_criterion(num_output, noise_target)\n",
        "            total_loss = cat_loss + num_loss\n",
        "\n",
        "            optimizer.zero_grad()\n",
        "            total_loss.backward()\n",
        "            torch.nn.utils.clip_grad_norm_(model.parameters(), 1.0)\n",
        "            optimizer.step()\n",
        "            epoch_loss += total_loss.item()\n",
        "\n",
        "        print(f\"Epoch {epoch+1} - Loss: {epoch_loss/len(dataloader):.4f}\")\n",
        "        scheduler.step()\n",
        "\n",
        "# =============================================================================\n",
        "# GENERATION WITH CT-GAN TRANSFORMER\n",
        "# =============================================================================\n",
        "def generate_sequences(model, diffuser, transformer, n_sequences, seq_len, n_cat_features, n_cat_tokens, n_num_features):\n",
        "    model.eval()\n",
        "\n",
        "    x_cat = torch.zeros(n_sequences, seq_len, n_cat_features, dtype=torch.long, device=device)\n",
        "    for i, n_tokens in enumerate(n_cat_tokens):\n",
        "        x_cat[:, :, i] = torch.randint(0, n_tokens, (n_sequences, seq_len), device=device)\n",
        "\n",
        "    x_num = diffuser.sample_student_t((n_sequences, seq_len, n_num_features))\n",
        "\n",
        "    with torch.no_grad():\n",
        "        for t in tqdm(reversed(range(diffuser.total_steps)), desc=\"Generating\"):\n",
        "            timesteps = torch.full((n_sequences,), t, device=device, dtype=torch.long)\n",
        "            cat_outputs, num_output = model(x_cat, x_num, timesteps)\n",
        "            x_num = diffuser.sample(num_output, x_num, timesteps)\n",
        "\n",
        "            if t % 100 == 0:\n",
        "                for i, cat_out in enumerate(cat_outputs):\n",
        "                    probs = torch.softmax(cat_out, dim=-1)\n",
        "                    x_cat[:, :, i] = torch.multinomial(probs.view(-1, probs.size(-1)), 1).view(n_sequences, seq_len)\n",
        "\n",
        "    return x_cat, x_num\n",
        "\n",
        "def create_dataframe_with_date_constraints(generated_cat, generated_num, cat_attrs, num_attrs,\n",
        "                                         label_encoders, transformer):\n",
        "    \"\"\"Create dataframe with dates constrained to 1993-1998 and CT-GAN inverse transform\"\"\"\n",
        "    final_sequences = []\n",
        "\n",
        "    for seq_idx in range(generated_cat.shape[0]):\n",
        "        # Use CT-GAN transformer for inverse transform\n",
        "        seq_num_numpy = generated_num[seq_idx].cpu().numpy()\n",
        "        seq_num_df = transformer.inverse_transform(seq_num_numpy)\n",
        "\n",
        "        seq_cat = generated_cat[seq_idx].cpu().numpy()\n",
        "\n",
        "        seq_df = pd.DataFrame()\n",
        "\n",
        "        # Add numerical features (from CT-GAN inverse transform)\n",
        "        # seq_num_df should have the original numerical column names\n",
        "        for col in num_attrs:\n",
        "            seq_df[col] = seq_num_df[col].values\n",
        "\n",
        "        # Add categorical features\n",
        "        for i, col in enumerate(cat_attrs):\n",
        "            seq_df[col] = label_encoders[col].inverse_transform(seq_cat[:, i])\n",
        "\n",
        "        seq_df['account_id'] = seq_idx + 1000  # Start from 1000 to avoid conflicts\n",
        "\n",
        "        final_sequences.append(seq_df)\n",
        "\n",
        "    return pd.concat(final_sequences, ignore_index=True)\n",
        "\n",
        "# =============================================================================\n",
        "# MAIN EXECUTION\n",
        "# =============================================================================\n",
        "if __name__ == \"__main__\":\n",
        "\n",
        "    print(\"Loading data...\")\n",
        "    try:\n",
        "        real = pd.read_csv('tr_by_acct_w_age.csv')\n",
        "    except FileNotFoundError:\n",
        "        print(\"Error: CSV file not found.\")\n",
        "        exit()\n",
        "\n",
        "    # Preprocess\n",
        "    raw_data = preprocess_data_czech(real)\n",
        "    cat_attrs = ['tcode', 'dow', 'month', 'day', 'year', 'DoM_cat']\n",
        "    num_attrs = ['amount', 'raw_amount', 'td']\n",
        "\n",
        "    df_processed = raw_data[cat_attrs + num_attrs + ['account_id', 'datetime']].copy()\n",
        "\n",
        "    # Encode categorical features\n",
        "    label_encoders = {}\n",
        "    n_cat_tokens = []\n",
        "    for attr in cat_attrs:\n",
        "        le = LabelEncoder()\n",
        "        df_processed[attr] = le.fit_transform(df_processed[attr].astype(str))\n",
        "        label_encoders[attr] = le\n",
        "        n_cat_tokens.append(len(le.classes_))\n",
        "\n",
        "    # Use CT-GAN DataTransformer for numerical features\n",
        "    print(\"Fitting CT-GAN DataTransformer...\")\n",
        "    transformer = DataTransformer(n_clusters=10, epsilon=0.005)\n",
        "    transformer.fit(df_processed[num_attrs])\n",
        "\n",
        "    # Apply CT-GAN transformation to the numerical features\n",
        "    transformed_num_data = transformer.transform(df_processed[num_attrs])\n",
        "\n",
        "    # Replace the original numerical columns with transformed ones\n",
        "    # Remove original numerical columns\n",
        "    df_processed = df_processed.drop(columns=num_attrs)\n",
        "\n",
        "    # Add transformed numerical features\n",
        "    transformed_num_df = pd.DataFrame(transformed_num_data,\n",
        "                                      columns=[f'num_feature_{i}' for i in range(transformed_num_data.shape[1])],\n",
        "                                      index=df_processed.index)\n",
        "    df_processed = pd.concat([df_processed, transformed_num_df], axis=1)\n",
        "\n",
        "    # Update num_attrs to reflect the new transformed features\n",
        "    transformed_num_attrs = [f'num_feature_{i}' for i in range(transformed_num_data.shape[1])]\n",
        "\n",
        "\n",
        "    print(f\"CT-GAN transformer output dimensions: {transformer.output_dimensions}\")\n",
        "    print(f\"Output info: {transformer.output_info}\")\n",
        "    print(f\"Original numerical features: {len(num_attrs)}\")\n",
        "    print(f\"Transformed numerical features: {len(transformed_num_attrs)}\")\n",
        "\n",
        "    # Create dataset and model\n",
        "    dataset = TemporalSequentialDataset(df_processed, cat_attrs, transformed_num_attrs, sequence_length, min_seq_length)\n",
        "    dataloader = DataLoader(dataset, batch_size=batch_size, shuffle=True)\n",
        "\n",
        "    # Model with CT-GAN transformer output dimensions\n",
        "    model = TemporalLSTMSynthesizer(\n",
        "        n_cat_features=len(cat_attrs),\n",
        "        n_cat_tokens=n_cat_tokens,\n",
        "        cat_emb_dim=cat_emb_dim,\n",
        "        n_num_features=len(transformed_num_attrs)  # Use transformed feature count\n",
        "    ).to(device)\n",
        "\n",
        "    diffuser = StudentTDDPMDiffuser(device=device)\n",
        "    optimizer = optim.AdamW(model.parameters(), lr=learning_rate, weight_decay=1e-4)\n",
        "    scheduler = CosineAnnealingLR(optimizer, T_max=epochs)\n",
        "\n",
        "    print(f\"Training model with {sum(p.numel() for p in model.parameters() if p.requires_grad):,} parameters...\")\n",
        "\n",
        "    # Train\n",
        "    train_model(model, diffuser, dataloader, epochs, optimizer, scheduler)\n",
        "\n",
        "    # Generate with CT-GAN transformer\n",
        "    print(\"Generating sequences with CT-GAN transformer...\")\n",
        "    generated_cat, generated_num = generate_sequences(\n",
        "        model, diffuser, transformer, n_sequences, sequence_length,\n",
        "        len(cat_attrs), n_cat_tokens, len(transformed_num_attrs)\n",
        "    )\n",
        "\n",
        "    # Create final dataframe with CT-GAN inverse transform\n",
        "    synth_data = create_dataframe_with_date_constraints(\n",
        "        generated_cat, generated_num, cat_attrs, num_attrs,\n",
        "        label_encoders, transformer\n",
        "    )\n",
        "\n",
        "    # Prepare data for quality evaluation\n",
        "    synth_sorted = synth_data[['account_id', 'raw_amount', 'amount', 'td', 'tcode', 'year','day','month']].copy()\n",
        "    synth_sorted = synth_sorted.dropna()\n",
        "\n",
        "    # Prepare real data for comparison (same columns)\n",
        "    real_comparison = raw_data[['account_id', 'raw_amount', 'amount', 'td', 'tcode', 'year','day','month']].copy()\n",
        "    real_comparison = real_comparison.dropna()\n",
        "\n",
        "    print(f\"\\nGenerated data shape: {synth_sorted.shape}\")\n",
        "    print(\"\\nSample generated data:\")\n",
        "    print(synth_sorted.head(10))\n",
        "\n",
        "    synth_sorted.to_csv('synthetic_transactions_ctgan_transformer.csv', index=False)\n",
        "    print(f\"\\nSynthetic data saved with CT-GAN transformer!\")\n",
        "    print(f\"CT-GAN transformer created {transformer.output_dimensions} features from {len(num_attrs)} numerical columns\")"
      ],
      "metadata": {
        "colab": {
          "base_uri": "https://localhost:8080/"
        },
        "id": "hjE1zVKkUCHA",
        "outputId": "ad0f40e5-a34e-44ff-f423-b625acb7a660"
      },
      "execution_count": null,
      "outputs": [
        {
          "output_type": "stream",
          "name": "stdout",
          "text": [
            "CT-GAN transformer output dimensions: 31\n",
            "Output info: [(1, 'tanh'), (np.int64(9), 'softmax'), (1, 'tanh'), (np.int64(10), 'softmax'), (1, 'tanh'), (np.int64(9), 'softmax')]\n",
            "Original numerical features: 3\n",
            "Transformed numerical features: 31\n"
          ]
        },
        {
          "output_type": "stream",
          "name": "stderr",
          "text": [
            "Creating sequences: 100%|██████████| 4500/4500 [00:26<00:00, 171.15it/s]\n"
          ]
        },
        {
          "output_type": "stream",
          "name": "stdout",
          "text": [
            "Training model with 310,166 parameters...\n"
          ]
        },
        {
          "output_type": "stream",
          "name": "stderr",
          "text": [
            "Epoch 1: 100%|██████████| 78/78 [00:03<00:00, 24.72it/s]\n"
          ]
        },
        {
          "output_type": "stream",
          "name": "stdout",
          "text": [
            "Epoch 1 - Loss: 13.9237\n"
          ]
        },
        {
          "output_type": "stream",
          "name": "stderr",
          "text": [
            "Epoch 2: 100%|██████████| 78/78 [00:02<00:00, 29.17it/s]\n"
          ]
        },
        {
          "output_type": "stream",
          "name": "stdout",
          "text": [
            "Epoch 2 - Loss: 11.7635\n"
          ]
        },
        {
          "output_type": "stream",
          "name": "stderr",
          "text": [
            "Epoch 3: 100%|██████████| 78/78 [00:02<00:00, 30.88it/s]\n"
          ]
        },
        {
          "output_type": "stream",
          "name": "stdout",
          "text": [
            "Epoch 3 - Loss: 10.1714\n"
          ]
        },
        {
          "output_type": "stream",
          "name": "stderr",
          "text": [
            "Epoch 4: 100%|██████████| 78/78 [00:02<00:00, 30.87it/s]\n"
          ]
        },
        {
          "output_type": "stream",
          "name": "stdout",
          "text": [
            "Epoch 4 - Loss: 8.5424\n"
          ]
        },
        {
          "output_type": "stream",
          "name": "stderr",
          "text": [
            "Epoch 5: 100%|██████████| 78/78 [00:02<00:00, 30.73it/s]\n"
          ]
        },
        {
          "output_type": "stream",
          "name": "stdout",
          "text": [
            "Epoch 5 - Loss: 7.4154\n"
          ]
        },
        {
          "output_type": "stream",
          "name": "stderr",
          "text": [
            "Epoch 6: 100%|██████████| 78/78 [00:02<00:00, 28.87it/s]\n"
          ]
        },
        {
          "output_type": "stream",
          "name": "stdout",
          "text": [
            "Epoch 6 - Loss: 6.4841\n"
          ]
        },
        {
          "output_type": "stream",
          "name": "stderr",
          "text": [
            "Epoch 7: 100%|██████████| 78/78 [00:02<00:00, 29.17it/s]\n"
          ]
        },
        {
          "output_type": "stream",
          "name": "stdout",
          "text": [
            "Epoch 7 - Loss: 5.7572\n"
          ]
        },
        {
          "output_type": "stream",
          "name": "stderr",
          "text": [
            "Epoch 8: 100%|██████████| 78/78 [00:02<00:00, 28.57it/s]\n"
          ]
        },
        {
          "output_type": "stream",
          "name": "stdout",
          "text": [
            "Epoch 8 - Loss: 5.1869\n"
          ]
        },
        {
          "output_type": "stream",
          "name": "stderr",
          "text": [
            "Epoch 9: 100%|██████████| 78/78 [00:02<00:00, 28.70it/s]\n"
          ]
        },
        {
          "output_type": "stream",
          "name": "stdout",
          "text": [
            "Epoch 9 - Loss: 4.6567\n"
          ]
        },
        {
          "output_type": "stream",
          "name": "stderr",
          "text": [
            "Epoch 10: 100%|██████████| 78/78 [00:02<00:00, 30.41it/s]\n"
          ]
        },
        {
          "output_type": "stream",
          "name": "stdout",
          "text": [
            "Epoch 10 - Loss: 4.1755\n"
          ]
        },
        {
          "output_type": "stream",
          "name": "stderr",
          "text": [
            "Epoch 11: 100%|██████████| 78/78 [00:02<00:00, 27.70it/s]\n"
          ]
        },
        {
          "output_type": "stream",
          "name": "stdout",
          "text": [
            "Epoch 11 - Loss: 3.7741\n"
          ]
        },
        {
          "output_type": "stream",
          "name": "stderr",
          "text": [
            "Epoch 12: 100%|██████████| 78/78 [00:02<00:00, 30.55it/s]\n"
          ]
        },
        {
          "output_type": "stream",
          "name": "stdout",
          "text": [
            "Epoch 12 - Loss: 3.3957\n"
          ]
        },
        {
          "output_type": "stream",
          "name": "stderr",
          "text": [
            "Epoch 13: 100%|██████████| 78/78 [00:02<00:00, 30.67it/s]\n"
          ]
        },
        {
          "output_type": "stream",
          "name": "stdout",
          "text": [
            "Epoch 13 - Loss: 3.1065\n"
          ]
        },
        {
          "output_type": "stream",
          "name": "stderr",
          "text": [
            "Epoch 14: 100%|██████████| 78/78 [00:02<00:00, 30.71it/s]\n"
          ]
        },
        {
          "output_type": "stream",
          "name": "stdout",
          "text": [
            "Epoch 14 - Loss: 2.8826\n"
          ]
        },
        {
          "output_type": "stream",
          "name": "stderr",
          "text": [
            "Epoch 15: 100%|██████████| 78/78 [00:02<00:00, 29.80it/s]\n"
          ]
        },
        {
          "output_type": "stream",
          "name": "stdout",
          "text": [
            "Epoch 15 - Loss: 2.6941\n"
          ]
        },
        {
          "output_type": "stream",
          "name": "stderr",
          "text": [
            "Epoch 16: 100%|██████████| 78/78 [00:02<00:00, 28.97it/s]\n"
          ]
        },
        {
          "output_type": "stream",
          "name": "stdout",
          "text": [
            "Epoch 16 - Loss: 2.5326\n"
          ]
        },
        {
          "output_type": "stream",
          "name": "stderr",
          "text": [
            "Epoch 17: 100%|██████████| 78/78 [00:02<00:00, 31.20it/s]\n"
          ]
        },
        {
          "output_type": "stream",
          "name": "stdout",
          "text": [
            "Epoch 17 - Loss: 2.4015\n"
          ]
        },
        {
          "output_type": "stream",
          "name": "stderr",
          "text": [
            "Epoch 18: 100%|██████████| 78/78 [00:02<00:00, 31.21it/s]\n"
          ]
        },
        {
          "output_type": "stream",
          "name": "stdout",
          "text": [
            "Epoch 18 - Loss: 2.3028\n"
          ]
        },
        {
          "output_type": "stream",
          "name": "stderr",
          "text": [
            "Epoch 19: 100%|██████████| 78/78 [00:02<00:00, 31.30it/s]\n"
          ]
        },
        {
          "output_type": "stream",
          "name": "stdout",
          "text": [
            "Epoch 19 - Loss: 2.2035\n"
          ]
        },
        {
          "output_type": "stream",
          "name": "stderr",
          "text": [
            "Epoch 20: 100%|██████████| 78/78 [00:02<00:00, 29.88it/s]\n"
          ]
        },
        {
          "output_type": "stream",
          "name": "stdout",
          "text": [
            "Epoch 20 - Loss: 2.1288\n"
          ]
        },
        {
          "output_type": "stream",
          "name": "stderr",
          "text": [
            "Epoch 21: 100%|██████████| 78/78 [00:02<00:00, 29.40it/s]\n"
          ]
        },
        {
          "output_type": "stream",
          "name": "stdout",
          "text": [
            "Epoch 21 - Loss: 2.0580\n"
          ]
        },
        {
          "output_type": "stream",
          "name": "stderr",
          "text": [
            "Epoch 22: 100%|██████████| 78/78 [00:02<00:00, 28.86it/s]\n"
          ]
        },
        {
          "output_type": "stream",
          "name": "stdout",
          "text": [
            "Epoch 22 - Loss: 2.0094\n"
          ]
        },
        {
          "output_type": "stream",
          "name": "stderr",
          "text": [
            "Epoch 23: 100%|██████████| 78/78 [00:02<00:00, 30.67it/s]\n"
          ]
        },
        {
          "output_type": "stream",
          "name": "stdout",
          "text": [
            "Epoch 23 - Loss: 1.9531\n"
          ]
        },
        {
          "output_type": "stream",
          "name": "stderr",
          "text": [
            "Epoch 24: 100%|██████████| 78/78 [00:02<00:00, 31.19it/s]\n"
          ]
        },
        {
          "output_type": "stream",
          "name": "stdout",
          "text": [
            "Epoch 24 - Loss: 1.9130\n"
          ]
        },
        {
          "output_type": "stream",
          "name": "stderr",
          "text": [
            "Epoch 25: 100%|██████████| 78/78 [00:02<00:00, 29.31it/s]\n"
          ]
        },
        {
          "output_type": "stream",
          "name": "stdout",
          "text": [
            "Epoch 25 - Loss: 1.8666\n"
          ]
        },
        {
          "output_type": "stream",
          "name": "stderr",
          "text": [
            "Epoch 26: 100%|██████████| 78/78 [00:02<00:00, 29.90it/s]\n"
          ]
        },
        {
          "output_type": "stream",
          "name": "stdout",
          "text": [
            "Epoch 26 - Loss: 1.8299\n"
          ]
        },
        {
          "output_type": "stream",
          "name": "stderr",
          "text": [
            "Epoch 27: 100%|██████████| 78/78 [00:02<00:00, 31.31it/s]\n"
          ]
        },
        {
          "output_type": "stream",
          "name": "stdout",
          "text": [
            "Epoch 27 - Loss: 1.7948\n"
          ]
        },
        {
          "output_type": "stream",
          "name": "stderr",
          "text": [
            "Epoch 28: 100%|██████████| 78/78 [00:02<00:00, 31.51it/s]\n"
          ]
        },
        {
          "output_type": "stream",
          "name": "stdout",
          "text": [
            "Epoch 28 - Loss: 1.7672\n"
          ]
        },
        {
          "output_type": "stream",
          "name": "stderr",
          "text": [
            "Epoch 29: 100%|██████████| 78/78 [00:02<00:00, 31.26it/s]\n"
          ]
        },
        {
          "output_type": "stream",
          "name": "stdout",
          "text": [
            "Epoch 29 - Loss: 1.7144\n"
          ]
        },
        {
          "output_type": "stream",
          "name": "stderr",
          "text": [
            "Epoch 30: 100%|██████████| 78/78 [00:02<00:00, 28.97it/s]\n"
          ]
        },
        {
          "output_type": "stream",
          "name": "stdout",
          "text": [
            "Epoch 30 - Loss: 1.6864\n"
          ]
        },
        {
          "output_type": "stream",
          "name": "stderr",
          "text": [
            "Epoch 31: 100%|██████████| 78/78 [00:02<00:00, 27.09it/s]\n"
          ]
        },
        {
          "output_type": "stream",
          "name": "stdout",
          "text": [
            "Epoch 31 - Loss: 1.6717\n"
          ]
        },
        {
          "output_type": "stream",
          "name": "stderr",
          "text": [
            "Epoch 32: 100%|██████████| 78/78 [00:02<00:00, 31.33it/s]\n"
          ]
        },
        {
          "output_type": "stream",
          "name": "stdout",
          "text": [
            "Epoch 32 - Loss: 1.6397\n"
          ]
        },
        {
          "output_type": "stream",
          "name": "stderr",
          "text": [
            "Epoch 33: 100%|██████████| 78/78 [00:02<00:00, 31.39it/s]\n"
          ]
        },
        {
          "output_type": "stream",
          "name": "stdout",
          "text": [
            "Epoch 33 - Loss: 1.5936\n"
          ]
        },
        {
          "output_type": "stream",
          "name": "stderr",
          "text": [
            "Epoch 34: 100%|██████████| 78/78 [00:02<00:00, 31.36it/s]\n"
          ]
        },
        {
          "output_type": "stream",
          "name": "stdout",
          "text": [
            "Epoch 34 - Loss: 1.5682\n"
          ]
        },
        {
          "output_type": "stream",
          "name": "stderr",
          "text": [
            "Epoch 35: 100%|██████████| 78/78 [00:02<00:00, 28.07it/s]\n"
          ]
        },
        {
          "output_type": "stream",
          "name": "stdout",
          "text": [
            "Epoch 35 - Loss: 1.5352\n"
          ]
        },
        {
          "output_type": "stream",
          "name": "stderr",
          "text": [
            "Epoch 36: 100%|██████████| 78/78 [00:02<00:00, 31.23it/s]\n"
          ]
        },
        {
          "output_type": "stream",
          "name": "stdout",
          "text": [
            "Epoch 36 - Loss: 1.5109\n"
          ]
        },
        {
          "output_type": "stream",
          "name": "stderr",
          "text": [
            "Epoch 37: 100%|██████████| 78/78 [00:02<00:00, 31.17it/s]\n"
          ]
        },
        {
          "output_type": "stream",
          "name": "stdout",
          "text": [
            "Epoch 37 - Loss: 1.4712\n"
          ]
        },
        {
          "output_type": "stream",
          "name": "stderr",
          "text": [
            "Epoch 38: 100%|██████████| 78/78 [00:02<00:00, 30.85it/s]\n"
          ]
        },
        {
          "output_type": "stream",
          "name": "stdout",
          "text": [
            "Epoch 38 - Loss: 1.4459\n"
          ]
        },
        {
          "output_type": "stream",
          "name": "stderr",
          "text": [
            "Epoch 39: 100%|██████████| 78/78 [00:02<00:00, 30.40it/s]\n"
          ]
        },
        {
          "output_type": "stream",
          "name": "stdout",
          "text": [
            "Epoch 39 - Loss: 1.4315\n"
          ]
        },
        {
          "output_type": "stream",
          "name": "stderr",
          "text": [
            "Epoch 40: 100%|██████████| 78/78 [00:02<00:00, 28.20it/s]\n"
          ]
        },
        {
          "output_type": "stream",
          "name": "stdout",
          "text": [
            "Epoch 40 - Loss: 1.4052\n"
          ]
        },
        {
          "output_type": "stream",
          "name": "stderr",
          "text": [
            "Epoch 41: 100%|██████████| 78/78 [00:02<00:00, 30.88it/s]\n"
          ]
        },
        {
          "output_type": "stream",
          "name": "stdout",
          "text": [
            "Epoch 41 - Loss: 1.3817\n"
          ]
        },
        {
          "output_type": "stream",
          "name": "stderr",
          "text": [
            "Epoch 42: 100%|██████████| 78/78 [00:02<00:00, 30.68it/s]\n"
          ]
        },
        {
          "output_type": "stream",
          "name": "stdout",
          "text": [
            "Epoch 42 - Loss: 1.3499\n"
          ]
        },
        {
          "output_type": "stream",
          "name": "stderr",
          "text": [
            "Epoch 43: 100%|██████████| 78/78 [00:02<00:00, 31.00it/s]\n"
          ]
        },
        {
          "output_type": "stream",
          "name": "stdout",
          "text": [
            "Epoch 43 - Loss: 1.3276\n"
          ]
        },
        {
          "output_type": "stream",
          "name": "stderr",
          "text": [
            "Epoch 44: 100%|██████████| 78/78 [00:02<00:00, 29.75it/s]\n"
          ]
        },
        {
          "output_type": "stream",
          "name": "stdout",
          "text": [
            "Epoch 44 - Loss: 1.2984\n"
          ]
        },
        {
          "output_type": "stream",
          "name": "stderr",
          "text": [
            "Epoch 45: 100%|██████████| 78/78 [00:02<00:00, 29.23it/s]\n"
          ]
        },
        {
          "output_type": "stream",
          "name": "stdout",
          "text": [
            "Epoch 45 - Loss: 1.2779\n"
          ]
        },
        {
          "output_type": "stream",
          "name": "stderr",
          "text": [
            "Epoch 46: 100%|██████████| 78/78 [00:02<00:00, 30.83it/s]\n"
          ]
        },
        {
          "output_type": "stream",
          "name": "stdout",
          "text": [
            "Epoch 46 - Loss: 1.2506\n"
          ]
        },
        {
          "output_type": "stream",
          "name": "stderr",
          "text": [
            "Epoch 47: 100%|██████████| 78/78 [00:02<00:00, 30.75it/s]\n"
          ]
        },
        {
          "output_type": "stream",
          "name": "stdout",
          "text": [
            "Epoch 47 - Loss: 1.2383\n"
          ]
        },
        {
          "output_type": "stream",
          "name": "stderr",
          "text": [
            "Epoch 48: 100%|██████████| 78/78 [00:02<00:00, 31.25it/s]\n"
          ]
        },
        {
          "output_type": "stream",
          "name": "stdout",
          "text": [
            "Epoch 48 - Loss: 1.2101\n"
          ]
        },
        {
          "output_type": "stream",
          "name": "stderr",
          "text": [
            "Epoch 49: 100%|██████████| 78/78 [00:02<00:00, 29.24it/s]\n"
          ]
        },
        {
          "output_type": "stream",
          "name": "stdout",
          "text": [
            "Epoch 49 - Loss: 1.1905\n"
          ]
        },
        {
          "output_type": "stream",
          "name": "stderr",
          "text": [
            "Epoch 50: 100%|██████████| 78/78 [00:02<00:00, 29.86it/s]\n"
          ]
        },
        {
          "output_type": "stream",
          "name": "stdout",
          "text": [
            "Epoch 50 - Loss: 1.1666\n"
          ]
        },
        {
          "output_type": "stream",
          "name": "stderr",
          "text": [
            "Epoch 51: 100%|██████████| 78/78 [00:02<00:00, 30.80it/s]\n"
          ]
        },
        {
          "output_type": "stream",
          "name": "stdout",
          "text": [
            "Epoch 51 - Loss: 1.1531\n"
          ]
        },
        {
          "output_type": "stream",
          "name": "stderr",
          "text": [
            "Epoch 52: 100%|██████████| 78/78 [00:02<00:00, 31.17it/s]\n"
          ]
        },
        {
          "output_type": "stream",
          "name": "stdout",
          "text": [
            "Epoch 52 - Loss: 1.1388\n"
          ]
        },
        {
          "output_type": "stream",
          "name": "stderr",
          "text": [
            "Epoch 53: 100%|██████████| 78/78 [00:02<00:00, 31.42it/s]\n"
          ]
        },
        {
          "output_type": "stream",
          "name": "stdout",
          "text": [
            "Epoch 53 - Loss: 1.1224\n"
          ]
        },
        {
          "output_type": "stream",
          "name": "stderr",
          "text": [
            "Epoch 54: 100%|██████████| 78/78 [00:02<00:00, 28.89it/s]\n"
          ]
        },
        {
          "output_type": "stream",
          "name": "stdout",
          "text": [
            "Epoch 54 - Loss: 1.0969\n"
          ]
        },
        {
          "output_type": "stream",
          "name": "stderr",
          "text": [
            "Epoch 55: 100%|██████████| 78/78 [00:02<00:00, 30.77it/s]\n"
          ]
        },
        {
          "output_type": "stream",
          "name": "stdout",
          "text": [
            "Epoch 55 - Loss: 1.0802\n"
          ]
        },
        {
          "output_type": "stream",
          "name": "stderr",
          "text": [
            "Epoch 56: 100%|██████████| 78/78 [00:02<00:00, 30.86it/s]\n"
          ]
        },
        {
          "output_type": "stream",
          "name": "stdout",
          "text": [
            "Epoch 56 - Loss: 1.0615\n"
          ]
        },
        {
          "output_type": "stream",
          "name": "stderr",
          "text": [
            "Epoch 57: 100%|██████████| 78/78 [00:02<00:00, 31.37it/s]\n"
          ]
        },
        {
          "output_type": "stream",
          "name": "stdout",
          "text": [
            "Epoch 57 - Loss: 1.0570\n"
          ]
        },
        {
          "output_type": "stream",
          "name": "stderr",
          "text": [
            "Epoch 58: 100%|██████████| 78/78 [00:02<00:00, 31.34it/s]\n"
          ]
        },
        {
          "output_type": "stream",
          "name": "stdout",
          "text": [
            "Epoch 58 - Loss: 1.0391\n"
          ]
        },
        {
          "output_type": "stream",
          "name": "stderr",
          "text": [
            "Epoch 59: 100%|██████████| 78/78 [00:02<00:00, 28.52it/s]\n"
          ]
        },
        {
          "output_type": "stream",
          "name": "stdout",
          "text": [
            "Epoch 59 - Loss: 1.0201\n"
          ]
        },
        {
          "output_type": "stream",
          "name": "stderr",
          "text": [
            "Epoch 60: 100%|██████████| 78/78 [00:02<00:00, 31.31it/s]\n"
          ]
        },
        {
          "output_type": "stream",
          "name": "stdout",
          "text": [
            "Epoch 60 - Loss: 1.0159\n"
          ]
        },
        {
          "output_type": "stream",
          "name": "stderr",
          "text": [
            "Epoch 61: 100%|██████████| 78/78 [00:02<00:00, 27.32it/s]\n"
          ]
        },
        {
          "output_type": "stream",
          "name": "stdout",
          "text": [
            "Epoch 61 - Loss: 1.0088\n"
          ]
        },
        {
          "output_type": "stream",
          "name": "stderr",
          "text": [
            "Epoch 62: 100%|██████████| 78/78 [00:02<00:00, 29.18it/s]\n"
          ]
        },
        {
          "output_type": "stream",
          "name": "stdout",
          "text": [
            "Epoch 62 - Loss: 0.9923\n"
          ]
        },
        {
          "output_type": "stream",
          "name": "stderr",
          "text": [
            "Epoch 63: 100%|██████████| 78/78 [00:02<00:00, 29.15it/s]\n"
          ]
        },
        {
          "output_type": "stream",
          "name": "stdout",
          "text": [
            "Epoch 63 - Loss: 0.9827\n"
          ]
        },
        {
          "output_type": "stream",
          "name": "stderr",
          "text": [
            "Epoch 64: 100%|██████████| 78/78 [00:02<00:00, 29.10it/s]\n"
          ]
        },
        {
          "output_type": "stream",
          "name": "stdout",
          "text": [
            "Epoch 64 - Loss: 0.9726\n"
          ]
        },
        {
          "output_type": "stream",
          "name": "stderr",
          "text": [
            "Epoch 65: 100%|██████████| 78/78 [00:02<00:00, 31.02it/s]\n"
          ]
        },
        {
          "output_type": "stream",
          "name": "stdout",
          "text": [
            "Epoch 65 - Loss: 0.9557\n"
          ]
        },
        {
          "output_type": "stream",
          "name": "stderr",
          "text": [
            "Epoch 66: 100%|██████████| 78/78 [00:02<00:00, 31.11it/s]\n"
          ]
        },
        {
          "output_type": "stream",
          "name": "stdout",
          "text": [
            "Epoch 66 - Loss: 0.9513\n"
          ]
        },
        {
          "output_type": "stream",
          "name": "stderr",
          "text": [
            "Epoch 67: 100%|██████████| 78/78 [00:02<00:00, 30.98it/s]\n"
          ]
        },
        {
          "output_type": "stream",
          "name": "stdout",
          "text": [
            "Epoch 67 - Loss: 0.9403\n"
          ]
        },
        {
          "output_type": "stream",
          "name": "stderr",
          "text": [
            "Epoch 68: 100%|██████████| 78/78 [00:02<00:00, 29.62it/s]\n"
          ]
        },
        {
          "output_type": "stream",
          "name": "stdout",
          "text": [
            "Epoch 68 - Loss: 0.9298\n"
          ]
        },
        {
          "output_type": "stream",
          "name": "stderr",
          "text": [
            "Epoch 69: 100%|██████████| 78/78 [00:02<00:00, 29.67it/s]\n"
          ]
        },
        {
          "output_type": "stream",
          "name": "stdout",
          "text": [
            "Epoch 69 - Loss: 0.9204\n"
          ]
        },
        {
          "output_type": "stream",
          "name": "stderr",
          "text": [
            "Epoch 70: 100%|██████████| 78/78 [00:02<00:00, 31.14it/s]\n"
          ]
        },
        {
          "output_type": "stream",
          "name": "stdout",
          "text": [
            "Epoch 70 - Loss: 0.9089\n"
          ]
        },
        {
          "output_type": "stream",
          "name": "stderr",
          "text": [
            "Epoch 71: 100%|██████████| 78/78 [00:02<00:00, 30.93it/s]\n"
          ]
        },
        {
          "output_type": "stream",
          "name": "stdout",
          "text": [
            "Epoch 71 - Loss: 0.8984\n"
          ]
        },
        {
          "output_type": "stream",
          "name": "stderr",
          "text": [
            "Epoch 72: 100%|██████████| 78/78 [00:02<00:00, 31.03it/s]\n"
          ]
        },
        {
          "output_type": "stream",
          "name": "stdout",
          "text": [
            "Epoch 72 - Loss: 0.8933\n"
          ]
        },
        {
          "output_type": "stream",
          "name": "stderr",
          "text": [
            "Epoch 73: 100%|██████████| 78/78 [00:02<00:00, 28.98it/s]\n"
          ]
        },
        {
          "output_type": "stream",
          "name": "stdout",
          "text": [
            "Epoch 73 - Loss: 0.8877\n"
          ]
        },
        {
          "output_type": "stream",
          "name": "stderr",
          "text": [
            "Epoch 74: 100%|██████████| 78/78 [00:02<00:00, 30.25it/s]\n"
          ]
        },
        {
          "output_type": "stream",
          "name": "stdout",
          "text": [
            "Epoch 74 - Loss: 0.8823\n"
          ]
        },
        {
          "output_type": "stream",
          "name": "stderr",
          "text": [
            "Epoch 75: 100%|██████████| 78/78 [00:02<00:00, 31.13it/s]\n"
          ]
        },
        {
          "output_type": "stream",
          "name": "stdout",
          "text": [
            "Epoch 75 - Loss: 0.8756\n"
          ]
        },
        {
          "output_type": "stream",
          "name": "stderr",
          "text": [
            "Epoch 76: 100%|██████████| 78/78 [00:02<00:00, 31.27it/s]\n"
          ]
        },
        {
          "output_type": "stream",
          "name": "stdout",
          "text": [
            "Epoch 76 - Loss: 0.8700\n"
          ]
        },
        {
          "output_type": "stream",
          "name": "stderr",
          "text": [
            "Epoch 77: 100%|██████████| 78/78 [00:02<00:00, 31.09it/s]\n"
          ]
        },
        {
          "output_type": "stream",
          "name": "stdout",
          "text": [
            "Epoch 77 - Loss: 0.8608\n"
          ]
        },
        {
          "output_type": "stream",
          "name": "stderr",
          "text": [
            "Epoch 78: 100%|██████████| 78/78 [00:02<00:00, 28.33it/s]\n"
          ]
        },
        {
          "output_type": "stream",
          "name": "stdout",
          "text": [
            "Epoch 78 - Loss: 0.8564\n"
          ]
        },
        {
          "output_type": "stream",
          "name": "stderr",
          "text": [
            "Epoch 79: 100%|██████████| 78/78 [00:02<00:00, 30.66it/s]\n"
          ]
        },
        {
          "output_type": "stream",
          "name": "stdout",
          "text": [
            "Epoch 79 - Loss: 0.8488\n"
          ]
        },
        {
          "output_type": "stream",
          "name": "stderr",
          "text": [
            "Epoch 80: 100%|██████████| 78/78 [00:02<00:00, 31.20it/s]\n"
          ]
        },
        {
          "output_type": "stream",
          "name": "stdout",
          "text": [
            "Epoch 80 - Loss: 0.8443\n"
          ]
        },
        {
          "output_type": "stream",
          "name": "stderr",
          "text": [
            "Epoch 81: 100%|██████████| 78/78 [00:02<00:00, 31.39it/s]\n"
          ]
        },
        {
          "output_type": "stream",
          "name": "stdout",
          "text": [
            "Epoch 81 - Loss: 0.8418\n"
          ]
        },
        {
          "output_type": "stream",
          "name": "stderr",
          "text": [
            "Epoch 82: 100%|██████████| 78/78 [00:02<00:00, 31.25it/s]\n"
          ]
        },
        {
          "output_type": "stream",
          "name": "stdout",
          "text": [
            "Epoch 82 - Loss: 0.8426\n"
          ]
        },
        {
          "output_type": "stream",
          "name": "stderr",
          "text": [
            "Epoch 83: 100%|██████████| 78/78 [00:02<00:00, 28.36it/s]\n"
          ]
        },
        {
          "output_type": "stream",
          "name": "stdout",
          "text": [
            "Epoch 83 - Loss: 0.8427\n"
          ]
        },
        {
          "output_type": "stream",
          "name": "stderr",
          "text": [
            "Epoch 84: 100%|██████████| 78/78 [00:02<00:00, 31.02it/s]\n"
          ]
        },
        {
          "output_type": "stream",
          "name": "stdout",
          "text": [
            "Epoch 84 - Loss: 0.8320\n"
          ]
        },
        {
          "output_type": "stream",
          "name": "stderr",
          "text": [
            "Epoch 85: 100%|██████████| 78/78 [00:02<00:00, 31.21it/s]\n"
          ]
        },
        {
          "output_type": "stream",
          "name": "stdout",
          "text": [
            "Epoch 85 - Loss: 0.8378\n"
          ]
        },
        {
          "output_type": "stream",
          "name": "stderr",
          "text": [
            "Epoch 86: 100%|██████████| 78/78 [00:02<00:00, 31.12it/s]\n"
          ]
        },
        {
          "output_type": "stream",
          "name": "stdout",
          "text": [
            "Epoch 86 - Loss: 0.8308\n"
          ]
        },
        {
          "output_type": "stream",
          "name": "stderr",
          "text": [
            "Epoch 87: 100%|██████████| 78/78 [00:02<00:00, 30.57it/s]\n"
          ]
        },
        {
          "output_type": "stream",
          "name": "stdout",
          "text": [
            "Epoch 87 - Loss: 0.8303\n"
          ]
        },
        {
          "output_type": "stream",
          "name": "stderr",
          "text": [
            "Epoch 88: 100%|██████████| 78/78 [00:02<00:00, 28.79it/s]\n"
          ]
        },
        {
          "output_type": "stream",
          "name": "stdout",
          "text": [
            "Epoch 88 - Loss: 0.8287\n"
          ]
        },
        {
          "output_type": "stream",
          "name": "stderr",
          "text": [
            "Epoch 89: 100%|██████████| 78/78 [00:02<00:00, 31.38it/s]\n"
          ]
        },
        {
          "output_type": "stream",
          "name": "stdout",
          "text": [
            "Epoch 89 - Loss: 0.8232\n"
          ]
        },
        {
          "output_type": "stream",
          "name": "stderr",
          "text": [
            "Epoch 90: 100%|██████████| 78/78 [00:02<00:00, 31.09it/s]\n"
          ]
        },
        {
          "output_type": "stream",
          "name": "stdout",
          "text": [
            "Epoch 90 - Loss: 0.8195\n"
          ]
        },
        {
          "output_type": "stream",
          "name": "stderr",
          "text": [
            "Epoch 91: 100%|██████████| 78/78 [00:02<00:00, 27.31it/s]\n"
          ]
        },
        {
          "output_type": "stream",
          "name": "stdout",
          "text": [
            "Epoch 91 - Loss: 0.8189\n"
          ]
        },
        {
          "output_type": "stream",
          "name": "stderr",
          "text": [
            "Epoch 92: 100%|██████████| 78/78 [00:02<00:00, 29.19it/s]\n"
          ]
        },
        {
          "output_type": "stream",
          "name": "stdout",
          "text": [
            "Epoch 92 - Loss: 0.8182\n"
          ]
        },
        {
          "output_type": "stream",
          "name": "stderr",
          "text": [
            "Epoch 93: 100%|██████████| 78/78 [00:02<00:00, 29.34it/s]\n"
          ]
        },
        {
          "output_type": "stream",
          "name": "stdout",
          "text": [
            "Epoch 93 - Loss: 0.8295\n"
          ]
        },
        {
          "output_type": "stream",
          "name": "stderr",
          "text": [
            "Epoch 94: 100%|██████████| 78/78 [00:02<00:00, 31.06it/s]\n"
          ]
        },
        {
          "output_type": "stream",
          "name": "stdout",
          "text": [
            "Epoch 94 - Loss: 0.8187\n"
          ]
        },
        {
          "output_type": "stream",
          "name": "stderr",
          "text": [
            "Epoch 95: 100%|██████████| 78/78 [00:02<00:00, 31.30it/s]\n"
          ]
        },
        {
          "output_type": "stream",
          "name": "stdout",
          "text": [
            "Epoch 95 - Loss: 0.8222\n"
          ]
        },
        {
          "output_type": "stream",
          "name": "stderr",
          "text": [
            "Epoch 96: 100%|██████████| 78/78 [00:02<00:00, 30.90it/s]\n"
          ]
        },
        {
          "output_type": "stream",
          "name": "stdout",
          "text": [
            "Epoch 96 - Loss: 0.8182\n"
          ]
        },
        {
          "output_type": "stream",
          "name": "stderr",
          "text": [
            "Epoch 97: 100%|██████████| 78/78 [00:02<00:00, 28.89it/s]\n"
          ]
        },
        {
          "output_type": "stream",
          "name": "stdout",
          "text": [
            "Epoch 97 - Loss: 0.8155\n"
          ]
        },
        {
          "output_type": "stream",
          "name": "stderr",
          "text": [
            "Epoch 98: 100%|██████████| 78/78 [00:02<00:00, 30.19it/s]\n"
          ]
        },
        {
          "output_type": "stream",
          "name": "stdout",
          "text": [
            "Epoch 98 - Loss: 0.8213\n"
          ]
        },
        {
          "output_type": "stream",
          "name": "stderr",
          "text": [
            "Epoch 99: 100%|██████████| 78/78 [00:02<00:00, 31.26it/s]\n"
          ]
        },
        {
          "output_type": "stream",
          "name": "stdout",
          "text": [
            "Epoch 99 - Loss: 0.8193\n"
          ]
        },
        {
          "output_type": "stream",
          "name": "stderr",
          "text": [
            "Epoch 100: 100%|██████████| 78/78 [00:02<00:00, 31.07it/s]\n"
          ]
        },
        {
          "output_type": "stream",
          "name": "stdout",
          "text": [
            "Epoch 100 - Loss: 0.8233\n",
            "Generating sequences with CT-GAN transformer...\n"
          ]
        },
        {
          "output_type": "stream",
          "name": "stderr",
          "text": [
            "Generating: 1000it [02:53,  5.76it/s]\n"
          ]
        },
        {
          "output_type": "stream",
          "name": "stdout",
          "text": [
            "\n",
            "Generated data shape: (400000, 8)\n",
            "\n",
            "Sample generated data:\n",
            "   account_id    raw_amount        amount         td  \\\n",
            "0        1000   2666.503997    412.965074  13.795662   \n",
            "1        1000 -14934.705809   8689.784891  -0.554307   \n",
            "2        1000   -356.965496  21511.089715  10.855191   \n",
            "3        1000  -7074.346551  47640.779811   1.308567   \n",
            "4        1000  -2166.620380   8689.784891   0.026520   \n",
            "5        1000   5721.196465    494.736121  32.817513   \n",
            "6        1000 -14934.705809   6039.684722  10.311920   \n",
            "7        1000  28127.667330    494.736121   4.887288   \n",
            "8        1000  -9654.369669    494.736121   0.722644   \n",
            "9        1000 -20810.934601    494.736121   0.218612   \n",
            "\n",
            "                                               tcode  year day month  \n",
            "0                        CREDIT__CREDIT IN CASH__nan  1996  17     2  \n",
            "1                 DEBIT__CREDIT CARD WITHDRAWAL__nan  1996   2     7  \n",
            "2               DEBIT__REMITTANCE TO ANOTHER BANK__   1996  13     2  \n",
            "3  CREDIT__COLLECTION FROM ANOTHER BANK__OLD AGE ...  1996  11     8  \n",
            "4               DEBIT__REMITTANCE TO ANOTHER BANK__   1996   5     5  \n",
            "5       DEBIT__REMITTANCE TO ANOTHER BANK__HOUSEHOLD  1996  10     2  \n",
            "6                        DEBIT__CASH WITHDRAWAL__nan  1996  26     2  \n",
            "7                     CREDIT__nan__INTEREST CREDITED  1997  31     5  \n",
            "8             DEBIT__REMITTANCE TO ANOTHER BANK__nan  1997  11     3  \n",
            "9                        CREDIT__CREDIT IN CASH__nan  1997  19     3  \n",
            "\n",
            "Synthetic data saved with CT-GAN transformer!\n",
            "CT-GAN transformer created 31 features from 3 numerical columns\n"
          ]
        }
      ]
    },
    {
      "cell_type": "code",
      "source": [
        "df_processed"
      ],
      "metadata": {
        "colab": {
          "base_uri": "https://localhost:8080/",
          "height": 617
        },
        "id": "lstQ3G3tVa3p",
        "outputId": "8d0c39b0-90ba-43c0-8fb5-f34083a6d0a5"
      },
      "execution_count": null,
      "outputs": [
        {
          "output_type": "execute_result",
          "data": {
            "text/plain": [
              "         tcode  dow  month  day  year  DoM_cat  account_id   datetime  \\\n",
              "0            2    4      5   16     2        1           1 1995-03-24   \n",
              "1            1    3      6    4     2        2           1 1995-04-13   \n",
              "2            2    6      6   15     2        1           1 1995-04-23   \n",
              "3            3    6      6   23     2        1           1 1995-04-30   \n",
              "4            1    5      7    4     2        2           1 1995-05-13   \n",
              "...        ...  ...    ...  ...   ...      ...         ...        ...   \n",
              "1056315      9    2      3   11     5        0       11382 1998-12-02   \n",
              "1056316      1    3      3    1     5        0       11382 1998-12-10   \n",
              "1056317      9    4      3   17     5        1       11382 1998-12-25   \n",
              "1056318      3    3      3   24     5        1       11382 1998-12-31   \n",
              "1056319      3    3      3   24     5        1       11382 1998-12-31   \n",
              "\n",
              "         num_feature_0  num_feature_1  ...  num_feature_21  num_feature_22  \\\n",
              "0             0.017705            1.0  ...       -0.000330             0.0   \n",
              "1             0.081436            0.0  ...        0.025029             0.0   \n",
              "2             0.033781            0.0  ...       -0.304647             0.0   \n",
              "3            -0.197041            0.0  ...       -0.088430             0.0   \n",
              "4             0.081436            0.0  ...        0.153339             0.0   \n",
              "...                ...            ...  ...             ...             ...   \n",
              "1056315       0.326155            0.0  ...        0.282008             0.0   \n",
              "1056316       0.039402            0.0  ...        0.071736             0.0   \n",
              "1056317      -0.104140            0.0  ...       -0.329335             0.0   \n",
              "1056318      -0.283372            1.0  ...        0.372958             1.0   \n",
              "1056319      -0.287831            1.0  ...       -0.000330             0.0   \n",
              "\n",
              "         num_feature_23  num_feature_24  num_feature_25  num_feature_26  \\\n",
              "0                   0.0             0.0             0.0             0.0   \n",
              "1                   0.0             0.0             0.0             0.0   \n",
              "2                   0.0             0.0             0.0             0.0   \n",
              "3                   0.0             0.0             1.0             0.0   \n",
              "4                   0.0             0.0             0.0             0.0   \n",
              "...                 ...             ...             ...             ...   \n",
              "1056315             0.0             1.0             0.0             0.0   \n",
              "1056316             0.0             0.0             1.0             0.0   \n",
              "1056317             0.0             0.0             0.0             0.0   \n",
              "1056318             0.0             0.0             0.0             0.0   \n",
              "1056319             0.0             0.0             0.0             0.0   \n",
              "\n",
              "         num_feature_27  num_feature_28  num_feature_29  num_feature_30  \n",
              "0                   0.0             0.0             0.0             1.0  \n",
              "1                   1.0             0.0             0.0             0.0  \n",
              "2                   0.0             0.0             1.0             0.0  \n",
              "3                   0.0             0.0             0.0             0.0  \n",
              "4                   0.0             0.0             1.0             0.0  \n",
              "...                 ...             ...             ...             ...  \n",
              "1056315             0.0             0.0             0.0             0.0  \n",
              "1056316             0.0             0.0             0.0             0.0  \n",
              "1056317             1.0             0.0             0.0             0.0  \n",
              "1056318             0.0             0.0             0.0             0.0  \n",
              "1056319             0.0             0.0             0.0             1.0  \n",
              "\n",
              "[1056320 rows x 39 columns]"
            ],
            "text/html": [
              "\n",
              "  <div id=\"df-54818180-ba3e-4376-a9eb-1d127b99e469\" class=\"colab-df-container\">\n",
              "    <div>\n",
              "<style scoped>\n",
              "    .dataframe tbody tr th:only-of-type {\n",
              "        vertical-align: middle;\n",
              "    }\n",
              "\n",
              "    .dataframe tbody tr th {\n",
              "        vertical-align: top;\n",
              "    }\n",
              "\n",
              "    .dataframe thead th {\n",
              "        text-align: right;\n",
              "    }\n",
              "</style>\n",
              "<table border=\"1\" class=\"dataframe\">\n",
              "  <thead>\n",
              "    <tr style=\"text-align: right;\">\n",
              "      <th></th>\n",
              "      <th>tcode</th>\n",
              "      <th>dow</th>\n",
              "      <th>month</th>\n",
              "      <th>day</th>\n",
              "      <th>year</th>\n",
              "      <th>DoM_cat</th>\n",
              "      <th>account_id</th>\n",
              "      <th>datetime</th>\n",
              "      <th>num_feature_0</th>\n",
              "      <th>num_feature_1</th>\n",
              "      <th>...</th>\n",
              "      <th>num_feature_21</th>\n",
              "      <th>num_feature_22</th>\n",
              "      <th>num_feature_23</th>\n",
              "      <th>num_feature_24</th>\n",
              "      <th>num_feature_25</th>\n",
              "      <th>num_feature_26</th>\n",
              "      <th>num_feature_27</th>\n",
              "      <th>num_feature_28</th>\n",
              "      <th>num_feature_29</th>\n",
              "      <th>num_feature_30</th>\n",
              "    </tr>\n",
              "  </thead>\n",
              "  <tbody>\n",
              "    <tr>\n",
              "      <th>0</th>\n",
              "      <td>2</td>\n",
              "      <td>4</td>\n",
              "      <td>5</td>\n",
              "      <td>16</td>\n",
              "      <td>2</td>\n",
              "      <td>1</td>\n",
              "      <td>1</td>\n",
              "      <td>1995-03-24</td>\n",
              "      <td>0.017705</td>\n",
              "      <td>1.0</td>\n",
              "      <td>...</td>\n",
              "      <td>-0.000330</td>\n",
              "      <td>0.0</td>\n",
              "      <td>0.0</td>\n",
              "      <td>0.0</td>\n",
              "      <td>0.0</td>\n",
              "      <td>0.0</td>\n",
              "      <td>0.0</td>\n",
              "      <td>0.0</td>\n",
              "      <td>0.0</td>\n",
              "      <td>1.0</td>\n",
              "    </tr>\n",
              "    <tr>\n",
              "      <th>1</th>\n",
              "      <td>1</td>\n",
              "      <td>3</td>\n",
              "      <td>6</td>\n",
              "      <td>4</td>\n",
              "      <td>2</td>\n",
              "      <td>2</td>\n",
              "      <td>1</td>\n",
              "      <td>1995-04-13</td>\n",
              "      <td>0.081436</td>\n",
              "      <td>0.0</td>\n",
              "      <td>...</td>\n",
              "      <td>0.025029</td>\n",
              "      <td>0.0</td>\n",
              "      <td>0.0</td>\n",
              "      <td>0.0</td>\n",
              "      <td>0.0</td>\n",
              "      <td>0.0</td>\n",
              "      <td>1.0</td>\n",
              "      <td>0.0</td>\n",
              "      <td>0.0</td>\n",
              "      <td>0.0</td>\n",
              "    </tr>\n",
              "    <tr>\n",
              "      <th>2</th>\n",
              "      <td>2</td>\n",
              "      <td>6</td>\n",
              "      <td>6</td>\n",
              "      <td>15</td>\n",
              "      <td>2</td>\n",
              "      <td>1</td>\n",
              "      <td>1</td>\n",
              "      <td>1995-04-23</td>\n",
              "      <td>0.033781</td>\n",
              "      <td>0.0</td>\n",
              "      <td>...</td>\n",
              "      <td>-0.304647</td>\n",
              "      <td>0.0</td>\n",
              "      <td>0.0</td>\n",
              "      <td>0.0</td>\n",
              "      <td>0.0</td>\n",
              "      <td>0.0</td>\n",
              "      <td>0.0</td>\n",
              "      <td>0.0</td>\n",
              "      <td>1.0</td>\n",
              "      <td>0.0</td>\n",
              "    </tr>\n",
              "    <tr>\n",
              "      <th>3</th>\n",
              "      <td>3</td>\n",
              "      <td>6</td>\n",
              "      <td>6</td>\n",
              "      <td>23</td>\n",
              "      <td>2</td>\n",
              "      <td>1</td>\n",
              "      <td>1</td>\n",
              "      <td>1995-04-30</td>\n",
              "      <td>-0.197041</td>\n",
              "      <td>0.0</td>\n",
              "      <td>...</td>\n",
              "      <td>-0.088430</td>\n",
              "      <td>0.0</td>\n",
              "      <td>0.0</td>\n",
              "      <td>0.0</td>\n",
              "      <td>1.0</td>\n",
              "      <td>0.0</td>\n",
              "      <td>0.0</td>\n",
              "      <td>0.0</td>\n",
              "      <td>0.0</td>\n",
              "      <td>0.0</td>\n",
              "    </tr>\n",
              "    <tr>\n",
              "      <th>4</th>\n",
              "      <td>1</td>\n",
              "      <td>5</td>\n",
              "      <td>7</td>\n",
              "      <td>4</td>\n",
              "      <td>2</td>\n",
              "      <td>2</td>\n",
              "      <td>1</td>\n",
              "      <td>1995-05-13</td>\n",
              "      <td>0.081436</td>\n",
              "      <td>0.0</td>\n",
              "      <td>...</td>\n",
              "      <td>0.153339</td>\n",
              "      <td>0.0</td>\n",
              "      <td>0.0</td>\n",
              "      <td>0.0</td>\n",
              "      <td>0.0</td>\n",
              "      <td>0.0</td>\n",
              "      <td>0.0</td>\n",
              "      <td>0.0</td>\n",
              "      <td>1.0</td>\n",
              "      <td>0.0</td>\n",
              "    </tr>\n",
              "    <tr>\n",
              "      <th>...</th>\n",
              "      <td>...</td>\n",
              "      <td>...</td>\n",
              "      <td>...</td>\n",
              "      <td>...</td>\n",
              "      <td>...</td>\n",
              "      <td>...</td>\n",
              "      <td>...</td>\n",
              "      <td>...</td>\n",
              "      <td>...</td>\n",
              "      <td>...</td>\n",
              "      <td>...</td>\n",
              "      <td>...</td>\n",
              "      <td>...</td>\n",
              "      <td>...</td>\n",
              "      <td>...</td>\n",
              "      <td>...</td>\n",
              "      <td>...</td>\n",
              "      <td>...</td>\n",
              "      <td>...</td>\n",
              "      <td>...</td>\n",
              "      <td>...</td>\n",
              "    </tr>\n",
              "    <tr>\n",
              "      <th>1056315</th>\n",
              "      <td>9</td>\n",
              "      <td>2</td>\n",
              "      <td>3</td>\n",
              "      <td>11</td>\n",
              "      <td>5</td>\n",
              "      <td>0</td>\n",
              "      <td>11382</td>\n",
              "      <td>1998-12-02</td>\n",
              "      <td>0.326155</td>\n",
              "      <td>0.0</td>\n",
              "      <td>...</td>\n",
              "      <td>0.282008</td>\n",
              "      <td>0.0</td>\n",
              "      <td>0.0</td>\n",
              "      <td>1.0</td>\n",
              "      <td>0.0</td>\n",
              "      <td>0.0</td>\n",
              "      <td>0.0</td>\n",
              "      <td>0.0</td>\n",
              "      <td>0.0</td>\n",
              "      <td>0.0</td>\n",
              "    </tr>\n",
              "    <tr>\n",
              "      <th>1056316</th>\n",
              "      <td>1</td>\n",
              "      <td>3</td>\n",
              "      <td>3</td>\n",
              "      <td>1</td>\n",
              "      <td>5</td>\n",
              "      <td>0</td>\n",
              "      <td>11382</td>\n",
              "      <td>1998-12-10</td>\n",
              "      <td>0.039402</td>\n",
              "      <td>0.0</td>\n",
              "      <td>...</td>\n",
              "      <td>0.071736</td>\n",
              "      <td>0.0</td>\n",
              "      <td>0.0</td>\n",
              "      <td>0.0</td>\n",
              "      <td>1.0</td>\n",
              "      <td>0.0</td>\n",
              "      <td>0.0</td>\n",
              "      <td>0.0</td>\n",
              "      <td>0.0</td>\n",
              "      <td>0.0</td>\n",
              "    </tr>\n",
              "    <tr>\n",
              "      <th>1056317</th>\n",
              "      <td>9</td>\n",
              "      <td>4</td>\n",
              "      <td>3</td>\n",
              "      <td>17</td>\n",
              "      <td>5</td>\n",
              "      <td>1</td>\n",
              "      <td>11382</td>\n",
              "      <td>1998-12-25</td>\n",
              "      <td>-0.104140</td>\n",
              "      <td>0.0</td>\n",
              "      <td>...</td>\n",
              "      <td>-0.329335</td>\n",
              "      <td>0.0</td>\n",
              "      <td>0.0</td>\n",
              "      <td>0.0</td>\n",
              "      <td>0.0</td>\n",
              "      <td>0.0</td>\n",
              "      <td>1.0</td>\n",
              "      <td>0.0</td>\n",
              "      <td>0.0</td>\n",
              "      <td>0.0</td>\n",
              "    </tr>\n",
              "    <tr>\n",
              "      <th>1056318</th>\n",
              "      <td>3</td>\n",
              "      <td>3</td>\n",
              "      <td>3</td>\n",
              "      <td>24</td>\n",
              "      <td>5</td>\n",
              "      <td>1</td>\n",
              "      <td>11382</td>\n",
              "      <td>1998-12-31</td>\n",
              "      <td>-0.283372</td>\n",
              "      <td>1.0</td>\n",
              "      <td>...</td>\n",
              "      <td>0.372958</td>\n",
              "      <td>1.0</td>\n",
              "      <td>0.0</td>\n",
              "      <td>0.0</td>\n",
              "      <td>0.0</td>\n",
              "      <td>0.0</td>\n",
              "      <td>0.0</td>\n",
              "      <td>0.0</td>\n",
              "      <td>0.0</td>\n",
              "      <td>0.0</td>\n",
              "    </tr>\n",
              "    <tr>\n",
              "      <th>1056319</th>\n",
              "      <td>3</td>\n",
              "      <td>3</td>\n",
              "      <td>3</td>\n",
              "      <td>24</td>\n",
              "      <td>5</td>\n",
              "      <td>1</td>\n",
              "      <td>11382</td>\n",
              "      <td>1998-12-31</td>\n",
              "      <td>-0.287831</td>\n",
              "      <td>1.0</td>\n",
              "      <td>...</td>\n",
              "      <td>-0.000330</td>\n",
              "      <td>0.0</td>\n",
              "      <td>0.0</td>\n",
              "      <td>0.0</td>\n",
              "      <td>0.0</td>\n",
              "      <td>0.0</td>\n",
              "      <td>0.0</td>\n",
              "      <td>0.0</td>\n",
              "      <td>0.0</td>\n",
              "      <td>1.0</td>\n",
              "    </tr>\n",
              "  </tbody>\n",
              "</table>\n",
              "<p>1056320 rows × 39 columns</p>\n",
              "</div>\n",
              "    <div class=\"colab-df-buttons\">\n",
              "\n",
              "  <div class=\"colab-df-container\">\n",
              "    <button class=\"colab-df-convert\" onclick=\"convertToInteractive('df-54818180-ba3e-4376-a9eb-1d127b99e469')\"\n",
              "            title=\"Convert this dataframe to an interactive table.\"\n",
              "            style=\"display:none;\">\n",
              "\n",
              "  <svg xmlns=\"http://www.w3.org/2000/svg\" height=\"24px\" viewBox=\"0 -960 960 960\">\n",
              "    <path d=\"M120-120v-720h720v720H120Zm60-500h600v-160H180v160Zm220 220h160v-160H400v160Zm0 220h160v-160H400v160ZM180-400h160v-160H180v160Zm440 0h160v-160H620v160ZM180-180h160v-160H180v160Zm440 0h160v-160H620v160Z\"/>\n",
              "  </svg>\n",
              "    </button>\n",
              "\n",
              "  <style>\n",
              "    .colab-df-container {\n",
              "      display:flex;\n",
              "      gap: 12px;\n",
              "    }\n",
              "\n",
              "    .colab-df-convert {\n",
              "      background-color: #E8F0FE;\n",
              "      border: none;\n",
              "      border-radius: 50%;\n",
              "      cursor: pointer;\n",
              "      display: none;\n",
              "      fill: #1967D2;\n",
              "      height: 32px;\n",
              "      padding: 0 0 0 0;\n",
              "      width: 32px;\n",
              "    }\n",
              "\n",
              "    .colab-df-convert:hover {\n",
              "      background-color: #E2EBFA;\n",
              "      box-shadow: 0px 1px 2px rgba(60, 64, 67, 0.3), 0px 1px 3px 1px rgba(60, 64, 67, 0.15);\n",
              "      fill: #174EA6;\n",
              "    }\n",
              "\n",
              "    .colab-df-buttons div {\n",
              "      margin-bottom: 4px;\n",
              "    }\n",
              "\n",
              "    [theme=dark] .colab-df-convert {\n",
              "      background-color: #3B4455;\n",
              "      fill: #D2E3FC;\n",
              "    }\n",
              "\n",
              "    [theme=dark] .colab-df-convert:hover {\n",
              "      background-color: #434B5C;\n",
              "      box-shadow: 0px 1px 3px 1px rgba(0, 0, 0, 0.15);\n",
              "      filter: drop-shadow(0px 1px 2px rgba(0, 0, 0, 0.3));\n",
              "      fill: #FFFFFF;\n",
              "    }\n",
              "  </style>\n",
              "\n",
              "    <script>\n",
              "      const buttonEl =\n",
              "        document.querySelector('#df-54818180-ba3e-4376-a9eb-1d127b99e469 button.colab-df-convert');\n",
              "      buttonEl.style.display =\n",
              "        google.colab.kernel.accessAllowed ? 'block' : 'none';\n",
              "\n",
              "      async function convertToInteractive(key) {\n",
              "        const element = document.querySelector('#df-54818180-ba3e-4376-a9eb-1d127b99e469');\n",
              "        const dataTable =\n",
              "          await google.colab.kernel.invokeFunction('convertToInteractive',\n",
              "                                                    [key], {});\n",
              "        if (!dataTable) return;\n",
              "\n",
              "        const docLinkHtml = 'Like what you see? Visit the ' +\n",
              "          '<a target=\"_blank\" href=https://colab.research.google.com/notebooks/data_table.ipynb>data table notebook</a>'\n",
              "          + ' to learn more about interactive tables.';\n",
              "        element.innerHTML = '';\n",
              "        dataTable['output_type'] = 'display_data';\n",
              "        await google.colab.output.renderOutput(dataTable, element);\n",
              "        const docLink = document.createElement('div');\n",
              "        docLink.innerHTML = docLinkHtml;\n",
              "        element.appendChild(docLink);\n",
              "      }\n",
              "    </script>\n",
              "  </div>\n",
              "\n",
              "\n",
              "    <div id=\"df-8833d93a-fbd0-4f06-947d-152b0302c7c9\">\n",
              "      <button class=\"colab-df-quickchart\" onclick=\"quickchart('df-8833d93a-fbd0-4f06-947d-152b0302c7c9')\"\n",
              "                title=\"Suggest charts\"\n",
              "                style=\"display:none;\">\n",
              "\n",
              "<svg xmlns=\"http://www.w3.org/2000/svg\" height=\"24px\"viewBox=\"0 0 24 24\"\n",
              "     width=\"24px\">\n",
              "    <g>\n",
              "        <path d=\"M19 3H5c-1.1 0-2 .9-2 2v14c0 1.1.9 2 2 2h14c1.1 0 2-.9 2-2V5c0-1.1-.9-2-2-2zM9 17H7v-7h2v7zm4 0h-2V7h2v10zm4 0h-2v-4h2v4z\"/>\n",
              "    </g>\n",
              "</svg>\n",
              "      </button>\n",
              "\n",
              "<style>\n",
              "  .colab-df-quickchart {\n",
              "      --bg-color: #E8F0FE;\n",
              "      --fill-color: #1967D2;\n",
              "      --hover-bg-color: #E2EBFA;\n",
              "      --hover-fill-color: #174EA6;\n",
              "      --disabled-fill-color: #AAA;\n",
              "      --disabled-bg-color: #DDD;\n",
              "  }\n",
              "\n",
              "  [theme=dark] .colab-df-quickchart {\n",
              "      --bg-color: #3B4455;\n",
              "      --fill-color: #D2E3FC;\n",
              "      --hover-bg-color: #434B5C;\n",
              "      --hover-fill-color: #FFFFFF;\n",
              "      --disabled-bg-color: #3B4455;\n",
              "      --disabled-fill-color: #666;\n",
              "  }\n",
              "\n",
              "  .colab-df-quickchart {\n",
              "    background-color: var(--bg-color);\n",
              "    border: none;\n",
              "    border-radius: 50%;\n",
              "    cursor: pointer;\n",
              "    display: none;\n",
              "    fill: var(--fill-color);\n",
              "    height: 32px;\n",
              "    padding: 0;\n",
              "    width: 32px;\n",
              "  }\n",
              "\n",
              "  .colab-df-quickchart:hover {\n",
              "    background-color: var(--hover-bg-color);\n",
              "    box-shadow: 0 1px 2px rgba(60, 64, 67, 0.3), 0 1px 3px 1px rgba(60, 64, 67, 0.15);\n",
              "    fill: var(--button-hover-fill-color);\n",
              "  }\n",
              "\n",
              "  .colab-df-quickchart-complete:disabled,\n",
              "  .colab-df-quickchart-complete:disabled:hover {\n",
              "    background-color: var(--disabled-bg-color);\n",
              "    fill: var(--disabled-fill-color);\n",
              "    box-shadow: none;\n",
              "  }\n",
              "\n",
              "  .colab-df-spinner {\n",
              "    border: 2px solid var(--fill-color);\n",
              "    border-color: transparent;\n",
              "    border-bottom-color: var(--fill-color);\n",
              "    animation:\n",
              "      spin 1s steps(1) infinite;\n",
              "  }\n",
              "\n",
              "  @keyframes spin {\n",
              "    0% {\n",
              "      border-color: transparent;\n",
              "      border-bottom-color: var(--fill-color);\n",
              "      border-left-color: var(--fill-color);\n",
              "    }\n",
              "    20% {\n",
              "      border-color: transparent;\n",
              "      border-left-color: var(--fill-color);\n",
              "      border-top-color: var(--fill-color);\n",
              "    }\n",
              "    30% {\n",
              "      border-color: transparent;\n",
              "      border-left-color: var(--fill-color);\n",
              "      border-top-color: var(--fill-color);\n",
              "      border-right-color: var(--fill-color);\n",
              "    }\n",
              "    40% {\n",
              "      border-color: transparent;\n",
              "      border-right-color: var(--fill-color);\n",
              "      border-top-color: var(--fill-color);\n",
              "    }\n",
              "    60% {\n",
              "      border-color: transparent;\n",
              "      border-right-color: var(--fill-color);\n",
              "    }\n",
              "    80% {\n",
              "      border-color: transparent;\n",
              "      border-right-color: var(--fill-color);\n",
              "      border-bottom-color: var(--fill-color);\n",
              "    }\n",
              "    90% {\n",
              "      border-color: transparent;\n",
              "      border-bottom-color: var(--fill-color);\n",
              "    }\n",
              "  }\n",
              "</style>\n",
              "\n",
              "      <script>\n",
              "        async function quickchart(key) {\n",
              "          const quickchartButtonEl =\n",
              "            document.querySelector('#' + key + ' button');\n",
              "          quickchartButtonEl.disabled = true;  // To prevent multiple clicks.\n",
              "          quickchartButtonEl.classList.add('colab-df-spinner');\n",
              "          try {\n",
              "            const charts = await google.colab.kernel.invokeFunction(\n",
              "                'suggestCharts', [key], {});\n",
              "          } catch (error) {\n",
              "            console.error('Error during call to suggestCharts:', error);\n",
              "          }\n",
              "          quickchartButtonEl.classList.remove('colab-df-spinner');\n",
              "          quickchartButtonEl.classList.add('colab-df-quickchart-complete');\n",
              "        }\n",
              "        (() => {\n",
              "          let quickchartButtonEl =\n",
              "            document.querySelector('#df-8833d93a-fbd0-4f06-947d-152b0302c7c9 button');\n",
              "          quickchartButtonEl.style.display =\n",
              "            google.colab.kernel.accessAllowed ? 'block' : 'none';\n",
              "        })();\n",
              "      </script>\n",
              "    </div>\n",
              "\n",
              "  <div id=\"id_592f02fb-09f4-4625-b82c-e4f8e39f834c\">\n",
              "    <style>\n",
              "      .colab-df-generate {\n",
              "        background-color: #E8F0FE;\n",
              "        border: none;\n",
              "        border-radius: 50%;\n",
              "        cursor: pointer;\n",
              "        display: none;\n",
              "        fill: #1967D2;\n",
              "        height: 32px;\n",
              "        padding: 0 0 0 0;\n",
              "        width: 32px;\n",
              "      }\n",
              "\n",
              "      .colab-df-generate:hover {\n",
              "        background-color: #E2EBFA;\n",
              "        box-shadow: 0px 1px 2px rgba(60, 64, 67, 0.3), 0px 1px 3px 1px rgba(60, 64, 67, 0.15);\n",
              "        fill: #174EA6;\n",
              "      }\n",
              "\n",
              "      [theme=dark] .colab-df-generate {\n",
              "        background-color: #3B4455;\n",
              "        fill: #D2E3FC;\n",
              "      }\n",
              "\n",
              "      [theme=dark] .colab-df-generate:hover {\n",
              "        background-color: #434B5C;\n",
              "        box-shadow: 0px 1px 3px 1px rgba(0, 0, 0, 0.15);\n",
              "        filter: drop-shadow(0px 1px 2px rgba(0, 0, 0, 0.3));\n",
              "        fill: #FFFFFF;\n",
              "      }\n",
              "    </style>\n",
              "    <button class=\"colab-df-generate\" onclick=\"generateWithVariable('df_processed')\"\n",
              "            title=\"Generate code using this dataframe.\"\n",
              "            style=\"display:none;\">\n",
              "\n",
              "  <svg xmlns=\"http://www.w3.org/2000/svg\" height=\"24px\"viewBox=\"0 0 24 24\"\n",
              "       width=\"24px\">\n",
              "    <path d=\"M7,19H8.4L18.45,9,17,7.55,7,17.6ZM5,21V16.75L18.45,3.32a2,2,0,0,1,2.83,0l1.4,1.43a1.91,1.91,0,0,1,.58,1.4,1.91,1.91,0,0,1-.58,1.4L9.25,21ZM18.45,9,17,7.55Zm-12,3A5.31,5.31,0,0,0,4.9,8.1,5.31,5.31,0,0,0,1,6.5,5.31,5.31,0,0,0,4.9,4.9,5.31,5.31,0,0,0,6.5,1,5.31,5.31,0,0,0,8.1,4.9,5.31,5.31,0,0,0,12,6.5,5.46,5.46,0,0,0,6.5,12Z\"/>\n",
              "  </svg>\n",
              "    </button>\n",
              "    <script>\n",
              "      (() => {\n",
              "      const buttonEl =\n",
              "        document.querySelector('#id_592f02fb-09f4-4625-b82c-e4f8e39f834c button.colab-df-generate');\n",
              "      buttonEl.style.display =\n",
              "        google.colab.kernel.accessAllowed ? 'block' : 'none';\n",
              "\n",
              "      buttonEl.onclick = () => {\n",
              "        google.colab.notebook.generateWithVariable('df_processed');\n",
              "      }\n",
              "      })();\n",
              "    </script>\n",
              "  </div>\n",
              "\n",
              "    </div>\n",
              "  </div>\n"
            ],
            "application/vnd.google.colaboratory.intrinsic+json": {
              "type": "dataframe",
              "variable_name": "df_processed"
            }
          },
          "metadata": {},
          "execution_count": 53
        }
      ]
    },
    {
      "cell_type": "code",
      "source": [
        "synth_sorted['datetime'] = pd.to_datetime(synth_sorted[['year', 'month', 'day']], errors='coerce')\n",
        "\n",
        "# Optionally: Find invalid rows\n",
        "invalid_dates = synth_sorted[synth_sorted['datetime'].isna()]\n",
        "synth_sorted['datetime'] = pd.to_datetime(synth_sorted['datetime']).dt.date\n",
        "\n",
        "\n",
        "from datetime import datetime\n",
        "\n",
        "synth=synth_sorted\n",
        "synth['datetime'] = pd.to_datetime(synth['datetime'], errors='coerce')\n",
        "synth['datetime'] = pd.to_datetime(synth['datetime']).dt.date\n",
        "synth=synth.dropna()\n",
        "czech_date_parser = lambda x: datetime.strptime(str(x), \"%Y-%m-%d\")\n",
        "synth[\"datetime\"] = synth[\"datetime\"].apply(czech_date_parser)\n",
        "synth[\"month\"] = synth[\"datetime\"].dt.month\n",
        "synth[\"day\"] = synth[\"datetime\"].dt.day\n",
        "synth[\"dow\"] =  synth[\"datetime\"].dt.dayofweek\n",
        "synth[\"year\"] = synth[\"datetime\"].dt.year\n",
        "\n",
        "synth[\"td\"] = synth[[\"account_id\", \"datetime\"]].groupby(\"account_id\").diff()\n",
        "synth[\"td\"] = synth[\"td\"].apply(lambda x: x.days)\n",
        "synth[\"td\"].fillna(0.0, inplace=True)\n",
        "\n",
        "# synth.rename(columns={'days_passed': 'td'}, inplace=True)\n",
        "synth['type'] = synth['tcode'].str.split('__').str[0]\n",
        "synth['raw_amount'] = synth.apply(lambda row: row['amount'] if row['type'] == 'CREDIT' else -row['amount'], axis=1)\n",
        "synth[\"dtme\"] = synth.datetime.apply(lambda dt: calendar.monthrange(dt.year, dt.month)[1] - dt.day)\n",
        "\n",
        "synth_sorted = synth.sort_values(['account_id', 'year', 'month', 'day'])\n",
        "\n",
        "\n",
        "synth_cf = synth[[\"account_id\", \"month\", \"raw_amount\", \"year\"]].groupby([\"account_id\", \"month\", \"year\"],as_index=False)[\"raw_amount\"].sum()"
      ],
      "metadata": {
        "id": "8RG-onlC8Fn3"
      },
      "execution_count": null,
      "outputs": []
    },
    {
      "cell_type": "code",
      "source": [
        "synt_test=synth_sorted.head(1000)\n",
        "synt_test.to_csv('synt_test.csv')"
      ],
      "metadata": {
        "id": "27Gg7YEgVE04"
      },
      "execution_count": null,
      "outputs": []
    },
    {
      "cell_type": "code",
      "source": [
        "real_test=real_sorted.head(1000)\n",
        "real_test.to_csv('real_test.csv')"
      ],
      "metadata": {
        "id": "A8KVztb8VTYz"
      },
      "execution_count": null,
      "outputs": []
    },
    {
      "cell_type": "code",
      "source": [
        "df2 = raw_data[['account_id','tcode', 'datetime','amount', 'raw_amount']]\n",
        "real = df2.copy()\n",
        "real[\"month\"] = real[\"datetime\"].dt.month\n",
        "real[\"day\"] = real[\"datetime\"].dt.day\n",
        "real[\"dow\"] =  real[\"datetime\"].dt.dayofweek\n",
        "real[\"year\"] = real[\"datetime\"].dt.year\n",
        "\n",
        "real[\"td\"] = real[[\"account_id\", \"datetime\"]].groupby(\"account_id\").diff()\n",
        "real[\"td\"] = real[\"td\"].apply(lambda x: x.days)\n",
        "real[\"td\"].fillna(0.0, inplace=True)\n",
        "real['type'] = real['tcode'].str.split('__').str[0]\n",
        "\n",
        "# dtme - days till month end\n",
        "real[\"dtme\"] = real.datetime.apply(lambda dt: calendar.monthrange(dt.year, dt.month)[1] - dt.day)\n",
        "\n",
        "real_cf = real[[\"account_id\", \"month\", \"raw_amount\", \"year\"]].groupby([\"account_id\", \"month\", \"year\"],as_index=False)[\"raw_amount\"].sum()\n",
        "real_sorted = real.sort_values(['account_id', 'year', 'month', 'day'])\n",
        "real"
      ],
      "metadata": {
        "colab": {
          "base_uri": "https://localhost:8080/",
          "height": 597
        },
        "id": "wHdpXCYjAUsM",
        "outputId": "4201c17f-f966-4d3d-9ce2-66bb39e04cd6"
      },
      "execution_count": null,
      "outputs": [
        {
          "output_type": "execute_result",
          "data": {
            "text/plain": [
              "         account_id                                      tcode   datetime  \\\n",
              "0                 1                CREDIT__CREDIT IN CASH__nan 1995-03-24   \n",
              "1                 1  CREDIT__COLLECTION FROM ANOTHER BANK__nan 1995-04-13   \n",
              "2                 1                CREDIT__CREDIT IN CASH__nan 1995-04-23   \n",
              "3                 1             CREDIT__nan__INTEREST CREDITED 1995-04-30   \n",
              "4                 1  CREDIT__COLLECTION FROM ANOTHER BANK__nan 1995-05-13   \n",
              "...             ...                                        ...        ...   \n",
              "1056315       11382                DEBIT__CASH WITHDRAWAL__nan 1998-12-02   \n",
              "1056316       11382  CREDIT__COLLECTION FROM ANOTHER BANK__nan 1998-12-10   \n",
              "1056317       11382                DEBIT__CASH WITHDRAWAL__nan 1998-12-25   \n",
              "1056318       11382             CREDIT__nan__INTEREST CREDITED 1998-12-31   \n",
              "1056319       11382             CREDIT__nan__INTEREST CREDITED 1998-12-31   \n",
              "\n",
              "          amount  raw_amount  month  day  dow  year    td    type  dtme  \n",
              "0         1000.0      1000.0      3   24    4  1995   0.0  CREDIT     7  \n",
              "1         3679.0      3679.0      4   13    3  1995  20.0  CREDIT    17  \n",
              "2        12600.0     12600.0      4   23    6  1995  10.0  CREDIT     7  \n",
              "3           19.2        19.2      4   30    6  1995   7.0  CREDIT     0  \n",
              "4         3679.0      3679.0      5   13    5  1995  13.0  CREDIT    18  \n",
              "...          ...         ...    ...  ...  ...   ...   ...     ...   ...  \n",
              "1056315  25600.0    -25600.0     12    2    2  1998   2.0   DEBIT    29  \n",
              "1056316  46248.0     46248.0     12   10    3  1998   8.0  CREDIT    21  \n",
              "1056317   6300.0     -6300.0     12   25    4  1998  15.0   DEBIT     6  \n",
              "1056318    311.3       311.3     12   31    3  1998   6.0  CREDIT     0  \n",
              "1056319    301.1       301.1     12   31    3  1998   0.0  CREDIT     0  \n",
              "\n",
              "[1056320 rows x 12 columns]"
            ],
            "text/html": [
              "\n",
              "  <div id=\"df-1bf47a5b-b87a-4a99-baa6-b9391d4fd162\" class=\"colab-df-container\">\n",
              "    <div>\n",
              "<style scoped>\n",
              "    .dataframe tbody tr th:only-of-type {\n",
              "        vertical-align: middle;\n",
              "    }\n",
              "\n",
              "    .dataframe tbody tr th {\n",
              "        vertical-align: top;\n",
              "    }\n",
              "\n",
              "    .dataframe thead th {\n",
              "        text-align: right;\n",
              "    }\n",
              "</style>\n",
              "<table border=\"1\" class=\"dataframe\">\n",
              "  <thead>\n",
              "    <tr style=\"text-align: right;\">\n",
              "      <th></th>\n",
              "      <th>account_id</th>\n",
              "      <th>tcode</th>\n",
              "      <th>datetime</th>\n",
              "      <th>amount</th>\n",
              "      <th>raw_amount</th>\n",
              "      <th>month</th>\n",
              "      <th>day</th>\n",
              "      <th>dow</th>\n",
              "      <th>year</th>\n",
              "      <th>td</th>\n",
              "      <th>type</th>\n",
              "      <th>dtme</th>\n",
              "    </tr>\n",
              "  </thead>\n",
              "  <tbody>\n",
              "    <tr>\n",
              "      <th>0</th>\n",
              "      <td>1</td>\n",
              "      <td>CREDIT__CREDIT IN CASH__nan</td>\n",
              "      <td>1995-03-24</td>\n",
              "      <td>1000.0</td>\n",
              "      <td>1000.0</td>\n",
              "      <td>3</td>\n",
              "      <td>24</td>\n",
              "      <td>4</td>\n",
              "      <td>1995</td>\n",
              "      <td>0.0</td>\n",
              "      <td>CREDIT</td>\n",
              "      <td>7</td>\n",
              "    </tr>\n",
              "    <tr>\n",
              "      <th>1</th>\n",
              "      <td>1</td>\n",
              "      <td>CREDIT__COLLECTION FROM ANOTHER BANK__nan</td>\n",
              "      <td>1995-04-13</td>\n",
              "      <td>3679.0</td>\n",
              "      <td>3679.0</td>\n",
              "      <td>4</td>\n",
              "      <td>13</td>\n",
              "      <td>3</td>\n",
              "      <td>1995</td>\n",
              "      <td>20.0</td>\n",
              "      <td>CREDIT</td>\n",
              "      <td>17</td>\n",
              "    </tr>\n",
              "    <tr>\n",
              "      <th>2</th>\n",
              "      <td>1</td>\n",
              "      <td>CREDIT__CREDIT IN CASH__nan</td>\n",
              "      <td>1995-04-23</td>\n",
              "      <td>12600.0</td>\n",
              "      <td>12600.0</td>\n",
              "      <td>4</td>\n",
              "      <td>23</td>\n",
              "      <td>6</td>\n",
              "      <td>1995</td>\n",
              "      <td>10.0</td>\n",
              "      <td>CREDIT</td>\n",
              "      <td>7</td>\n",
              "    </tr>\n",
              "    <tr>\n",
              "      <th>3</th>\n",
              "      <td>1</td>\n",
              "      <td>CREDIT__nan__INTEREST CREDITED</td>\n",
              "      <td>1995-04-30</td>\n",
              "      <td>19.2</td>\n",
              "      <td>19.2</td>\n",
              "      <td>4</td>\n",
              "      <td>30</td>\n",
              "      <td>6</td>\n",
              "      <td>1995</td>\n",
              "      <td>7.0</td>\n",
              "      <td>CREDIT</td>\n",
              "      <td>0</td>\n",
              "    </tr>\n",
              "    <tr>\n",
              "      <th>4</th>\n",
              "      <td>1</td>\n",
              "      <td>CREDIT__COLLECTION FROM ANOTHER BANK__nan</td>\n",
              "      <td>1995-05-13</td>\n",
              "      <td>3679.0</td>\n",
              "      <td>3679.0</td>\n",
              "      <td>5</td>\n",
              "      <td>13</td>\n",
              "      <td>5</td>\n",
              "      <td>1995</td>\n",
              "      <td>13.0</td>\n",
              "      <td>CREDIT</td>\n",
              "      <td>18</td>\n",
              "    </tr>\n",
              "    <tr>\n",
              "      <th>...</th>\n",
              "      <td>...</td>\n",
              "      <td>...</td>\n",
              "      <td>...</td>\n",
              "      <td>...</td>\n",
              "      <td>...</td>\n",
              "      <td>...</td>\n",
              "      <td>...</td>\n",
              "      <td>...</td>\n",
              "      <td>...</td>\n",
              "      <td>...</td>\n",
              "      <td>...</td>\n",
              "      <td>...</td>\n",
              "    </tr>\n",
              "    <tr>\n",
              "      <th>1056315</th>\n",
              "      <td>11382</td>\n",
              "      <td>DEBIT__CASH WITHDRAWAL__nan</td>\n",
              "      <td>1998-12-02</td>\n",
              "      <td>25600.0</td>\n",
              "      <td>-25600.0</td>\n",
              "      <td>12</td>\n",
              "      <td>2</td>\n",
              "      <td>2</td>\n",
              "      <td>1998</td>\n",
              "      <td>2.0</td>\n",
              "      <td>DEBIT</td>\n",
              "      <td>29</td>\n",
              "    </tr>\n",
              "    <tr>\n",
              "      <th>1056316</th>\n",
              "      <td>11382</td>\n",
              "      <td>CREDIT__COLLECTION FROM ANOTHER BANK__nan</td>\n",
              "      <td>1998-12-10</td>\n",
              "      <td>46248.0</td>\n",
              "      <td>46248.0</td>\n",
              "      <td>12</td>\n",
              "      <td>10</td>\n",
              "      <td>3</td>\n",
              "      <td>1998</td>\n",
              "      <td>8.0</td>\n",
              "      <td>CREDIT</td>\n",
              "      <td>21</td>\n",
              "    </tr>\n",
              "    <tr>\n",
              "      <th>1056317</th>\n",
              "      <td>11382</td>\n",
              "      <td>DEBIT__CASH WITHDRAWAL__nan</td>\n",
              "      <td>1998-12-25</td>\n",
              "      <td>6300.0</td>\n",
              "      <td>-6300.0</td>\n",
              "      <td>12</td>\n",
              "      <td>25</td>\n",
              "      <td>4</td>\n",
              "      <td>1998</td>\n",
              "      <td>15.0</td>\n",
              "      <td>DEBIT</td>\n",
              "      <td>6</td>\n",
              "    </tr>\n",
              "    <tr>\n",
              "      <th>1056318</th>\n",
              "      <td>11382</td>\n",
              "      <td>CREDIT__nan__INTEREST CREDITED</td>\n",
              "      <td>1998-12-31</td>\n",
              "      <td>311.3</td>\n",
              "      <td>311.3</td>\n",
              "      <td>12</td>\n",
              "      <td>31</td>\n",
              "      <td>3</td>\n",
              "      <td>1998</td>\n",
              "      <td>6.0</td>\n",
              "      <td>CREDIT</td>\n",
              "      <td>0</td>\n",
              "    </tr>\n",
              "    <tr>\n",
              "      <th>1056319</th>\n",
              "      <td>11382</td>\n",
              "      <td>CREDIT__nan__INTEREST CREDITED</td>\n",
              "      <td>1998-12-31</td>\n",
              "      <td>301.1</td>\n",
              "      <td>301.1</td>\n",
              "      <td>12</td>\n",
              "      <td>31</td>\n",
              "      <td>3</td>\n",
              "      <td>1998</td>\n",
              "      <td>0.0</td>\n",
              "      <td>CREDIT</td>\n",
              "      <td>0</td>\n",
              "    </tr>\n",
              "  </tbody>\n",
              "</table>\n",
              "<p>1056320 rows × 12 columns</p>\n",
              "</div>\n",
              "    <div class=\"colab-df-buttons\">\n",
              "\n",
              "  <div class=\"colab-df-container\">\n",
              "    <button class=\"colab-df-convert\" onclick=\"convertToInteractive('df-1bf47a5b-b87a-4a99-baa6-b9391d4fd162')\"\n",
              "            title=\"Convert this dataframe to an interactive table.\"\n",
              "            style=\"display:none;\">\n",
              "\n",
              "  <svg xmlns=\"http://www.w3.org/2000/svg\" height=\"24px\" viewBox=\"0 -960 960 960\">\n",
              "    <path d=\"M120-120v-720h720v720H120Zm60-500h600v-160H180v160Zm220 220h160v-160H400v160Zm0 220h160v-160H400v160ZM180-400h160v-160H180v160Zm440 0h160v-160H620v160ZM180-180h160v-160H180v160Zm440 0h160v-160H620v160Z\"/>\n",
              "  </svg>\n",
              "    </button>\n",
              "\n",
              "  <style>\n",
              "    .colab-df-container {\n",
              "      display:flex;\n",
              "      gap: 12px;\n",
              "    }\n",
              "\n",
              "    .colab-df-convert {\n",
              "      background-color: #E8F0FE;\n",
              "      border: none;\n",
              "      border-radius: 50%;\n",
              "      cursor: pointer;\n",
              "      display: none;\n",
              "      fill: #1967D2;\n",
              "      height: 32px;\n",
              "      padding: 0 0 0 0;\n",
              "      width: 32px;\n",
              "    }\n",
              "\n",
              "    .colab-df-convert:hover {\n",
              "      background-color: #E2EBFA;\n",
              "      box-shadow: 0px 1px 2px rgba(60, 64, 67, 0.3), 0px 1px 3px 1px rgba(60, 64, 67, 0.15);\n",
              "      fill: #174EA6;\n",
              "    }\n",
              "\n",
              "    .colab-df-buttons div {\n",
              "      margin-bottom: 4px;\n",
              "    }\n",
              "\n",
              "    [theme=dark] .colab-df-convert {\n",
              "      background-color: #3B4455;\n",
              "      fill: #D2E3FC;\n",
              "    }\n",
              "\n",
              "    [theme=dark] .colab-df-convert:hover {\n",
              "      background-color: #434B5C;\n",
              "      box-shadow: 0px 1px 3px 1px rgba(0, 0, 0, 0.15);\n",
              "      filter: drop-shadow(0px 1px 2px rgba(0, 0, 0, 0.3));\n",
              "      fill: #FFFFFF;\n",
              "    }\n",
              "  </style>\n",
              "\n",
              "    <script>\n",
              "      const buttonEl =\n",
              "        document.querySelector('#df-1bf47a5b-b87a-4a99-baa6-b9391d4fd162 button.colab-df-convert');\n",
              "      buttonEl.style.display =\n",
              "        google.colab.kernel.accessAllowed ? 'block' : 'none';\n",
              "\n",
              "      async function convertToInteractive(key) {\n",
              "        const element = document.querySelector('#df-1bf47a5b-b87a-4a99-baa6-b9391d4fd162');\n",
              "        const dataTable =\n",
              "          await google.colab.kernel.invokeFunction('convertToInteractive',\n",
              "                                                    [key], {});\n",
              "        if (!dataTable) return;\n",
              "\n",
              "        const docLinkHtml = 'Like what you see? Visit the ' +\n",
              "          '<a target=\"_blank\" href=https://colab.research.google.com/notebooks/data_table.ipynb>data table notebook</a>'\n",
              "          + ' to learn more about interactive tables.';\n",
              "        element.innerHTML = '';\n",
              "        dataTable['output_type'] = 'display_data';\n",
              "        await google.colab.output.renderOutput(dataTable, element);\n",
              "        const docLink = document.createElement('div');\n",
              "        docLink.innerHTML = docLinkHtml;\n",
              "        element.appendChild(docLink);\n",
              "      }\n",
              "    </script>\n",
              "  </div>\n",
              "\n",
              "\n",
              "    <div id=\"df-91d9e675-8e63-4f36-b04d-b9565ef22ddb\">\n",
              "      <button class=\"colab-df-quickchart\" onclick=\"quickchart('df-91d9e675-8e63-4f36-b04d-b9565ef22ddb')\"\n",
              "                title=\"Suggest charts\"\n",
              "                style=\"display:none;\">\n",
              "\n",
              "<svg xmlns=\"http://www.w3.org/2000/svg\" height=\"24px\"viewBox=\"0 0 24 24\"\n",
              "     width=\"24px\">\n",
              "    <g>\n",
              "        <path d=\"M19 3H5c-1.1 0-2 .9-2 2v14c0 1.1.9 2 2 2h14c1.1 0 2-.9 2-2V5c0-1.1-.9-2-2-2zM9 17H7v-7h2v7zm4 0h-2V7h2v10zm4 0h-2v-4h2v4z\"/>\n",
              "    </g>\n",
              "</svg>\n",
              "      </button>\n",
              "\n",
              "<style>\n",
              "  .colab-df-quickchart {\n",
              "      --bg-color: #E8F0FE;\n",
              "      --fill-color: #1967D2;\n",
              "      --hover-bg-color: #E2EBFA;\n",
              "      --hover-fill-color: #174EA6;\n",
              "      --disabled-fill-color: #AAA;\n",
              "      --disabled-bg-color: #DDD;\n",
              "  }\n",
              "\n",
              "  [theme=dark] .colab-df-quickchart {\n",
              "      --bg-color: #3B4455;\n",
              "      --fill-color: #D2E3FC;\n",
              "      --hover-bg-color: #434B5C;\n",
              "      --hover-fill-color: #FFFFFF;\n",
              "      --disabled-bg-color: #3B4455;\n",
              "      --disabled-fill-color: #666;\n",
              "  }\n",
              "\n",
              "  .colab-df-quickchart {\n",
              "    background-color: var(--bg-color);\n",
              "    border: none;\n",
              "    border-radius: 50%;\n",
              "    cursor: pointer;\n",
              "    display: none;\n",
              "    fill: var(--fill-color);\n",
              "    height: 32px;\n",
              "    padding: 0;\n",
              "    width: 32px;\n",
              "  }\n",
              "\n",
              "  .colab-df-quickchart:hover {\n",
              "    background-color: var(--hover-bg-color);\n",
              "    box-shadow: 0 1px 2px rgba(60, 64, 67, 0.3), 0 1px 3px 1px rgba(60, 64, 67, 0.15);\n",
              "    fill: var(--button-hover-fill-color);\n",
              "  }\n",
              "\n",
              "  .colab-df-quickchart-complete:disabled,\n",
              "  .colab-df-quickchart-complete:disabled:hover {\n",
              "    background-color: var(--disabled-bg-color);\n",
              "    fill: var(--disabled-fill-color);\n",
              "    box-shadow: none;\n",
              "  }\n",
              "\n",
              "  .colab-df-spinner {\n",
              "    border: 2px solid var(--fill-color);\n",
              "    border-color: transparent;\n",
              "    border-bottom-color: var(--fill-color);\n",
              "    animation:\n",
              "      spin 1s steps(1) infinite;\n",
              "  }\n",
              "\n",
              "  @keyframes spin {\n",
              "    0% {\n",
              "      border-color: transparent;\n",
              "      border-bottom-color: var(--fill-color);\n",
              "      border-left-color: var(--fill-color);\n",
              "    }\n",
              "    20% {\n",
              "      border-color: transparent;\n",
              "      border-left-color: var(--fill-color);\n",
              "      border-top-color: var(--fill-color);\n",
              "    }\n",
              "    30% {\n",
              "      border-color: transparent;\n",
              "      border-left-color: var(--fill-color);\n",
              "      border-top-color: var(--fill-color);\n",
              "      border-right-color: var(--fill-color);\n",
              "    }\n",
              "    40% {\n",
              "      border-color: transparent;\n",
              "      border-right-color: var(--fill-color);\n",
              "      border-top-color: var(--fill-color);\n",
              "    }\n",
              "    60% {\n",
              "      border-color: transparent;\n",
              "      border-right-color: var(--fill-color);\n",
              "    }\n",
              "    80% {\n",
              "      border-color: transparent;\n",
              "      border-right-color: var(--fill-color);\n",
              "      border-bottom-color: var(--fill-color);\n",
              "    }\n",
              "    90% {\n",
              "      border-color: transparent;\n",
              "      border-bottom-color: var(--fill-color);\n",
              "    }\n",
              "  }\n",
              "</style>\n",
              "\n",
              "      <script>\n",
              "        async function quickchart(key) {\n",
              "          const quickchartButtonEl =\n",
              "            document.querySelector('#' + key + ' button');\n",
              "          quickchartButtonEl.disabled = true;  // To prevent multiple clicks.\n",
              "          quickchartButtonEl.classList.add('colab-df-spinner');\n",
              "          try {\n",
              "            const charts = await google.colab.kernel.invokeFunction(\n",
              "                'suggestCharts', [key], {});\n",
              "          } catch (error) {\n",
              "            console.error('Error during call to suggestCharts:', error);\n",
              "          }\n",
              "          quickchartButtonEl.classList.remove('colab-df-spinner');\n",
              "          quickchartButtonEl.classList.add('colab-df-quickchart-complete');\n",
              "        }\n",
              "        (() => {\n",
              "          let quickchartButtonEl =\n",
              "            document.querySelector('#df-91d9e675-8e63-4f36-b04d-b9565ef22ddb button');\n",
              "          quickchartButtonEl.style.display =\n",
              "            google.colab.kernel.accessAllowed ? 'block' : 'none';\n",
              "        })();\n",
              "      </script>\n",
              "    </div>\n",
              "\n",
              "  <div id=\"id_c27e882b-7800-4e37-835a-5818ae249a29\">\n",
              "    <style>\n",
              "      .colab-df-generate {\n",
              "        background-color: #E8F0FE;\n",
              "        border: none;\n",
              "        border-radius: 50%;\n",
              "        cursor: pointer;\n",
              "        display: none;\n",
              "        fill: #1967D2;\n",
              "        height: 32px;\n",
              "        padding: 0 0 0 0;\n",
              "        width: 32px;\n",
              "      }\n",
              "\n",
              "      .colab-df-generate:hover {\n",
              "        background-color: #E2EBFA;\n",
              "        box-shadow: 0px 1px 2px rgba(60, 64, 67, 0.3), 0px 1px 3px 1px rgba(60, 64, 67, 0.15);\n",
              "        fill: #174EA6;\n",
              "      }\n",
              "\n",
              "      [theme=dark] .colab-df-generate {\n",
              "        background-color: #3B4455;\n",
              "        fill: #D2E3FC;\n",
              "      }\n",
              "\n",
              "      [theme=dark] .colab-df-generate:hover {\n",
              "        background-color: #434B5C;\n",
              "        box-shadow: 0px 1px 3px 1px rgba(0, 0, 0, 0.15);\n",
              "        filter: drop-shadow(0px 1px 2px rgba(0, 0, 0, 0.3));\n",
              "        fill: #FFFFFF;\n",
              "      }\n",
              "    </style>\n",
              "    <button class=\"colab-df-generate\" onclick=\"generateWithVariable('real')\"\n",
              "            title=\"Generate code using this dataframe.\"\n",
              "            style=\"display:none;\">\n",
              "\n",
              "  <svg xmlns=\"http://www.w3.org/2000/svg\" height=\"24px\"viewBox=\"0 0 24 24\"\n",
              "       width=\"24px\">\n",
              "    <path d=\"M7,19H8.4L18.45,9,17,7.55,7,17.6ZM5,21V16.75L18.45,3.32a2,2,0,0,1,2.83,0l1.4,1.43a1.91,1.91,0,0,1,.58,1.4,1.91,1.91,0,0,1-.58,1.4L9.25,21ZM18.45,9,17,7.55Zm-12,3A5.31,5.31,0,0,0,4.9,8.1,5.31,5.31,0,0,0,1,6.5,5.31,5.31,0,0,0,4.9,4.9,5.31,5.31,0,0,0,6.5,1,5.31,5.31,0,0,0,8.1,4.9,5.31,5.31,0,0,0,12,6.5,5.46,5.46,0,0,0,6.5,12Z\"/>\n",
              "  </svg>\n",
              "    </button>\n",
              "    <script>\n",
              "      (() => {\n",
              "      const buttonEl =\n",
              "        document.querySelector('#id_c27e882b-7800-4e37-835a-5818ae249a29 button.colab-df-generate');\n",
              "      buttonEl.style.display =\n",
              "        google.colab.kernel.accessAllowed ? 'block' : 'none';\n",
              "\n",
              "      buttonEl.onclick = () => {\n",
              "        google.colab.notebook.generateWithVariable('real');\n",
              "      }\n",
              "      })();\n",
              "    </script>\n",
              "  </div>\n",
              "\n",
              "    </div>\n",
              "  </div>\n"
            ],
            "application/vnd.google.colaboratory.intrinsic+json": {
              "type": "dataframe",
              "variable_name": "real"
            }
          },
          "metadata": {},
          "execution_count": 91
        }
      ]
    },
    {
      "cell_type": "code",
      "source": [
        "from scipy.stats import ks_2samp, wasserstein_distance\n",
        "\n",
        "for col in ['amount', 'td', 'raw_amount']:\n",
        "    ks_stat, ks_p = ks_2samp(real_sorted[col], synth_sorted[col])\n",
        "    w_dist = wasserstein_distance(real_sorted[col], synth_sorted[col])\n",
        "    print(f\"{col} - KS p-value: {ks_p:.4f}, Wasserstein: {w_dist:.4f}\")\n"
      ],
      "metadata": {
        "colab": {
          "base_uri": "https://localhost:8080/"
        },
        "id": "KEa657M5YaQk",
        "outputId": "f7e247f8-de03-4d7f-dc08-098f1ae68b79"
      },
      "execution_count": null,
      "outputs": [
        {
          "output_type": "stream",
          "name": "stdout",
          "text": [
            "amount - KS p-value: 0.0000, Wasserstein: 465.6912\n",
            "td - KS p-value: 0.0000, Wasserstein: 200.9242\n",
            "raw_amount - KS p-value: 0.0000, Wasserstein: 1225.5368\n"
          ]
        }
      ]
    },
    {
      "cell_type": "code",
      "source": [
        "real_sorted.to_csv('real_sorted.csv')\n",
        "synth_sorted.to_csv('synth_sorted.csv')"
      ],
      "metadata": {
        "id": "drg8mw80dV9-"
      },
      "execution_count": null,
      "outputs": []
    },
    {
      "cell_type": "code",
      "source": [
        "import numpy as np\n",
        "import pandas as pd\n",
        "import matplotlib.pyplot as plt\n",
        "import seaborn as sns\n",
        "from scipy import stats\n",
        "from scipy.stats import wasserstein_distance\n",
        "\n",
        "from sklearn.metrics import mean_squared_error\n",
        "from sklearn.preprocessing import StandardScaler\n",
        "from sklearn.decomposition import PCA\n",
        "import warnings\n",
        "warnings.filterwarnings('ignore')\n",
        "\n",
        "class DataDistributionComparator:\n",
        "    def __init__(self, real_data, synthetic_data):\n",
        "        \"\"\"\n",
        "        Initialize with real and synthetic datasets\n",
        "\n",
        "        Parameters:\n",
        "        real_data: pandas DataFrame or numpy array\n",
        "        synthetic_data: pandas DataFrame or numpy array\n",
        "        \"\"\"\n",
        "        self.real_data = pd.DataFrame(real_data) if not isinstance(real_data, pd.DataFrame) else real_data\n",
        "        self.synthetic_data = pd.DataFrame(synthetic_data) if not isinstance(synthetic_data, pd.DataFrame) else synthetic_data\n",
        "\n",
        "        # Ensure same column names\n",
        "        if list(self.real_data.columns) != list(self.synthetic_data.columns):\n",
        "            common_cols = min(len(self.real_data.columns), len(self.synthetic_data.columns))\n",
        "            self.real_data.columns = [f'feature_{i}' for i in range(common_cols)]\n",
        "            self.synthetic_data.columns = [f'feature_{i}' for i in range(common_cols)]\n",
        "\n",
        "    def statistical_summary(self):\n",
        "        \"\"\"Compare basic statistical summaries\"\"\"\n",
        "        print(\"=== STATISTICAL SUMMARY COMPARISON ===\")\n",
        "        print(\"\\nReal Data Summary:\")\n",
        "        print(self.real_data.describe())\n",
        "        print(\"\\nSynthetic Data Summary:\")\n",
        "        print(self.synthetic_data.describe())\n",
        "\n",
        "        # Calculate summary differences\n",
        "        real_summary = self.real_data.describe()\n",
        "        synthetic_summary = self.synthetic_data.describe()\n",
        "\n",
        "        print(\"\\nAbsolute Differences in Statistics:\")\n",
        "        diff_summary = abs(real_summary - synthetic_summary)\n",
        "        print(diff_summary)\n",
        "\n",
        "        return real_summary, synthetic_summary, diff_summary\n",
        "\n",
        "    def distribution_plots(self, max_features=8):\n",
        "        \"\"\"Generate distribution comparison plots\"\"\"\n",
        "        n_features = min(len(self.real_data.columns), max_features)\n",
        "        cols = 2\n",
        "        rows = (n_features + 1) // cols\n",
        "\n",
        "        fig, axes = plt.subplots(rows, cols, figsize=(15, 4*rows))\n",
        "        axes = axes.flatten() if rows > 1 else [axes] if rows == 1 else axes\n",
        "\n",
        "        for i, col in enumerate(self.real_data.columns[:n_features]):\n",
        "            ax = axes[i]\n",
        "\n",
        "            # Plot histograms\n",
        "            ax.hist(self.real_data[col], alpha=0.7, bins=30, label='Real', density=True)\n",
        "            ax.hist(self.synthetic_data[col], alpha=0.7, bins=30, label='Synthetic', density=True)\n",
        "            ax.set_title(f'Distribution: {col}')\n",
        "            ax.legend()\n",
        "            ax.set_xlabel(col)\n",
        "            ax.set_ylabel('Density')\n",
        "\n",
        "        # Remove empty subplots\n",
        "        for j in range(i+1, len(axes)):\n",
        "            fig.delaxes(axes[j])\n",
        "\n",
        "        plt.tight_layout()\n",
        "        plt.show()\n",
        "\n",
        "    def qq_plots(self, max_features=8):\n",
        "        \"\"\"Generate Q-Q plots for distribution comparison\"\"\"\n",
        "        n_features = min(len(self.real_data.columns), max_features)\n",
        "        cols = 2\n",
        "        rows = (n_features + 1) // cols\n",
        "\n",
        "        fig, axes = plt.subplots(rows, cols, figsize=(15, 4*rows))\n",
        "        axes = axes.flatten() if rows > 1 else [axes] if rows == 1 else axes\n",
        "\n",
        "        for i, col in enumerate(self.real_data.columns[:n_features]):\n",
        "            ax = axes[i]\n",
        "\n",
        "            # Q-Q plot\n",
        "            stats.probplot(self.real_data[col], dist=\"norm\", plot=None)\n",
        "            real_quantiles = np.percentile(self.real_data[col], np.linspace(0, 100, 100))\n",
        "            synthetic_quantiles = np.percentile(self.synthetic_data[col], np.linspace(0, 100, 100))\n",
        "\n",
        "            ax.scatter(real_quantiles, synthetic_quantiles, alpha=0.6)\n",
        "            ax.plot([min(real_quantiles), max(real_quantiles)],\n",
        "                   [min(real_quantiles), max(real_quantiles)], 'r--', lw=2)\n",
        "            ax.set_title(f'Q-Q Plot: {col}')\n",
        "            ax.set_xlabel('Real Data Quantiles')\n",
        "            ax.set_ylabel('Synthetic Data Quantiles')\n",
        "\n",
        "        # Remove empty subplots\n",
        "        for j in range(i+1, len(axes)):\n",
        "            fig.delaxes(axes[j])\n",
        "\n",
        "        plt.tight_layout()\n",
        "        plt.show()\n",
        "\n",
        "    def correlation_heatmaps(self):\n",
        "        \"\"\"Compare correlation matrices\"\"\"\n",
        "        fig, axes = plt.subplots(1, 3, figsize=(20, 6))\n",
        "\n",
        "        # Real data correlation\n",
        "        real_corr = self.real_data.corr()\n",
        "        sns.heatmap(real_corr, annot=True, cmap='coolwarm', center=0, ax=axes[0])\n",
        "        axes[0].set_title('Real Data Correlation Matrix')\n",
        "\n",
        "        # Synthetic data correlation\n",
        "        synthetic_corr = self.synthetic_data.corr()\n",
        "        sns.heatmap(synthetic_corr, annot=True, cmap='coolwarm', center=0, ax=axes[1])\n",
        "        axes[1].set_title('Synthetic Data Correlation Matrix')\n",
        "\n",
        "        # Difference in correlations\n",
        "        corr_diff = abs(real_corr - synthetic_corr)\n",
        "        sns.heatmap(corr_diff, annot=True, cmap='Reds', ax=axes[2])\n",
        "        axes[2].set_title('Absolute Correlation Difference')\n",
        "\n",
        "        plt.tight_layout()\n",
        "        plt.show()\n",
        "\n",
        "        return real_corr, synthetic_corr, corr_diff\n",
        "\n",
        "    def pca_comparison(self):\n",
        "        \"\"\"Compare PCA representations\"\"\"\n",
        "        # Standardize data\n",
        "        scaler_real = StandardScaler()\n",
        "        scaler_synthetic = StandardScaler()\n",
        "\n",
        "        real_scaled = scaler_real.fit_transform(self.real_data)\n",
        "        synthetic_scaled = scaler_synthetic.fit_transform(self.synthetic_data)\n",
        "\n",
        "        # Apply PCA\n",
        "        pca = PCA(n_components=min(2, self.real_data.shape[1]))\n",
        "        real_pca = pca.fit_transform(real_scaled)\n",
        "        synthetic_pca = pca.transform(synthetic_scaled)\n",
        "\n",
        "        # Plot PCA\n",
        "        fig, axes = plt.subplots(1, 2, figsize=(15, 6))\n",
        "\n",
        "        # 2D PCA plot\n",
        "        axes[0].scatter(real_pca[:, 0], real_pca[:, 1], alpha=0.6, label='Real', s=20)\n",
        "        axes[0].scatter(synthetic_pca[:, 0], synthetic_pca[:, 1], alpha=0.6, label='Synthetic', s=20)\n",
        "        axes[0].set_title('PCA Comparison (2D)')\n",
        "        axes[0].set_xlabel('PC1')\n",
        "        axes[0].set_ylabel('PC2')\n",
        "        axes[0].legend()\n",
        "\n",
        "        # Explained variance\n",
        "        pca_full = PCA()\n",
        "        pca_full.fit(real_scaled)\n",
        "        axes[1].plot(np.cumsum(pca_full.explained_variance_ratio_), 'b-', label='Real')\n",
        "\n",
        "        pca_full.fit(synthetic_scaled)\n",
        "        axes[1].plot(np.cumsum(pca_full.explained_variance_ratio_), 'r-', label='Synthetic')\n",
        "        axes[1].set_title('Cumulative Explained Variance')\n",
        "        axes[1].set_xlabel('Number of Components')\n",
        "        axes[1].set_ylabel('Cumulative Explained Variance')\n",
        "        axes[1].legend()\n",
        "\n",
        "        plt.tight_layout()\n",
        "        plt.show()\n",
        "\n",
        "    def statistical_tests(self):\n",
        "        \"\"\"Perform statistical tests for distribution similarity\"\"\"\n",
        "        print(\"=== STATISTICAL TESTS ===\")\n",
        "        results = {}\n",
        "\n",
        "        for col in self.real_data.columns:\n",
        "            print(f\"\\n--- {col} ---\")\n",
        "\n",
        "            # Kolmogorov-Smirnov test\n",
        "            ks_stat, ks_p = stats.ks_2samp(self.real_data[col], self.synthetic_data[col])\n",
        "            print(f\"KS Test: statistic={ks_stat:.4f}, p-value={ks_p:.4f}\")\n",
        "\n",
        "            # Mann-Whitney U test\n",
        "            mw_stat, mw_p = stats.mannwhitneyu(self.real_data[col], self.synthetic_data[col], alternative='two-sided')\n",
        "            print(f\"Mann-Whitney U: statistic={mw_stat:.4f}, p-value={mw_p:.4f}\")\n",
        "\n",
        "            # Wasserstein distance\n",
        "            wd = wasserstein_distance(self.real_data[col], self.synthetic_data[col])\n",
        "            print(f\"Wasserstein Distance: {wd:.4f}\")\n",
        "\n",
        "            # Anderson-Darling test\n",
        "            try:\n",
        "                ad_stat, ad_crit, ad_p = stats.anderson_ksamp([self.real_data[col], self.synthetic_data[col]])\n",
        "                print(f\"Anderson-Darling: statistic={ad_stat:.4f}, p-value={ad_p:.4f}\")\n",
        "            except:\n",
        "                print(\"Anderson-Darling: Could not compute\")\n",
        "\n",
        "            results[col] = {\n",
        "                'ks_stat': ks_stat, 'ks_p': ks_p,\n",
        "                'mw_stat': mw_stat, 'mw_p': mw_p,\n",
        "                'wasserstein': wd\n",
        "            }\n",
        "\n",
        "        return results\n",
        "\n",
        "    def distribution_metrics(self):\n",
        "        \"\"\"Calculate various distribution similarity metrics\"\"\"\n",
        "        print(\"\\n=== DISTRIBUTION SIMILARITY METRICS ===\")\n",
        "        metrics = {}\n",
        "\n",
        "        for col in self.real_data.columns:\n",
        "            # Create histograms with same bins\n",
        "            combined = np.concatenate([self.real_data[col], self.synthetic_data[col]])\n",
        "            bins = np.histogram_bin_edges(combined, bins=30)\n",
        "\n",
        "            real_hist, _ = np.histogram(self.real_data[col], bins=bins, density=True)\n",
        "            synthetic_hist, _ = np.histogram(self.synthetic_data[col], bins=bins, density=True)\n",
        "\n",
        "            # Earth Mover's Distance (Wasserstein)\n",
        "            emd = wasserstein_distance(self.real_data[col], self.synthetic_data[col])\n",
        "\n",
        "            # Jensen-Shannon Divergence\n",
        "            def js_divergence(p, q):\n",
        "                p = p + 1e-10  # Add small epsilon to avoid log(0)\n",
        "                q = q + 1e-10\n",
        "                m = 0.5 * (p + q)\n",
        "                return 0.5 * stats.entropy(p, m) + 0.5 * stats.entropy(q, m)\n",
        "\n",
        "            js_div = js_divergence(real_hist, synthetic_hist)\n",
        "\n",
        "            # Histogram intersection\n",
        "            hist_intersection = np.sum(np.minimum(real_hist, synthetic_hist))\n",
        "\n",
        "            # Bhattacharyya distance\n",
        "            bc_coeff = np.sum(np.sqrt(real_hist * synthetic_hist))\n",
        "            bhatt_dist = -np.log(bc_coeff) if bc_coeff > 0 else float('inf')\n",
        "\n",
        "            metrics[col] = {\n",
        "                'earth_movers_distance': emd,\n",
        "                'jensen_shannon_divergence': js_div,\n",
        "                'histogram_intersection': hist_intersection,\n",
        "                'bhattacharyya_distance': bhatt_dist\n",
        "            }\n",
        "\n",
        "            print(f\"\\n{col}:\")\n",
        "            print(f\"  Earth Mover's Distance: {emd:.4f}\")\n",
        "            print(f\"  Jensen-Shannon Divergence: {js_div:.4f}\")\n",
        "            print(f\"  Histogram Intersection: {hist_intersection:.4f}\")\n",
        "            print(f\"  Bhattacharyya Distance: {bhatt_dist:.4f}\")\n",
        "\n",
        "        return metrics\n",
        "\n",
        "    def privacy_metrics(self):\n",
        "        \"\"\"Calculate privacy-related metrics\"\"\"\n",
        "        print(\"\\n=== PRIVACY METRICS ===\")\n",
        "\n",
        "        # Distance to Closest Record (DCR)\n",
        "        from sklearn.neighbors import NearestNeighbors\n",
        "\n",
        "        # Fit on real data, find nearest synthetic points\n",
        "        nn = NearestNeighbors(n_neighbors=1)\n",
        "        nn.fit(self.real_data)\n",
        "        distances, indices = nn.kneighbors(self.synthetic_data)\n",
        "\n",
        "        dcr_mean = np.mean(distances)\n",
        "        dcr_min = np.min(distances)\n",
        "\n",
        "        print(f\"Distance to Closest Record (DCR):\")\n",
        "        print(f\"  Mean: {dcr_mean:.4f}\")\n",
        "        print(f\"  Min: {dcr_min:.4f}\")\n",
        "\n",
        "        # Nearest Neighbor Distance Ratio (NNDR)\n",
        "        nn2 = NearestNeighbors(n_neighbors=2)\n",
        "        nn2.fit(self.real_data)\n",
        "        distances2, _ = nn2.kneighbors(self.synthetic_data)\n",
        "\n",
        "        nndr = distances2[:, 0] / (distances2[:, 1] + 1e-10)\n",
        "        nndr_mean = np.mean(nndr)\n",
        "\n",
        "        print(f\"Nearest Neighbor Distance Ratio (NNDR): {nndr_mean:.4f}\")\n",
        "\n",
        "        return {\n",
        "            'dcr_mean': dcr_mean,\n",
        "            'dcr_min': dcr_min,\n",
        "            'nndr_mean': nndr_mean\n",
        "        }\n",
        "\n",
        "    def comprehensive_report(self):\n",
        "        \"\"\"Generate a comprehensive comparison report\"\"\"\n",
        "        print(\"=\" * 60)\n",
        "        print(\"COMPREHENSIVE DATA DISTRIBUTION COMPARISON REPORT\")\n",
        "        print(\"=\" * 60)\n",
        "\n",
        "        # Statistical summary\n",
        "        real_stats, synthetic_stats, diff_stats = self.statistical_summary()\n",
        "\n",
        "        # Plots\n",
        "        print(\"\\nGenerating distribution plots...\")\n",
        "        self.distribution_plots()\n",
        "\n",
        "        print(\"\\nGenerating Q-Q plots...\")\n",
        "        self.qq_plots()\n",
        "\n",
        "        print(\"\\nGenerating correlation heatmaps...\")\n",
        "        real_corr, synthetic_corr, corr_diff = self.correlation_heatmaps()\n",
        "\n",
        "        print(\"\\nGenerating PCA comparison...\")\n",
        "        self.pca_comparison()\n",
        "\n",
        "        # Statistical tests\n",
        "        test_results = self.statistical_tests()\n",
        "\n",
        "        # Distribution metrics\n",
        "        dist_metrics = self.distribution_metrics()\n",
        "\n",
        "        # Privacy metrics\n",
        "        privacy_metrics = self.privacy_metrics()\n",
        "\n",
        "        # Overall similarity score\n",
        "        print(\"\\n=== OVERALL SIMILARITY ASSESSMENT ===\")\n",
        "\n",
        "        # Calculate average p-values from statistical tests\n",
        "        avg_ks_p = np.mean([test_results[col]['ks_p'] for col in test_results])\n",
        "        avg_mw_p = np.mean([test_results[col]['mw_p'] for col in test_results])\n",
        "        avg_wasserstein = np.mean([test_results[col]['wasserstein'] for col in test_results])\n",
        "\n",
        "        print(f\"Average KS Test p-value: {avg_ks_p:.4f}\")\n",
        "        print(f\"Average Mann-Whitney p-value: {avg_mw_p:.4f}\")\n",
        "        print(f\"Average Wasserstein Distance: {avg_wasserstein:.4f}\")\n",
        "\n",
        "        # Similarity interpretation\n",
        "        similarity_score = (avg_ks_p + avg_mw_p) / 2\n",
        "        if similarity_score > 0.05:\n",
        "            print(f\"\\nSIMILARITY ASSESSMENT: HIGH (p-value: {similarity_score:.4f})\")\n",
        "            print(\"The distributions are statistically similar.\")\n",
        "        elif similarity_score > 0.01:\n",
        "            print(f\"\\nSIMILARITY ASSESSMENT: MODERATE (p-value: {similarity_score:.4f})\")\n",
        "            print(\"The distributions show some differences.\")\n",
        "        else:\n",
        "            print(f\"\\nSIMILARITY ASSESSMENT: LOW (p-value: {similarity_score:.4f})\")\n",
        "            print(\"The distributions are significantly different.\")\n",
        "\n",
        "        return {\n",
        "            'statistical_summary': (real_stats, synthetic_stats, diff_stats),\n",
        "            'correlations': (real_corr, synthetic_corr, corr_diff),\n",
        "            'statistical_tests': test_results,\n",
        "            'distribution_metrics': dist_metrics,\n",
        "            'privacy_metrics': privacy_metrics,\n",
        "            'similarity_score': similarity_score\n",
        "        }\n",
        "\n",
        "# Example usage:\n",
        "def example_usage():\n",
        "    \"\"\"Example of how to use the DataDistributionComparator\"\"\"\n",
        "\n",
        "    # Generate example data\n",
        "    np.random.seed(42)\n",
        "\n",
        "    # Real data (multivariate normal)\n",
        "\n",
        "\n",
        "    # Create DataFrames\n",
        "    real_df = pd.DataFrame(real_sorted, columns=['Amount', 'raw_amount'])\n",
        "    synthetic_df = pd.DataFrame(synth_sorted, columns=['Amount', 'raw_amount'])\n",
        "\n",
        "    # Initialize comparator\n",
        "    comparator = DataDistributionComparator(real_df, synthetic_df)\n",
        "\n",
        "    # Run comprehensive comparison\n",
        "    results = comparator.comprehensive_report()\n",
        "\n",
        "    return results\n",
        "\n",
        "# Initialize with your data\n",
        "comparator = DataDistributionComparator(real_sorted, synth_sorted)\n",
        "\n",
        "# Run individual methods\n",
        "comparator.distribution_plots()\n",
        "comparator.qq_plots()\n",
        "comparator.correlation_heatmaps()\n",
        "\n",
        "# Or run the comprehensive report\n",
        "results = comparator.comprehensive_report()"
      ],
      "metadata": {
        "colab": {
          "base_uri": "https://localhost:8080/",
          "height": 1000
        },
        "id": "3AOx3bNrYsXc",
        "outputId": "5a7326d3-05b8-4e59-a9fb-f1b229eaf406"
      },
      "execution_count": null,
      "outputs": [
        {
          "output_type": "display_data",
          "data": {
            "text/plain": [
              "<Figure size 1500x1600 with 8 Axes>"
            ],
            "image/png": "[encoded data removed]"
          },
          "metadata": {}
        }
      ]
    },
    {
      "cell_type": "code",
      "source": [
        "real_sorted=pd.read_csv('real_sorted.csv')\n",
        "synth_sorted=pd.read_csv('synth_sorted.csv')"
      ],
      "metadata": {
        "id": "MvHlKWBarAtB"
      },
      "execution_count": null,
      "outputs": []
    },
    {
      "cell_type": "code",
      "source": [
        "real_data.info()"
      ],
      "metadata": {
        "colab": {
          "base_uri": "https://localhost:8080/"
        },
        "id": "Nr5AkWA10YGu",
        "outputId": "26157b25-c549-4af4-befd-362012f692d8"
      },
      "execution_count": null,
      "outputs": [
        {
          "output_type": "stream",
          "name": "stdout",
          "text": [
            "<class 'pandas.core.frame.DataFrame'>\n",
            "RangeIndex: 10000 entries, 0 to 9999\n",
            "Data columns (total 10 columns):\n",
            " #   Column      Non-Null Count  Dtype  \n",
            "---  ------      --------------  -----  \n",
            " 0   datetime    10000 non-null  object \n",
            " 1   amount      10000 non-null  float64\n",
            " 2   raw_amount  10000 non-null  float64\n",
            " 3   month       10000 non-null  int64  \n",
            " 4   day         10000 non-null  int64  \n",
            " 5   dow         10000 non-null  int64  \n",
            " 6   year        10000 non-null  int64  \n",
            " 7   td          10000 non-null  float64\n",
            " 8   type        10000 non-null  object \n",
            " 9   dtme        10000 non-null  int64  \n",
            "dtypes: float64(3), int64(5), object(2)\n",
            "memory usage: 781.4+ KB\n"
          ]
        }
      ]
    },
    {
      "cell_type": "code",
      "source": [
        "# from sdmetrics.single_table import DCRBaselineProtection\n",
        "# from sdv.metadata import SingleTableMetadata\n",
        "\n",
        "# # Step 1: Detect metadata\n",
        "# metadata = SingleTableMetadata()\n",
        "# metadata.detect_from_dataframe(data=real_sorted)\n",
        "\n",
        "# # ✅ Step 2: Convert to dictionary\n",
        "# metadata_dict = metadata.to_dict()\n",
        "\n",
        "# # Step 3: Compute DCR breakdown\n",
        "# score = DCRBaselineProtection.compute_breakdown(\n",
        "#     real_data=real_sorted,\n",
        "#     synthetic_data=synth_sorted,\n",
        "#     metadata=metadata_dict\n",
        "# )\n",
        "\n",
        "# print(score)\n",
        "\n",
        "\n",
        "\n",
        "import numpy as np\n",
        "import matplotlib.pyplot as plt\n",
        "from scipy.stats import wasserstein_distance\n",
        "\n",
        "# -----------------------\n",
        "# Parameters\n",
        "# -----------------------\n",
        "epsilon = 0.60  # privacy budget\n",
        "sensitivity = 1.0  # assume bounded data in [0, 1] range\n",
        "\n",
        "# -----------------------\n",
        "# Generate Sample Data\n",
        "# -----------------------\n",
        "np.random.seed(42)\n",
        "real_data = real_sorted[['raw_amount']]\n",
        "synthetic_data = synth_sorted[['raw_amount']]\n",
        "\n",
        "# -----------------------\n",
        "# 1. Differentially Private Mean\n",
        "# -----------------------\n",
        "def dp_mean(data, epsilon, sensitivity):\n",
        "    true_mean = np.mean(data)\n",
        "    noise = np.random.laplace(loc=0.0, scale=sensitivity/epsilon)\n",
        "    return true_mean + noise\n",
        "\n",
        "dp_real_mean = dp_mean(real_data, epsilon, sensitivity)\n",
        "synthetic_mean = np.mean(synthetic_data)\n",
        "\n",
        "print(f\"Differentially Private Mean (Real): {dp_real_mean:.2f}\")\n",
        "print(f\"Mean (Synthetic): {synthetic_mean:.2f}\")\n",
        "\n",
        "# -----------------------\n",
        "# 2. Differentially Private Histogram\n",
        "# -----------------------\n",
        "def dp_histogram(data, bins, epsilon):\n",
        "    counts, bin_edges = np.histogram(data, bins=bins, range=(0, 10))\n",
        "    dp_counts = counts + np.random.laplace(scale=1/epsilon, size=len(counts))\n",
        "    dp_counts = np.clip(dp_counts, 0, None)  # remove negative counts\n",
        "    return dp_counts, bin_edges\n",
        "\n",
        "bins = 10\n",
        "dp_real_hist, bin_edges = dp_histogram(real_data, bins, epsilon)\n",
        "synthetic_hist, _ = np.histogram(synthetic_data, bins=bins, range=(0, 10))\n",
        "\n",
        "# Normalize for comparison\n",
        "dp_real_hist_norm = dp_real_hist / np.sum(dp_real_hist)\n",
        "synthetic_hist_norm = synthetic_hist / np.sum(synthetic_hist)\n",
        "\n",
        "# -----------------------\n",
        "# 3. Compute Histogram Distance\n",
        "# -----------------------\n",
        "distance = wasserstein_distance(dp_real_hist_norm, synthetic_hist_norm)\n",
        "print(f\"Wasserstein distance (DP real vs synthetic): {distance:.4f}\")\n",
        "\n",
        "# -----------------------\n",
        "# 4. Plotting\n",
        "# -----------------------\n",
        "plt.figure(figsize=(8, 4))\n",
        "plt.bar(bin_edges[:-1], dp_real_hist_norm, width=1, alpha=0.6, label=\"DP Real\", align='edge')\n",
        "plt.bar(bin_edges[:-1], synthetic_hist_norm, width=1, alpha=0.6, label=\"Synthetic\", align='edge')\n",
        "plt.legend()\n",
        "plt.title(\"DP Histogram Comparison\")\n",
        "plt.xlabel(\"Value\")\n",
        "plt.ylabel(\"Normalized Count\")\n",
        "plt.grid(True)\n",
        "plt.show()\n"
      ],
      "metadata": {
        "colab": {
          "base_uri": "https://localhost:8080/",
          "height": 464
        },
        "id": "7aCw5zQ8phBE",
        "outputId": "f25d169d-f53b-41ba-ec4f-9bcecef29a3d"
      },
      "execution_count": null,
      "outputs": [
        {
          "output_type": "stream",
          "name": "stdout",
          "text": [
            "Differentially Private Mean (Real): 186.16\n",
            "Mean (Synthetic): -718.11\n",
            "Wasserstein distance (DP real vs synthetic): 0.0463\n"
          ]
        },
        {
          "output_type": "display_data",
          "data": {
            "text/plain": [
              "<Figure size 800x400 with 1 Axes>"
            ],
            "image/png": "[encoded data removed]"
          },
          "metadata": {}
        }
      ]
    },
    {
      "cell_type": "code",
      "source": [
        "\n",
        "# from tensorflow_privacy.privacy.analysis import compute_dp_sgd_privacy\n",
        "# n = 1056320\n",
        "# batch_size = 700\n",
        "# noise_multiplier = 2.2\n",
        "# epochs = 100\n",
        "# delta = 1e-5\n",
        "# epsilon, _ = compute_dp_sgd_privacy.compute_dp_sgd_privacy(n=n, batch_size=batch_size,noise_multiplier=noise_multiplier,epochs=epochs,delta=delta)\n",
        "# epsilon"
      ],
      "metadata": {
        "id": "ItW1R9k71OFz"
      },
      "execution_count": null,
      "outputs": []
    },
    {
      "cell_type": "markdown",
      "source": [
        "## Evaluation"
      ],
      "metadata": {
        "id": "vbbKX41X8UNV"
      }
    },
    {
      "cell_type": "code",
      "source": [
        "import pandas as pd\n",
        "import numpy as np\n",
        "from datetime import datetime\n",
        "import nltk\n",
        "from nltk.util import ngrams\n",
        "from scipy.special import rel_entr\n",
        "from scipy.special import entr\n",
        "from scipy.spatial import distance\n",
        "\n",
        "from scipy.stats import energy_distance\n",
        "from scipy.stats import wasserstein_distance\n",
        "from scipy.stats import ks_2samp\n",
        "import random\n",
        "import os\n",
        "\n",
        "# random.seed(0)\n",
        "# np.random.seed(0)\n",
        "# os.environ['TF_DETERMINISTIC_OPS'] = '1'\n",
        "\n",
        "\n",
        "\n",
        "\n",
        "def ks_dist(real_obs, gen_obs):\n",
        "    stat, pval = ks_2samp(real_obs, gen_obs)\n",
        "\n",
        "    return stat\n",
        "\n",
        "def comapre_unidist_cont(CONT_FIELDS,CF_FIELD, real, synth, real_cf, synth_cf):\n",
        "    \"\"\"\n",
        "    CONT_FIELDS : list of continuous columns\n",
        "    CF_FIELD: name of the column in real_cf and synth_cf (used for computing cash flow)\n",
        "    CONTINUOUS_METRICS = {\"wasser\": wasserstein_distance, \"ks\": ks_dist,\"energy_d\": energy_distance}\n",
        "    real_cf, synth_cf: groupby([\"account_id\", \"month\", \"year\"]) real, and synth. and compute the sum of the raw_amount.\n",
        "\n",
        "    \"\"\"\n",
        "    CONTINUOUS_METRICS = {\"wasser\": wasserstein_distance, \"ks\": ks_dist,\"energy_d\": energy_distance}\n",
        "    univariate_cont_res = {}\n",
        "\n",
        "    for field in CONT_FIELDS:\n",
        "        univariate_cont_res[field] = {}\n",
        "        for name, fn in CONTINUOUS_METRICS.items():\n",
        "            univariate_cont_res[field][name] = fn(real[field], synth[field])\n",
        "\n",
        "    univariate_cont_res['CF'] = {}\n",
        "    for name, fn in CONTINUOUS_METRICS.items():\n",
        "        univariate_cont_res['CF'][name] = fn(real_cf[CF_FIELD], synth_cf[CF_FIELD])\n",
        "    return univariate_cont_res\n",
        "\n",
        "def comapre_unidist_cat(real, synth, field):\n",
        "    real_distribution = real[field].value_counts(normalize=True).sort_index()\n",
        "    synthetic_distribution = synth[field].value_counts(normalize=True).sort_index()\n",
        "    df_tcode = pd.merge(real_distribution, synthetic_distribution, left_index=True, right_index=True, how='outer')\n",
        "    df_tcode.columns = ['real', 'synthetic']\n",
        "\n",
        "    # Fill missing values with 0\n",
        "    df_tcode.fillna(0, inplace=True)\n",
        "    df_tcode['mid'] = (df_tcode['real'] + df_tcode['synthetic'])/2\n",
        "    kl_real_M = sum(rel_entr(df_tcode['real'], df_tcode['mid']))\n",
        "    kl_gen_M = sum(rel_entr(df_tcode['synthetic'], df_tcode['mid']))\n",
        "\n",
        "    jsd = (kl_real_M + kl_gen_M)/2\n",
        "    return jsd\n",
        "\n",
        "def create_ngramcount_df(df, n, field):\n",
        "    #gb = df.sort_values(by=[\"account_id\", \"datetime\"]).groupby(\"account_id\", sort=False)[field]\n",
        "    gb = df.groupby(\"account_id\", sort=False)[field]\n",
        "    ngram_list = gb.apply(lambda x: list(ngrams(x, n=n)))\n",
        "\n",
        "    counts = {}\n",
        "    for ngram_seq in ngram_list:\n",
        "        for ngram in ngram_seq:\n",
        "            ngram = str(ngram)[1:-1]\n",
        "            counts[ngram] = counts.get(ngram, 0) + 1\n",
        "\n",
        "\n",
        "    df = pd.DataFrame.from_dict(counts, orient=\"index\", columns=[\"counts\"]).sort_values(\"counts\", ascending=False)\n",
        "\n",
        "\n",
        "    return df.reset_index().rename(columns={\"index\": \"ngram\"})\n",
        "\n",
        "def compute_ngram_metrics(real_df, gen_df, field, n , pseudo_counts=0.0):\n",
        "\n",
        "\n",
        "    n_codes_unique = len(set(real_df[field].unique()).union(set(gen_df[field].unique())))\n",
        "\n",
        "\n",
        "    # create combo_df, which contains counts of all ngrams for both datasets (note: it omits any ngrams which do not occur in either dataset)\n",
        "    real_ngrams = create_ngramcount_df(real_df, n, field)\n",
        "    gen_ngrams = create_ngramcount_df(gen_df, n, field)\n",
        "    combo_df = pd.merge(real_ngrams, gen_ngrams, on=\"ngram\", how=\"outer\", suffixes=(\"_real\", \"_gen\")).fillna(0.0)\n",
        "\n",
        "\n",
        "    N_obs_real = real_ngrams[\"counts\"].sum()\n",
        "    N_obs_gen = gen_ngrams[\"counts\"].sum()\n",
        "    N_possible_ngrams = n_codes_unique**n\n",
        "\n",
        "\n",
        "    # add psudo-counts\n",
        "    combo_df[\"counts_real\"] += pseudo_counts\n",
        "    combo_df[\"ps_real\"] = combo_df[\"counts_real\"] / (N_obs_real + N_possible_ngrams*pseudo_counts)\n",
        "    combo_df[\"counts_gen\"] += pseudo_counts\n",
        "    combo_df[\"ps_gen\"] = combo_df[\"counts_gen\"] / (N_obs_gen + N_possible_ngrams*pseudo_counts)\n",
        "\n",
        "\n",
        "\n",
        "\n",
        "    # compute jsd (note: contribution to jsd from any ngram not in either dataset is 0)\n",
        "    combo_df[\"ps_mid\"] = (combo_df[\"ps_real\"] + combo_df[\"ps_gen\"])/2\n",
        "    kl_real_M = sum(rel_entr(combo_df[\"ps_real\"], combo_df[\"ps_mid\"]))\n",
        "    kl_gen_M = sum(rel_entr(combo_df[\"ps_gen\"], combo_df[\"ps_mid\"]))\n",
        "\n",
        "    jsd = (kl_real_M + kl_gen_M)/2\n",
        "\n",
        "\n",
        "    # compute entropy for both distributions\n",
        "    n_unobs = N_possible_ngrams - len(combo_df)\n",
        "\n",
        "    entr_r = entr(combo_df[\"ps_real\"]).sum()  # from observed\n",
        "\n",
        "    entr_g = entr(combo_df[\"ps_gen\"]).sum()  # from observed\n",
        "\n",
        "    results = {\"jsd\":jsd,\n",
        "                      \"entr_r\":entr_r,\n",
        "                      \"entr_g\":entr_g,\n",
        "                      \"NED\": entr_r - entr_g,\n",
        "                      \"l1\":distance.minkowski(combo_df[\"ps_real\"], combo_df[\"ps_gen\"], p=1),\n",
        "                      \"l2\":distance.minkowski(combo_df[\"ps_real\"], combo_df[\"ps_gen\"], p=2),\n",
        "                      \"jac\": distance.jaccard(combo_df[\"counts_real\"]>0, combo_df[\"counts_gen\"] > 0),\n",
        "                      \"count_r\": len(real_ngrams),\n",
        "                      \"coverage_r\": len(real_ngrams)/N_possible_ngrams,\n",
        "                      \"count_g\": len(gen_ngrams),\n",
        "                      \"coverage_g\": len(gen_ngrams)/N_possible_ngrams,\n",
        "                      \"count_max\": N_possible_ngrams,\n",
        "                      \"field\": field,\n",
        "                       \"n\":n,\n",
        "                       \"pseudo_counts\":pseudo_counts}\n",
        "\n",
        "    return combo_df, results\n",
        "\n",
        "#joint distribution of two categorical columns\n",
        "def compute_2d_categorical_metrics(real_df, gen_df, field1, field2):\n",
        "    f1_opts = set(real_df[field1].unique()).union(set(gen_df[field1].unique()))\n",
        "    f2_opts = set(real_df[field2].unique()).union(set(gen_df[field2].unique()))\n",
        "\n",
        "    n_opts_total = len(f1_opts) * len(f2_opts)\n",
        "\n",
        "    kl_r_m = 0.\n",
        "    kl_g_m = 0.\n",
        "    entr_r = 0.\n",
        "    entr_g = 0.\n",
        "    l1_d = 0.\n",
        "    l2_d = 0.\n",
        "    count_g = 0.\n",
        "    count_r = 0.\n",
        "\n",
        "    observed_opts = 0\n",
        "\n",
        "    cont_metric_results = {}\n",
        "    for code_1 in f1_opts:\n",
        "        for code_2 in f2_opts:\n",
        "            cond_r = np.logical_and(real_df[field1] == code_1, real_df[field2] == code_2)\n",
        "            cond_g = np.logical_and(gen_df[field1] == code_1, gen_df[field2] == code_2)\n",
        "\n",
        "            p_r = (np.sum(cond_r)) / (len(cond_r))\n",
        "            p_g = (np.sum(cond_g)) / (len(cond_g))\n",
        "            p_m = (p_r + p_g) / 2.\n",
        "\n",
        "            if np.sum(cond_r) + np.sum(cond_g) > 0:\n",
        "                observed_opts += 1\n",
        "\n",
        "\n",
        "            count_r += int(np.sum(cond_r) > 0)\n",
        "            count_g += int(np.sum(cond_g) > 0)\n",
        "\n",
        "            l1_d += np.abs(p_r - p_g)\n",
        "            l2_d += (p_r - p_g) ** 2\n",
        "\n",
        "\n",
        "            if p_r > 0:\n",
        "                kl_r_m += p_r * np.log(p_r / p_m)\n",
        "                entr_r += - p_r * np.log(p_r)\n",
        "\n",
        "            if p_g > 0:\n",
        "                kl_g_m += p_g * np.log(p_g / p_m)\n",
        "                entr_g += - p_g * np.log(p_g)\n",
        "\n",
        "    # compute jaccard\n",
        "    sr = set(zip(real_df[field1].to_list(), real_df[field2].to_list()))\n",
        "    sg = set(zip(gen_df[field1].to_list(), gen_df[field2].to_list()))\n",
        "    s_union = len(sr.union(sg))\n",
        "    s_inter = len(sr.intersection(sg))\n",
        "    jacc_d = (s_union - s_inter) / s_union\n",
        "\n",
        "    # finshed l2\n",
        "    l2_d = np.sqrt(l2_d)\n",
        "\n",
        "    # coverage\n",
        "    coverage_g = count_g / n_opts_total\n",
        "    coverage_r = count_r / n_opts_total\n",
        "\n",
        "    #jsd\n",
        "    jsd = (kl_r_m + kl_g_m) / 2\n",
        "\n",
        "\n",
        "    result = {'jsd': jsd,\n",
        "                    'entr_r': entr_r,\n",
        "                    'entr_g': entr_g,\n",
        "                    'l1': l1_d,\n",
        "                    'l2': l2_d,\n",
        "                    'jac': jacc_d,\n",
        "                    'count_r': count_r,\n",
        "                    'coverage_r': coverage_r,\n",
        "                    'count_g': count_g,\n",
        "                    'coverage_g': coverage_g,\n",
        "                    'count_max': n_opts_total}\n",
        "    return result\n",
        "\n"
      ],
      "metadata": {
        "id": "1BtiZj1k8OoU"
      },
      "execution_count": null,
      "outputs": []
    },
    {
      "cell_type": "code",
      "source": [
        "combo_df, result = compute_ngram_metrics(real_sorted, synth_sorted, 'tcode', 3)\n",
        "result\n",
        "\n"
      ],
      "metadata": {
        "colab": {
          "base_uri": "https://localhost:8080/"
        },
        "id": "z7BANV3V8WkM",
        "outputId": "bef4262a-bae9-499b-8988-be062ab2ed1c"
      },
      "execution_count": null,
      "outputs": [
        {
          "output_type": "execute_result",
          "data": {
            "text/plain": [
              "{'jsd': 0.17490200518226243,\n",
              " 'entr_r': np.float64(5.425261658301508),\n",
              " 'entr_g': np.float64(6.142695062410825),\n",
              " 'NED': np.float64(-0.7174334041093164),\n",
              " 'l1': np.float64(0.9028012838710908),\n",
              " 'l2': 0.075932281597543,\n",
              " 'jac': np.float64(0.5581395348837209),\n",
              " 'count_r': 1431,\n",
              " 'coverage_r': 0.349365234375,\n",
              " 'count_g': 2785,\n",
              " 'coverage_g': 0.679931640625,\n",
              " 'count_max': 4096,\n",
              " 'field': 'tcode',\n",
              " 'n': 3,\n",
              " 'pseudo_counts': 0.0}"
            ]
          },
          "metadata": {},
          "execution_count": 99
        }
      ]
    },
    {
      "cell_type": "code",
      "source": [
        "CAT_FIELDS = ['tcode']\n",
        "result_jst_cat = {}\n",
        "for field in CAT_FIELDS:\n",
        "    result_jst_cat[field] = comapre_unidist_cat(real_sorted, synth_sorted, field)\n",
        "result_jst_cat"
      ],
      "metadata": {
        "colab": {
          "base_uri": "https://localhost:8080/"
        },
        "id": "wiTWpKSi8ZUc",
        "outputId": "b9b0c274-d94f-42e7-80c9-92e913b481f4"
      },
      "execution_count": null,
      "outputs": [
        {
          "output_type": "execute_result",
          "data": {
            "text/plain": [
              "{'tcode': 0.011267004803634382}"
            ]
          },
          "metadata": {},
          "execution_count": 94
        }
      ]
    },
    {
      "cell_type": "code",
      "source": [
        "CONT_FIELDS = [\"amount\", \"td\"]\n",
        "\n",
        "CF_FIELD = 'raw_amount'\n",
        "\n",
        "#compare univariate distribution of continuous columns\n",
        "comapre_unidist_cont(CONT_FIELDS,CF_FIELD, real_sorted, synth_sorted, real_cf, synth_cf)"
      ],
      "metadata": {
        "colab": {
          "base_uri": "https://localhost:8080/"
        },
        "id": "oA6egz1j8bJp",
        "outputId": "15b48091-3dd1-4f44-ef8e-4a413830acb1"
      },
      "execution_count": null,
      "outputs": [
        {
          "output_type": "execute_result",
          "data": {
            "text/plain": [
              "{'amount': {'wasser': np.float64(465.6911637870963),\n",
              "  'ks': np.float64(0.14004276415229924),\n",
              "  'energy_d': np.float64(5.5119527875386)},\n",
              " 'td': {'wasser': np.float64(200.92419701414164),\n",
              "  'ks': np.float64(0.44336293409934724),\n",
              "  'energy_d': np.float64(7.804267391161782)},\n",
              " 'CF': {'wasser': np.float64(6238.542111239304),\n",
              "  'ks': np.float64(0.2346297670961271),\n",
              "  'energy_d': np.float64(32.588742915210936)}}"
            ]
          },
          "metadata": {},
          "execution_count": 95
        }
      ]
    },
    {
      "cell_type": "code",
      "source": [
        "# JSD result comparing the univariate distributions of the tcode (Tcode), and DOM\n",
        "CAT_FIELDS = ['tcode', 'day', 'month']\n",
        "result_jst_cat = {}\n",
        "for field in CAT_FIELDS:\n",
        "    result_jst_cat[field] = comapre_unidist_cat(real, synth_sorted, field)\n",
        "result_jst_cat"
      ],
      "metadata": {
        "colab": {
          "base_uri": "https://localhost:8080/"
        },
        "id": "Cv403KKm8dGr",
        "outputId": "3dc4dc26-e42d-4c78-c2d9-f236e6776c95"
      },
      "execution_count": null,
      "outputs": [
        {
          "output_type": "execute_result",
          "data": {
            "text/plain": [
              "{'tcode': 0.011267004803634382,\n",
              " 'day': 0.020213444317475265,\n",
              " 'month': 0.03503929365982579}"
            ]
          },
          "metadata": {},
          "execution_count": 96
        }
      ]
    },
    {
      "cell_type": "code",
      "source": [
        "CONT_FIELDS = [\"amount\", \"td\"]\n",
        "\n",
        "CF_FIELD = 'raw_amount'\n",
        "\n",
        "#compare univariate distribution of continuous columns\n",
        "comapre_unidist_cont(CONT_FIELDS,CF_FIELD, real, synth_sorted, real_cf, synth_cf)"
      ],
      "metadata": {
        "colab": {
          "base_uri": "https://localhost:8080/"
        },
        "id": "-JhP09-K8erO",
        "outputId": "6d102a27-56a8-4e98-efd1-dab8ddef6d4f"
      },
      "execution_count": null,
      "outputs": [
        {
          "output_type": "execute_result",
          "data": {
            "text/plain": [
              "{'amount': {'wasser': np.float64(465.6911637870963),\n",
              "  'ks': np.float64(0.14004276415229924),\n",
              "  'energy_d': np.float64(5.5119527875386)},\n",
              " 'td': {'wasser': np.float64(200.92419701414164),\n",
              "  'ks': np.float64(0.44336293409934724),\n",
              "  'energy_d': np.float64(7.804267391161782)},\n",
              " 'CF': {'wasser': np.float64(6238.542111239304),\n",
              "  'ks': np.float64(0.2346297670961271),\n",
              "  'energy_d': np.float64(32.588742915210936)}}"
            ]
          },
          "metadata": {},
          "execution_count": 97
        }
      ]
    },
    {
      "cell_type": "code",
      "source": [
        "field1='tcode'\n",
        "field2='day'\n",
        "\n",
        "compute_2d_categorical_metrics(real_sorted, synth_sorted, field1, field2)"
      ],
      "metadata": {
        "colab": {
          "base_uri": "https://localhost:8080/"
        },
        "id": "YXa_H_lm8gUg",
        "outputId": "bc4129d3-ac1f-420c-f430-b8f8eb4c6aaa"
      },
      "execution_count": null,
      "outputs": [
        {
          "output_type": "execute_result",
          "data": {
            "text/plain": [
              "{'jsd': np.float64(0.06518080462623126),\n",
              " 'entr_r': np.float64(4.314351501994387),\n",
              " 'entr_g': np.float64(4.7887207825365365),\n",
              " 'l1': np.float64(0.5128064928681239),\n",
              " 'l2': np.float64(0.08879960989423331),\n",
              " 'jac': 0.5161290322580645,\n",
              " 'count_r': 240.0,\n",
              " 'coverage_r': 0.4838709677419355,\n",
              " 'count_g': 496.0,\n",
              " 'coverage_g': 1.0,\n",
              " 'count_max': 496}"
            ]
          },
          "metadata": {},
          "execution_count": 98
        }
      ]
    },
    {
      "cell_type": "code",
      "source": [
        "# build a metadata for evaluation (from SDV)\n",
        "metadata= SingleTableMetadata()\n",
        "metadata.detect_from_dataframe(data=real)\n",
        "\n",
        "#generate quality report\n",
        "quality_report= sdv_st.evaluate_quality(\n",
        "    real_data=real,\n",
        "    synthetic_data=synth_sorted,\n",
        "    metadata=metadata\n",
        ")"
      ],
      "metadata": {
        "colab": {
          "base_uri": "https://localhost:8080/"
        },
        "id": "Rzl-ICsD8iD0",
        "outputId": "75f61bc4-f52f-472a-a6c6-9c8b1db8120d"
      },
      "execution_count": null,
      "outputs": [
        {
          "output_type": "stream",
          "name": "stdout",
          "text": [
            "Generating report ...\n",
            "\n",
            "(1/2) Evaluating Column Shapes: |██████████| 12/12 [00:02<00:00,  4.38it/s]|\n",
            "Column Shapes Score: 80.6%\n",
            "\n",
            "(2/2) Evaluating Column Pair Trends: |██████████| 66/66 [00:05<00:00, 11.50it/s]|\n",
            "Column Pair Trends Score: 74.83%\n",
            "\n",
            "Overall Score (Average): 77.72%\n",
            "\n"
          ]
        }
      ]
    },
    {
      "cell_type": "code",
      "source": [
        "# using quantiletransfromation\n",
        "\n",
        "# {'jsd': 0.20895610685531635,\n",
        "#  'entr_r': np.float64(5.425261658301508),\n",
        "#  'entr_g': np.float64(6.470970665757771),\n",
        "#  'NED': np.float64(-1.0457090074562627),\n",
        "#  'l1': np.float64(1.0024058377229252),\n",
        "#  'l2': 0.08006365467671196,\n",
        "#  'jac': np.float64(0.5559477585598306),\n",
        "#  'count_r': 1431,\n",
        "#  'coverage_r': 0.349365234375,\n",
        "#  'count_g': 2660,\n",
        "#  'coverage_g': 0.6494140625,\n",
        "#  'count_max': 4096,\n",
        "#  'field': 'tcode',\n",
        "#  'n': 3,\n",
        "#  'pseudo_counts': 0.0}\n",
        "\n",
        "\n",
        "#  {'tcode': 0.02774456991668183}\n",
        "\n",
        "\n",
        "#  {'amount': {'wasser': np.float64(968.410722896976),\n",
        "#   'ks': np.float64(0.1406286340572203),\n",
        "#   'energy_d': np.float64(7.448278441147479)},\n",
        "#  'td': {'wasser': np.float64(126.02985964069423),\n",
        "#   'ks': np.float64(0.4282113009306922),\n",
        "#   'energy_d': np.float64(5.70706700837831)},\n",
        "#  'CF': {'wasser': np.float64(5247.605577433625),\n",
        "#   'ks': np.float64(0.18768472068778763),\n",
        "#   'energy_d': np.float64(26.143051713848166)}}\n",
        "\n",
        "\n",
        "#   {'jsd': np.float64(0.06410917108699209),\n",
        "#  'entr_r': np.float64(4.314351501994385),\n",
        "#  'entr_g': np.float64(4.740457509293517),\n",
        "#  'l1': np.float64(0.5334007575827873),\n",
        "#  'l2': np.float64(0.10117351080460896),\n",
        "#  'jac': 0.5370370370370371,\n",
        "#  'count_r': 240.0,\n",
        "#  'coverage_r': 0.4838709677419355,\n",
        "#  'count_g': 471.0,\n",
        "#  'coverage_g': 0.9495967741935484,\n",
        "#  'count_max': 496}\n",
        "\n",
        "\n",
        "# (1/2) Evaluating Column Shapes: |██████████| 12/12 [00:01<00:00,  6.61it/s]|\n",
        "# Column Shapes Score: 84.3%\n",
        "\n",
        "# (2/2) Evaluating Column Pair Trends: |██████████| 66/66 [00:05<00:00, 11.72it/s]|\n",
        "# Column Pair Trends Score: 78.71%\n",
        "\n",
        "# Overall Score (Average): 81.51%\n",
        "\n",
        "\n",
        "#################### minmax scaler\n",
        "\n",
        "# {'jsd': 0.21269415540111195,\n",
        "#  'entr_r': np.float64(5.425261658301508),\n",
        "#  'entr_g': np.float64(6.44288578106312),\n",
        "#  'NED': np.float64(-1.017624122761612),\n",
        "#  'l1': np.float64(1.012126580932822),\n",
        "#  'l2': 0.08190782959868136,\n",
        "#  'jac': np.float64(0.5562655307064253),\n",
        "#  'count_r': 1431,\n",
        "#  'coverage_r': 0.349365234375,\n",
        "#  'count_g': 2636,\n",
        "#  'coverage_g': 0.6435546875,\n",
        "#  'count_max': 4096,\n",
        "#  'field': 'tcode',\n",
        "#  'n': 3,\n",
        "#  'pseudo_counts': 0.0}\n",
        "\n",
        "\n",
        "#  {'tcode': 0.029975206665479072}\n",
        "\n",
        "\n",
        "\n",
        "#  {'amount': {'wasser': np.float64(4097.36361365561),\n",
        "#   'ks': np.float64(0.2365480164483358),\n",
        "#   'energy_d': np.float64(34.153042649603826)},\n",
        "#  'td': {'wasser': np.float64(139.95484090662794),\n",
        "#   'ks': np.float64(0.4323053983355605),\n",
        "#   'energy_d': np.float64(6.067448603527627)},\n",
        "#  'CF': {'wasser': np.float64(9090.25328216198),\n",
        "#   'ks': np.float64(0.20473236614961454),\n",
        "#   'energy_d': np.float64(45.5045052306492)}}\n",
        "\n",
        "\n",
        "\n",
        "# {'tcode': 0.029975206665479072,\n",
        "#  'day': 0.030672299940901253,\n",
        "#  'month': 0.03590046651411827}\n",
        "\n",
        "#   {'jsd': np.float64(0.06361582421202078),\n",
        "#  'entr_r': np.float64(4.31435150199439),\n",
        "#  'entr_g': np.float64(4.77432743272917),\n",
        "#  'l1': np.float64(0.546367792278892),\n",
        "#  'l2': np.float64(0.10059388366937012),\n",
        "#  'jac': 0.5185185185185185,\n",
        "#  'count_r': 240.0,\n",
        "#  'coverage_r': 0.4838709677419355,\n",
        "#  'count_g': 480.0,\n",
        "#  'coverage_g': 0.967741935483871,\n",
        "#  'count_max': 496}\n",
        "\n",
        "\n",
        "\n",
        "# standardization scaler\n",
        "\n",
        "# {'jsd': 0.21871622040355754,\n",
        "#  'entr_r': np.float64(5.425261658301508),\n",
        "#  'entr_g': np.float64(6.317139108886275),\n",
        "#  'NED': np.float64(-0.8918774505847669),\n",
        "#  'l1': np.float64(1.0246080237771358),\n",
        "#  'l2': 0.08424213105580201,\n",
        "#  'jac': np.float64(0.5533667621776505),\n",
        "#  'count_r': 1431,\n",
        "#  'coverage_r': 0.349365234375,\n",
        "#  'count_g': 2608,\n",
        "#  'coverage_g': 0.63671875,\n",
        "#  'count_max': 4096,\n",
        "#  'field': 'tcode',\n",
        "#  'n': 3,\n",
        "#  'pseudo_counts': 0.0}\n",
        "\n",
        "#  {'tcode': 0.03550033279814385}\n",
        "\n",
        "# {'amount': {'wasser': np.float64(1184.0571711537327),\n",
        "#   'ks': np.float64(0.21740345837695266),\n",
        "#   'energy_d': np.float64(13.36110780205315)},\n",
        "#  'td': {'wasser': np.float64(125.61508986666297),\n",
        "#   'ks': np.float64(0.43121447374176897),\n",
        "#   'energy_d': np.float64(5.623829249655311)},\n",
        "#  'CF': {'wasser': np.float64(7352.945519113788),\n",
        "#   'ks': np.float64(0.159792953599026),\n",
        "#   'energy_d': np.float64(31.66205270212965)}}\n",
        "\n",
        "# {'tcode': 0.03550033279814385,\n",
        "#  'day': 0.03472186205573735,\n",
        "#  'month': 0.03969638143057709}\n",
        "\n",
        "\n",
        "#  {'jsd': np.float64(0.06919931250185361),\n",
        "#  'entr_r': np.float64(4.3143515019943885),\n",
        "#  'entr_g': np.float64(4.794699466984028),\n",
        "#  'l1': np.float64(0.572270769850239),\n",
        "#  'l2': np.float64(0.10733262603391942),\n",
        "#  'jac': 0.5175983436853002,\n",
        "#  'count_r': 240.0,\n",
        "#  'coverage_r': 0.4838709677419355,\n",
        "#  'count_g': 476.0,\n",
        "#  'coverage_g': 0.9596774193548387,\n",
        "#  'count_max': 496}\n",
        "\n",
        "\n",
        "# (1/2) Evaluating Column Shapes: |██████████| 12/12 [00:01<00:00,  6.77it/s]|\n",
        "# Column Shapes Score: 82.46%\n",
        "\n",
        "# (2/2) Evaluating Column Pair Trends: |██████████| 66/66 [00:06<00:00, 10.51it/s]|\n",
        "# Column Pair Trends Score: 73.36%\n",
        "\n",
        "# Overall Score (Average): 77.91%\n",
        "\n",
        "\n",
        "###################\n",
        "# robust scaler\n",
        "\n",
        "{'jsd': 0.2238249506595363,\n",
        "#  'entr_r': np.float64(5.425261658301508),\n",
        "#  'entr_g': np.float64(6.468087022035875),\n",
        "#  'NED': np.float64(-1.0428253637343667),\n",
        "#  'l1': np.float64(1.038884341292078),\n",
        "#  'l2': 0.08316677979969443,\n",
        "#  'jac': np.float64(0.5601659751037344),\n",
        "#  'count_r': 1431,\n",
        "#  'coverage_r': 0.349365234375,\n",
        "#  'count_g': 2733,\n",
        "#  'coverage_g': 0.667236328125,\n",
        "#  'count_max': 4096,\n",
        "#  'field': 'tcode',\n",
        "#  'n': 3,\n",
        "#  'pseudo_counts': 0.0}\n",
        "\n",
        "\n",
        "#  {'tcode': 0.03769884734572386}\n",
        "\n",
        "# {'amount': {'wasser': np.float64(1436.3370398134352),\n",
        "#   'ks': np.float64(0.1892155429517546),\n",
        "#   'energy_d': np.float64(11.810592396524745)},\n",
        "#  'td': {'wasser': np.float64(129.2260706775895),\n",
        "#   'ks': np.float64(0.43184739122323335),\n",
        "#   'energy_d': np.float64(5.6902182153727505)},\n",
        "#  'CF': {'wasser': np.float64(4811.216476938086),\n",
        "#   'ks': np.float64(0.17638743125450845),\n",
        "#   'energy_d': np.float64(24.666484804077665)}}\n",
        "\n",
        "\n",
        "# {'tcode': 0.03769884734572386,\n",
        "#  'day': 0.03578081122324883,\n",
        "#  'month': 0.021950881272659734}\n",
        "\n",
        "# {'jsd': np.float64(0.07257442453923015),\n",
        "#  'entr_r': np.float64(4.3143515019943885),\n",
        "#  'entr_g': np.float64(4.8320032657329275),\n",
        "#  'l1': np.float64(0.5807335189265228),\n",
        "#  'l2': np.float64(0.10958341305469754),\n",
        "#  'jac': 0.5192697768762677,\n",
        "#  'count_r': 240.0,\n",
        "#  'coverage_r': 0.4838709677419355,\n",
        "#  'count_g': 490.0,\n",
        "#  'coverage_g': 0.9879032258064516,\n",
        "#  'count_max': 496}\n",
        "\n",
        "\n",
        "#  (1/2) Evaluating Column Shapes: |██████████| 12/12 [00:01<00:00,  6.55it/s]|\n",
        "# Column Shapes Score: 83.69%\n",
        "\n",
        "# (2/2) Evaluating Column Pair Trends: |██████████| 66/66 [00:05<00:00, 11.36it/s]|\n",
        "# Column Pair Trends Score: 74.05%\n",
        "\n",
        "# Overall Score (Average): 78.87%\n",
        "\n",
        "\n",
        " # yeo johnson---Power Transformation\n",
        "\n",
        "#  {'jsd': 0.21399510082575945,\n",
        "#  'entr_r': np.float64(5.425261658301508),\n",
        "#  'entr_g': np.float64(6.33399198903269),\n",
        "#  'NED': np.float64(-0.9087303307311814),\n",
        "#  'l1': np.float64(1.0138228453311977),\n",
        "#  'l2': 0.08342103237472027,\n",
        "#  'jac': np.float64(0.5546428571428571),\n",
        "#  'count_r': 1431,\n",
        "#  'coverage_r': 0.349365234375,\n",
        "#  'count_g': 2616,\n",
        "#  'coverage_g': 0.638671875,\n",
        "#  'count_max': 4096,\n",
        "#  'field': 'tcode',\n",
        "#  'n': 3,\n",
        "#  'pseudo_counts': 0.0}\n",
        "\n",
        "\n",
        "#  {'tcode': 0.03226479543497485}\n",
        "\n",
        "# {'amount': {'wasser': np.float64(11854.191423262853),\n",
        "#   'ks': np.float64(0.18017404641228188),\n",
        "#   'energy_d': np.float64(8.686935581859142)},\n",
        "#  'td': {'wasser': np.float64(128.10299283870805),\n",
        "#   'ks': np.float64(0.4295799031539563),\n",
        "#   'energy_d': np.float64(5.6317152086646765)},\n",
        "#  'CF': {'wasser': np.float64(50156.51252091241),\n",
        "#   'ks': np.float64(0.14878956069441968),\n",
        "#   'energy_d': np.float64(32.322595025021315)}}\n",
        "\n",
        "\n",
        "\n",
        "#   {'tcode': 0.03226479543497485,\n",
        "#  'day': 0.03153657041535282,\n",
        "#  'month': 0.038630186702060185}\n",
        "\n",
        "\n",
        "\n",
        "#  {'jsd': np.float64(0.06685884116011785),\n",
        "#  'entr_r': np.float64(4.3143515019943885),\n",
        "#  'entr_g': np.float64(4.801256970808941),\n",
        "#  'l1': np.float64(0.5576092485901796),\n",
        "#  'l2': np.float64(0.10263866578122155),\n",
        "#  'jac': 0.5133470225872689,\n",
        "#  'count_r': 240.0,\n",
        "#  'coverage_r': 0.4838709677419355,\n",
        "#  'count_g': 484.0,\n",
        "#  'coverage_g': 0.9758064516129032,\n",
        "#  'count_max': 496}\n",
        "\n",
        "\n",
        "#  (1/2) Evaluating Column Shapes: |██████████| 12/12 [00:01<00:00,  6.59it/s]|\n",
        "# Column Shapes Score: 83.53%\n",
        "\n",
        "# (2/2) Evaluating Column Pair Trends: |██████████| 66/66 [00:06<00:00, 10.74it/s]|\n",
        "# Column Pair Trends Score: 72.97%\n",
        "\n",
        "# Overall Score (Average): 78.25%"
      ],
      "metadata": {
        "id": "mFbl-_ddvSAc"
      },
      "execution_count": null,
      "outputs": []
    },
    {
      "cell_type": "code",
      "source": [
        "fig = quality_report.get_visualization(property_name='Column Shapes')\n",
        "fig.show()"
      ],
      "metadata": {
        "colab": {
          "base_uri": "https://localhost:8080/",
          "height": 542
        },
        "id": "3j2U_T1M8iWs",
        "outputId": "63f4b2a7-9ef4-4c2b-a28a-400d86aab589"
      },
      "execution_count": null,
      "outputs": [
        {
          "output_type": "display_data",
          "data": {
            "text/html": [
              "<html>\n",
              "<head><meta charset=\"utf-8\" /></head>\n",
              "<body>\n",
              "    <div>            <script src=\"https://cdnjs.cloudflare.com/ajax/libs/mathjax/2.7.5/MathJax.js?config=TeX-AMS-MML_SVG\"></script><script type=\"text/javascript\">if (window.MathJax && window.MathJax.Hub && window.MathJax.Hub.Config) {window.MathJax.Hub.Config({SVG: {font: \"STIX-Web\"}});}</script>                <script type=\"text/javascript\">window.PlotlyConfig = {MathJaxConfig: 'local'};</script>\n",
              "        <script charset=\"utf-8\" src=\"https://cdn.plot.ly/plotly-2.35.2.min.js\"></script>                <div id=\"2a48bed8-bc00-49b9-b3b1-3a19a3368053\" class=\"plotly-graph-div\" style=\"height:525px; width:100%;\"></div>            <script type=\"text/javascript\">                                    window.PLOTLYENV=window.PLOTLYENV || {};                                    if (document.getElementById(\"2a48bed8-bc00-49b9-b3b1-3a19a3368053\")) {                    Plotly.newPlot(                        \"2a48bed8-bc00-49b9-b3b1-3a19a3368053\",                        [{\"alignmentgroup\":\"True\",\"customdata\":[[\"TVComplement\"],[\"TVComplement\"],[\"TVComplement\"],[\"TVComplement\"]],\"hovertemplate\":\"\\u003cb\\u003e%{hovertext}\\u003c\\u002fb\\u003e\\u003cbr\\u003e\\u003cbr\\u003eMetric=%{customdata[0]}\\u003cbr\\u003eScore=%{y}\\u003cextra\\u003e\\u003c\\u002fextra\\u003e\",\"hovertext\":[\"tcode\",\"dow\",\"year\",\"type\"],\"legendgroup\":\"TVComplement\",\"marker\":{\"color\":\"#03AFF1\",\"pattern\":{\"shape\":\"\"}},\"name\":\"TVComplement\",\"offsetgroup\":\"TVComplement\",\"orientation\":\"v\",\"showlegend\":true,\"textposition\":\"auto\",\"x\":[\"tcode\",\"dow\",\"year\",\"type\"],\"xaxis\":\"x\",\"y\":[0.8015660877185885,0.9823842277619792,0.8623347660091716,0.9820179942610021],\"yaxis\":\"y\",\"type\":\"bar\"},{\"alignmentgroup\":\"True\",\"customdata\":[[\"KSComplement\"],[\"KSComplement\"],[\"KSComplement\"],[\"KSComplement\"],[\"KSComplement\"],[\"KSComplement\"],[\"KSComplement\"]],\"hovertemplate\":\"\\u003cb\\u003e%{hovertext}\\u003c\\u002fb\\u003e\\u003cbr\\u003e\\u003cbr\\u003eMetric=%{customdata[0]}\\u003cbr\\u003eScore=%{y}\\u003cextra\\u003e\\u003c\\u002fextra\\u003e\",\"hovertext\":[\"datetime\",\"amount\",\"raw_amount\",\"month\",\"day\",\"td\",\"dtme\"],\"legendgroup\":\"KSComplement\",\"marker\":{\"color\":\"#000036\",\"pattern\":{\"shape\":\"\\u002f\"}},\"name\":\"KSComplement\",\"offsetgroup\":\"KSComplement\",\"orientation\":\"v\",\"showlegend\":true,\"textposition\":\"auto\",\"x\":[\"datetime\",\"amount\",\"raw_amount\",\"month\",\"day\",\"td\",\"dtme\"],\"xaxis\":\"x\",\"y\":[0.8927968612565853,0.8593713659427797,0.879016636559143,0.7793777651455239,0.8590175736945546,0.5717886990693077,0.8037234231007621],\"yaxis\":\"y\",\"type\":\"bar\"}],                        {\"template\":{\"data\":{\"histogram2dcontour\":[{\"type\":\"histogram2dcontour\",\"colorbar\":{\"outlinewidth\":0,\"ticks\":\"\"},\"colorscale\":[[0.0,\"#0d0887\"],[0.1111111111111111,\"#46039f\"],[0.2222222222222222,\"#7201a8\"],[0.3333333333333333,\"#9c179e\"],[0.4444444444444444,\"#bd3786\"],[0.5555555555555556,\"#d8576b\"],[0.6666666666666666,\"#ed7953\"],[0.7777777777777778,\"#fb9f3a\"],[0.8888888888888888,\"#fdca26\"],[1.0,\"#f0f921\"]]}],\"choropleth\":[{\"type\":\"choropleth\",\"colorbar\":{\"outlinewidth\":0,\"ticks\":\"\"}}],\"histogram2d\":[{\"type\":\"histogram2d\",\"colorbar\":{\"outlinewidth\":0,\"ticks\":\"\"},\"colorscale\":[[0.0,\"#0d0887\"],[0.1111111111111111,\"#46039f\"],[0.2222222222222222,\"#7201a8\"],[0.3333333333333333,\"#9c179e\"],[0.4444444444444444,\"#bd3786\"],[0.5555555555555556,\"#d8576b\"],[0.6666666666666666,\"#ed7953\"],[0.7777777777777778,\"#fb9f3a\"],[0.8888888888888888,\"#fdca26\"],[1.0,\"#f0f921\"]]}],\"heatmap\":[{\"type\":\"heatmap\",\"colorbar\":{\"outlinewidth\":0,\"ticks\":\"\"},\"colorscale\":[[0.0,\"#0d0887\"],[0.1111111111111111,\"#46039f\"],[0.2222222222222222,\"#7201a8\"],[0.3333333333333333,\"#9c179e\"],[0.4444444444444444,\"#bd3786\"],[0.5555555555555556,\"#d8576b\"],[0.6666666666666666,\"#ed7953\"],[0.7777777777777778,\"#fb9f3a\"],[0.8888888888888888,\"#fdca26\"],[1.0,\"#f0f921\"]]}],\"heatmapgl\":[{\"type\":\"heatmapgl\",\"colorbar\":{\"outlinewidth\":0,\"ticks\":\"\"},\"colorscale\":[[0.0,\"#0d0887\"],[0.1111111111111111,\"#46039f\"],[0.2222222222222222,\"#7201a8\"],[0.3333333333333333,\"#9c179e\"],[0.4444444444444444,\"#bd3786\"],[0.5555555555555556,\"#d8576b\"],[0.6666666666666666,\"#ed7953\"],[0.7777777777777778,\"#fb9f3a\"],[0.8888888888888888,\"#fdca26\"],[1.0,\"#f0f921\"]]}],\"contourcarpet\":[{\"type\":\"contourcarpet\",\"colorbar\":{\"outlinewidth\":0,\"ticks\":\"\"}}],\"contour\":[{\"type\":\"contour\",\"colorbar\":{\"outlinewidth\":0,\"ticks\":\"\"},\"colorscale\":[[0.0,\"#0d0887\"],[0.1111111111111111,\"#46039f\"],[0.2222222222222222,\"#7201a8\"],[0.3333333333333333,\"#9c179e\"],[0.4444444444444444,\"#bd3786\"],[0.5555555555555556,\"#d8576b\"],[0.6666666666666666,\"#ed7953\"],[0.7777777777777778,\"#fb9f3a\"],[0.8888888888888888,\"#fdca26\"],[1.0,\"#f0f921\"]]}],\"surface\":[{\"type\":\"surface\",\"colorbar\":{\"outlinewidth\":0,\"ticks\":\"\"},\"colorscale\":[[0.0,\"#0d0887\"],[0.1111111111111111,\"#46039f\"],[0.2222222222222222,\"#7201a8\"],[0.3333333333333333,\"#9c179e\"],[0.4444444444444444,\"#bd3786\"],[0.5555555555555556,\"#d8576b\"],[0.6666666666666666,\"#ed7953\"],[0.7777777777777778,\"#fb9f3a\"],[0.8888888888888888,\"#fdca26\"],[1.0,\"#f0f921\"]]}],\"mesh3d\":[{\"type\":\"mesh3d\",\"colorbar\":{\"outlinewidth\":0,\"ticks\":\"\"}}],\"scatter\":[{\"fillpattern\":{\"fillmode\":\"overlay\",\"size\":10,\"solidity\":0.2},\"type\":\"scatter\"}],\"parcoords\":[{\"type\":\"parcoords\",\"line\":{\"colorbar\":{\"outlinewidth\":0,\"ticks\":\"\"}}}],\"scatterpolargl\":[{\"type\":\"scatterpolargl\",\"marker\":{\"colorbar\":{\"outlinewidth\":0,\"ticks\":\"\"}}}],\"bar\":[{\"error_x\":{\"color\":\"#2a3f5f\"},\"error_y\":{\"color\":\"#2a3f5f\"},\"marker\":{\"line\":{\"color\":\"#E5ECF6\",\"width\":0.5},\"pattern\":{\"fillmode\":\"overlay\",\"size\":10,\"solidity\":0.2}},\"type\":\"bar\"}],\"scattergeo\":[{\"type\":\"scattergeo\",\"marker\":{\"colorbar\":{\"outlinewidth\":0,\"ticks\":\"\"}}}],\"scatterpolar\":[{\"type\":\"scatterpolar\",\"marker\":{\"colorbar\":{\"outlinewidth\":0,\"ticks\":\"\"}}}],\"histogram\":[{\"marker\":{\"pattern\":{\"fillmode\":\"overlay\",\"size\":10,\"solidity\":0.2}},\"type\":\"histogram\"}],\"scattergl\":[{\"type\":\"scattergl\",\"marker\":{\"colorbar\":{\"outlinewidth\":0,\"ticks\":\"\"}}}],\"scatter3d\":[{\"type\":\"scatter3d\",\"line\":{\"colorbar\":{\"outlinewidth\":0,\"ticks\":\"\"}},\"marker\":{\"colorbar\":{\"outlinewidth\":0,\"ticks\":\"\"}}}],\"scattermapbox\":[{\"type\":\"scattermapbox\",\"marker\":{\"colorbar\":{\"outlinewidth\":0,\"ticks\":\"\"}}}],\"scatterternary\":[{\"type\":\"scatterternary\",\"marker\":{\"colorbar\":{\"outlinewidth\":0,\"ticks\":\"\"}}}],\"scattercarpet\":[{\"type\":\"scattercarpet\",\"marker\":{\"colorbar\":{\"outlinewidth\":0,\"ticks\":\"\"}}}],\"carpet\":[{\"aaxis\":{\"endlinecolor\":\"#2a3f5f\",\"gridcolor\":\"white\",\"linecolor\":\"white\",\"minorgridcolor\":\"white\",\"startlinecolor\":\"#2a3f5f\"},\"baxis\":{\"endlinecolor\":\"#2a3f5f\",\"gridcolor\":\"white\",\"linecolor\":\"white\",\"minorgridcolor\":\"white\",\"startlinecolor\":\"#2a3f5f\"},\"type\":\"carpet\"}],\"table\":[{\"cells\":{\"fill\":{\"color\":\"#EBF0F8\"},\"line\":{\"color\":\"white\"}},\"header\":{\"fill\":{\"color\":\"#C8D4E3\"},\"line\":{\"color\":\"white\"}},\"type\":\"table\"}],\"barpolar\":[{\"marker\":{\"line\":{\"color\":\"#E5ECF6\",\"width\":0.5},\"pattern\":{\"fillmode\":\"overlay\",\"size\":10,\"solidity\":0.2}},\"type\":\"barpolar\"}],\"pie\":[{\"automargin\":true,\"type\":\"pie\"}]},\"layout\":{\"autotypenumbers\":\"strict\",\"colorway\":[\"#636efa\",\"#EF553B\",\"#00cc96\",\"#ab63fa\",\"#FFA15A\",\"#19d3f3\",\"#FF6692\",\"#B6E880\",\"#FF97FF\",\"#FECB52\"],\"font\":{\"color\":\"#2a3f5f\"},\"hovermode\":\"closest\",\"hoverlabel\":{\"align\":\"left\"},\"paper_bgcolor\":\"white\",\"plot_bgcolor\":\"#E5ECF6\",\"polar\":{\"bgcolor\":\"#E5ECF6\",\"angularaxis\":{\"gridcolor\":\"white\",\"linecolor\":\"white\",\"ticks\":\"\"},\"radialaxis\":{\"gridcolor\":\"white\",\"linecolor\":\"white\",\"ticks\":\"\"}},\"ternary\":{\"bgcolor\":\"#E5ECF6\",\"aaxis\":{\"gridcolor\":\"white\",\"linecolor\":\"white\",\"ticks\":\"\"},\"baxis\":{\"gridcolor\":\"white\",\"linecolor\":\"white\",\"ticks\":\"\"},\"caxis\":{\"gridcolor\":\"white\",\"linecolor\":\"white\",\"ticks\":\"\"}},\"coloraxis\":{\"colorbar\":{\"outlinewidth\":0,\"ticks\":\"\"}},\"colorscale\":{\"sequential\":[[0.0,\"#0d0887\"],[0.1111111111111111,\"#46039f\"],[0.2222222222222222,\"#7201a8\"],[0.3333333333333333,\"#9c179e\"],[0.4444444444444444,\"#bd3786\"],[0.5555555555555556,\"#d8576b\"],[0.6666666666666666,\"#ed7953\"],[0.7777777777777778,\"#fb9f3a\"],[0.8888888888888888,\"#fdca26\"],[1.0,\"#f0f921\"]],\"sequentialminus\":[[0.0,\"#0d0887\"],[0.1111111111111111,\"#46039f\"],[0.2222222222222222,\"#7201a8\"],[0.3333333333333333,\"#9c179e\"],[0.4444444444444444,\"#bd3786\"],[0.5555555555555556,\"#d8576b\"],[0.6666666666666666,\"#ed7953\"],[0.7777777777777778,\"#fb9f3a\"],[0.8888888888888888,\"#fdca26\"],[1.0,\"#f0f921\"]],\"diverging\":[[0,\"#8e0152\"],[0.1,\"#c51b7d\"],[0.2,\"#de77ae\"],[0.3,\"#f1b6da\"],[0.4,\"#fde0ef\"],[0.5,\"#f7f7f7\"],[0.6,\"#e6f5d0\"],[0.7,\"#b8e186\"],[0.8,\"#7fbc41\"],[0.9,\"#4d9221\"],[1,\"#276419\"]]},\"xaxis\":{\"gridcolor\":\"white\",\"linecolor\":\"white\",\"ticks\":\"\",\"title\":{\"standoff\":15},\"zerolinecolor\":\"white\",\"automargin\":true,\"zerolinewidth\":2},\"yaxis\":{\"gridcolor\":\"white\",\"linecolor\":\"white\",\"ticks\":\"\",\"title\":{\"standoff\":15},\"zerolinecolor\":\"white\",\"automargin\":true,\"zerolinewidth\":2},\"scene\":{\"xaxis\":{\"backgroundcolor\":\"#E5ECF6\",\"gridcolor\":\"white\",\"linecolor\":\"white\",\"showbackground\":true,\"ticks\":\"\",\"zerolinecolor\":\"white\",\"gridwidth\":2},\"yaxis\":{\"backgroundcolor\":\"#E5ECF6\",\"gridcolor\":\"white\",\"linecolor\":\"white\",\"showbackground\":true,\"ticks\":\"\",\"zerolinecolor\":\"white\",\"gridwidth\":2},\"zaxis\":{\"backgroundcolor\":\"#E5ECF6\",\"gridcolor\":\"white\",\"linecolor\":\"white\",\"showbackground\":true,\"ticks\":\"\",\"zerolinecolor\":\"white\",\"gridwidth\":2}},\"shapedefaults\":{\"line\":{\"color\":\"#2a3f5f\"}},\"annotationdefaults\":{\"arrowcolor\":\"#2a3f5f\",\"arrowhead\":0,\"arrowwidth\":1},\"geo\":{\"bgcolor\":\"white\",\"landcolor\":\"#E5ECF6\",\"subunitcolor\":\"white\",\"showland\":true,\"showlakes\":true,\"lakecolor\":\"white\"},\"title\":{\"x\":0.05},\"mapbox\":{\"style\":\"light\"}}},\"xaxis\":{\"anchor\":\"y\",\"domain\":[0.0,1.0],\"title\":{\"text\":\"Column\"},\"categoryorder\":\"total ascending\"},\"yaxis\":{\"anchor\":\"x\",\"domain\":[0.0,1.0],\"title\":{\"text\":\"Score\"},\"range\":[0,1]},\"legend\":{\"title\":{\"text\":\"Metric\"},\"tracegroupgap\":0},\"title\":{\"text\":\"Data Quality: Column Shapes (Average Score=0.84)\"},\"barmode\":\"relative\",\"margin\":{\"t\":150},\"font\":{\"size\":18},\"plot_bgcolor\":\"#F5F5F8\"},                        {\"responsive\": true}                    ).then(function(){\n",
              "                            \n",
              "var gd = document.getElementById('2a48bed8-bc00-49b9-b3b1-3a19a3368053');\n",
              "var x = new MutationObserver(function (mutations, observer) {{\n",
              "        var display = window.getComputedStyle(gd).display;\n",
              "        if (!display || display === 'none') {{\n",
              "            console.log([gd, 'removed!']);\n",
              "            Plotly.purge(gd);\n",
              "            observer.disconnect();\n",
              "        }}\n",
              "}});\n",
              "\n",
              "// Listen for the removal of the full notebook cells\n",
              "var notebookContainer = gd.closest('#notebook-container');\n",
              "if (notebookContainer) {{\n",
              "    x.observe(notebookContainer, {childList: true});\n",
              "}}\n",
              "\n",
              "// Listen for the clearing of the current output cell\n",
              "var outputEl = gd.closest('.output');\n",
              "if (outputEl) {{\n",
              "    x.observe(outputEl, {childList: true});\n",
              "}}\n",
              "\n",
              "                        })                };                            </script>        </div>\n",
              "</body>\n",
              "</html>"
            ]
          },
          "metadata": {}
        }
      ]
    }
  ]
}